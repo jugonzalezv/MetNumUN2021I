{
  "nbformat": 4,
  "nbformat_minor": 0,
  "metadata": {
    "kernelspec": {
      "display_name": "Python 3",
      "language": "python",
      "name": "python3"
    },
    "language_info": {
      "codemirror_mode": {
        "name": "ipython",
        "version": 3
      },
      "file_extension": ".py",
      "mimetype": "text/x-python",
      "name": "python",
      "nbconvert_exporter": "python",
      "pygments_lexer": "ipython3",
      "version": "3.5.2"
    },
    "colab": {
      "name": "jugonzalezv_week7.ipynb",
      "provenance": []
    }
  },
  "cells": [
    {
      "cell_type": "markdown",
      "metadata": {
        "id": "fouzVlaKFrlL"
      },
      "source": [
        "# Initial value problem for ODEs"
      ]
    },
    {
      "cell_type": "markdown",
      "metadata": {
        "id": "GuwxaObuFrlO"
      },
      "source": [
        "# I. Euler's method for a first order ODE\n",
        "\n",
        "Consider a first order equation\n",
        "\n",
        "$$\n",
        "\\frac{d u}{d t} = \\lambda u\n",
        "$$\n",
        "\n",
        "with the initial condition $u(t=0) = u_0$.\n",
        "\n",
        "Here is a simple illustration of solving this equation with the explicit Euler method."
      ]
    },
    {
      "cell_type": "code",
      "metadata": {
        "collapsed": true,
        "id": "mU3pvqVeFrlP"
      },
      "source": [
        "import numpy as np\n",
        "import matplotlib.pyplot as plt\n",
        "from sklearn.metrics import mean_absolute_error\n",
        "%matplotlib notebook"
      ],
      "execution_count": 1,
      "outputs": []
    },
    {
      "cell_type": "code",
      "metadata": {
        "collapsed": true,
        "id": "TOk1R8sMFrlQ"
      },
      "source": [
        "def euler_solve(lam, u0, T, dt):\n",
        "    \"\"\"Solve $du/dt = \\lambda u$ on $0 < t < T$ with $u(t=0) = u0$ via an explicit Euler method.\"\"\"\n",
        "    num_steps = int(T/dt)\n",
        "    tt = np.arange(num_steps+1)*dt\n",
        "    y = np.empty(num_steps+1)\n",
        "    y[0] = u0\n",
        "    for k in range(num_steps):\n",
        "        y[k+1] = y[k] + dt*lam*y[k]\n",
        "    return tt, y"
      ],
      "execution_count": 2,
      "outputs": []
    },
    {
      "cell_type": "code",
      "metadata": {
        "colab": {
          "base_uri": "https://localhost:8080/",
          "height": 265
        },
        "id": "UZntCP2oFrlR",
        "outputId": "7349d989-345e-4d4b-d042-797679a3a8ba"
      },
      "source": [
        "lam = -0.5\n",
        "tt, y = euler_solve(lam, u0=1.0, T=5, dt=0.1)\n",
        "plt.plot(tt, y, 'o--', label='solucion numerica')\n",
        "plt.plot(tt, np.exp(lam*tt), '-', lw=2, label='ground truth')\n",
        "plt.legend(loc='best')\n",
        "plt.grid(True)"
      ],
      "execution_count": 5,
      "outputs": [
        {
          "output_type": "display_data",
          "data": {
            "image/png": "[encoded data removed]",
            "text/plain": [
              "<Figure size 432x288 with 1 Axes>"
            ]
          },
          "metadata": {
            "tags": [],
            "needs_background": "light"
          }
        }
      ]
    },
    {
      "cell_type": "markdown",
      "metadata": {
        "id": "FeQHMS0eFrlS"
      },
      "source": [
        "### Test I.1\n",
        "\n",
        "Test the function above for varying step size $\\tau$ (in the code it's `dt`), including $|\\lambda| \\tau > 1$? \n",
        "\n",
        "(10% of the grade)"
      ]
    },
    {
      "cell_type": "code",
      "metadata": {
        "collapsed": true,
        "colab": {
          "base_uri": "https://localhost:8080/"
        },
        "id": "khMf8gixFrlS",
        "outputId": "f6c9bdd0-ad65-46c5-aef5-e77481c483e9"
      },
      "source": [
        "\n",
        "tao = [3, 2, 1, 1e-1, 1e-2, 1e-3, 1e-4]\n",
        "lam = -0.5\n",
        "for dt in tao:\n",
        "    tt, y = euler_solve(lam, u0=1.0, T=5, dt=dt)\n",
        "    print(\"tao -\", dt, \"MAE -\", mean_absolute_error(np.exp(lam*tt), y))"
      ],
      "execution_count": 6,
      "outputs": [
        {
          "output_type": "stream",
          "text": [
            "tao - 3 MAE - 0.3615650800742149\n",
            "tao - 2 MAE - 0.16773824146935168\n",
            "tao - 1 MAE - 0.07436842381550283\n",
            "tao - 0.1 MAE - 0.007159245952545797\n",
            "tao - 0.01 MAE - 0.0007130252805831734\n",
            "tao - 0.001 MAE - 7.127347876430624e-05\n",
            "tao - 0.0001 MAE - 7.127057334425005e-06\n"
          ],
          "name": "stdout"
        }
      ]
    },
    {
      "cell_type": "markdown",
      "metadata": {
        "id": "IBWlf4n2FrlT"
      },
      "source": [
        "### Test I.2\n",
        "\n",
        "Implement a function for solving the same equation, $du/dt = \\lambda u$ using the implicit Euler scheme. Compare the behavior of the implicit and explicit Euler schemes. Discuss.\n",
        "\n",
        "(10% of the grade)"
      ]
    },
    {
      "cell_type": "code",
      "metadata": {
        "colab": {
          "base_uri": "https://localhost:8080/",
          "height": 265
        },
        "id": "Ewcov1uSLqAa",
        "outputId": "8c222e15-a9ae-4488-c845-4e5dd255b91f"
      },
      "source": [
        "def implict_euler_scheme(lam, u0, T, dt):\n",
        "    num_steps = int(T/dt)\n",
        "    tt = np.arange(num_steps+1)*dt\n",
        "    y = np.empty(num_steps+1)\n",
        "    y[0] = u0\n",
        "    for k in range(num_steps):\n",
        "        y[k+1] = y[k]/(1-dt*lam)\n",
        "    return tt, y\n",
        "\n",
        "lam = -0.5\n",
        "tt, y = implict_euler_scheme(lam, u0=1.0, T=5, dt=0.1)\n",
        "plt.plot(tt, y, 'o--', label='solucion numerica')\n",
        "plt.plot(tt, np.exp(lam*tt), '-', lw=2, label='ground truth')\n",
        "plt.legend(loc='best')\n",
        "plt.grid(True)"
      ],
      "execution_count": 10,
      "outputs": [
        {
          "output_type": "display_data",
          "data": {
            "image/png": "[encoded data removed]",
            "text/plain": [
              "<Figure size 432x288 with 1 Axes>"
            ]
          },
          "metadata": {
            "tags": [],
            "needs_background": "light"
          }
        }
      ]
    },
    {
      "cell_type": "markdown",
      "metadata": {
        "id": "ddIgVLCCQisD"
      },
      "source": [
        "los diagramas de euler implicito e explicito tienen un comportamiento bastante similar"
      ]
    },
    {
      "cell_type": "markdown",
      "metadata": {
        "id": "3TUfw-R8FrlV"
      },
      "source": [
        "## II. Stiff systems."
      ]
    },
    {
      "cell_type": "markdown",
      "metadata": {
        "id": "4v2VHdyeFrlV"
      },
      "source": [
        "Consider a system of two first order equations\n",
        "\n",
        "$$\n",
        "\\frac{d \\mathbf{u} }{d t} = A \\mathbf{u}\n",
        "$$\n",
        "\n",
        "where $\\mathbf{u}$ is a two-dimensional vector, and $A$ is a known constant 2$\\times$2 matrix.\n",
        "\n",
        "Implement a generalization of `euler_solve` routine for solving a system of linear first-order equations with time-independent matrix $A$ using the explicit Euler's method."
      ]
    },
    {
      "cell_type": "code",
      "metadata": {
        "collapsed": true,
        "id": "uC1agUasFrlW"
      },
      "source": [
        "def modified_euler_solve(A, u0, T, dt):\n",
        "    num_steps = int(T/dt)\n",
        "    tt = np.arange(num_steps+1)*dt\n",
        "    y = np.zeros((num_steps+1, u0.shape[0]))\n",
        "    y[0] = u0\n",
        "    for k in range(num_steps):\n",
        "        y[k+1] = y[k] + dt*A@y[k]\n",
        "    return tt, y"
      ],
      "execution_count": 11,
      "outputs": []
    },
    {
      "cell_type": "markdown",
      "metadata": {
        "id": "K4KB8_wuFrlW"
      },
      "source": [
        "### Test II.1\n",
        "\n",
        "Take \n",
        "$$\n",
        "A = \\begin{bmatrix} -10 & 10 \\\\ 32 & -499 \\end{bmatrix}\n",
        "$$\n",
        "\n",
        "and the initial condition $\\mathbf{u} = (1, 0)^T$.\n",
        "\n",
        "Solve the system using a fixed step size $\\tau=0.01$. Is the explicit Euler's method stable at this value of the step size?\n",
        "\n",
        "Find eigenvalues of $A$ (use `np.linalg.eigvals`) and comment whether the system is stif.\n",
        "\n",
        "(20% of the grade)"
      ]
    },
    {
      "cell_type": "code",
      "metadata": {
        "collapsed": true,
        "id": "Zbh7pjFKFrlW",
        "colab": {
          "base_uri": "https://localhost:8080/"
        },
        "outputId": "8657d1fd-08d8-4862-e61c-de6cfb7342aa"
      },
      "source": [
        "A = np.array([[-10, 10], [32, -499]])\n",
        "u = np.array([1,0]).T\n",
        "tt, y = modified_euler_solve(A, u, 5, 1e-2)\n",
        "\n",
        "print(np.linalg.eigvals(A))"
      ],
      "execution_count": 12,
      "outputs": [
        {
          "output_type": "stream",
          "text": [
            "[  -9.34647667 -499.65352333]\n"
          ],
          "name": "stdout"
        }
      ]
    },
    {
      "cell_type": "markdown",
      "metadata": {
        "id": "0Rlmq_aVFrlX"
      },
      "source": [
        "### Test II.2\n",
        "\n",
        "Implement the $\\textit{implicit}$ Euler's scheme for a system of first-order equations with constant coefficients. Note that at each time step you need to solve a system of linear algebraic equations, use `np.linalg.solve` for that.\n",
        "\n",
        "Use this routine to solve the system from Test II.1 at the same step size $\\tau=0.01$. Compare solutions obtained by an explicit and an implicit Euler's methods.\n",
        "\n",
        "(20% of the grade)"
      ]
    },
    {
      "cell_type": "code",
      "metadata": {
        "collapsed": true,
        "id": "6EuWu97FFrlX",
        "colab": {
          "base_uri": "https://localhost:8080/"
        },
        "outputId": "db991af9-f8c8-4e27-d437-ac09aa5c7450"
      },
      "source": [
        "def mod_implict_euler_scheme(A, u0, T, dt):\n",
        "    num_steps = int(T/dt)\n",
        "    tt = np.arange(num_steps+1)*dt\n",
        "    y = np.zeros((num_steps+1, u0.shape[0]))\n",
        "    y[0] = u0\n",
        "    for k in range(num_steps):\n",
        "        y[k+1] = np.linalg.solve((np.eye(A.shape[0])-dt*A), y[k])\n",
        "    return tt, y\n",
        "\n",
        "\n",
        "A = np.array([[-10, 10], [32, -499]])\n",
        "u = np.array([1,0]).T\n",
        "tt, y = mod_implict_euler_scheme(A, u, 5, 1e-2)\n",
        "\n",
        "print(np.linalg.eigvals(A))"
      ],
      "execution_count": 13,
      "outputs": [
        {
          "output_type": "stream",
          "text": [
            "[  -9.34647667 -499.65352333]\n"
          ],
          "name": "stdout"
        }
      ]
    },
    {
      "cell_type": "markdown",
      "metadata": {
        "collapsed": true,
        "id": "RIX_jOXgFrlX"
      },
      "source": [
        "# III. Second order ODEs.\n",
        "\n",
        "Consider a second order ODE, which describes a oscillating pendulum\n",
        "\n",
        "$$\n",
        "\\frac{d^2 u}{dt^2} + \\omega^2 u = 0\n",
        "$$\n",
        "\n",
        "Convert this second order ODE into a system of two first order ODEs.\n",
        "\n",
        "### Test III.1 \n",
        "\n",
        "Solve this system of equations using the explicit Euler's method over a time interval which includes at least several periods. We know that the equation of motion conserves energy, so that\n",
        "\n",
        "$$\n",
        "E = \\frac{u'^2}{2} + \\frac{\\omega^2 u^2}{2}\n",
        "$$\n",
        "\n",
        "should remain constant. Plot the dependence of $E$ on time for your numeric solution. Use several values of the time step. Does your discretized scheme conserve energy?\n",
        "\n",
        "(20% of the grade)"
      ]
    },
    {
      "cell_type": "code",
      "metadata": {
        "collapsed": true,
        "id": "dzJkroMMFrlX",
        "colab": {
          "base_uri": "https://localhost:8080/",
          "height": 282
        },
        "outputId": "72cbba42-21b9-44be-ca6b-39eb170d78cf"
      },
      "source": [
        "def oscilation_solve(w, u0, T, dt):\n",
        "    A = np.array([[0, 1], [-w**2, 0]])\n",
        "    return modified_euler_solve(A, u0, T, dt)\n",
        "    \n",
        "E = lambda u, du, w: du**2/2 + w**2*u**2/2\n",
        "\n",
        "tt,y = oscilation_solve(1, np.array([1,1]), 7, 1e-3)\n",
        "\n",
        "tt_y = E(y[:,0], y[:, 1], 1)\n",
        "\n",
        "plt.plot(tt, tt_y, label = \"E\")"
      ],
      "execution_count": 14,
      "outputs": [
        {
          "output_type": "execute_result",
          "data": {
            "text/plain": [
              "[<matplotlib.lines.Line2D at 0x7ff93d724190>]"
            ]
          },
          "metadata": {
            "tags": []
          },
          "execution_count": 14
        },
        {
          "output_type": "display_data",
          "data": {
            "image/png": "[encoded data removed]",
            "text/plain": [
              "<Figure size 432x288 with 1 Axes>"
            ]
          },
          "metadata": {
            "tags": [],
            "needs_background": "light"
          }
        }
      ]
    },
    {
      "cell_type": "markdown",
      "metadata": {
        "id": "4AOH_2zMFrlX"
      },
      "source": [
        "### Test III.2\n",
        "\n",
        "Implement the 2nd order Runge-Kutta scheme. Use it to solve the same equation with same time steps. Compare solutions produced by the RK method and the Euler's method at the same values of the time step. Check conservation of energy. Discuss.\n",
        "\n",
        "(20% of the grade)"
      ]
    },
    {
      "cell_type": "code",
      "metadata": {
        "collapsed": true,
        "id": "tiljZlNSFrlY",
        "colab": {
          "base_uri": "https://localhost:8080/",
          "height": 293
        },
        "outputId": "7d162bde-69ff-4f72-b4a5-a0ce3c3d25a5"
      },
      "source": [
        "def RK(A, u0, T, dt):\n",
        "    num_steps = int(T/dt)\n",
        "    tt = np.arange(num_steps+1)*dt\n",
        "    y = np.zeros((num_steps+1, u0.shape[0]))\n",
        "    y[0] = u0\n",
        "    for k in range(num_steps):\n",
        "        a1 = A@y[k]\n",
        "        a2 = A@(y[k]+dt/2*a1)\n",
        "        y[k+1] = dt*a2+y[k]\n",
        "    return tt, y\n",
        "def osc_slv_RK(w, u0, T, dt):\n",
        "    A = np.array([[0, 1], [-w**2, 0]])\n",
        "    return RK(A, u0, T, dt)\n",
        "\n",
        "tt,y = osc_slv_RK(1, np.array([1,1]), 7, 1e-3)\n",
        "\n",
        "tt_y = E(y[:,0], y[:, 1], 1)\n",
        "\n",
        "plt.plot(tt, tt_y, label = \"E\")"
      ],
      "execution_count": 15,
      "outputs": [
        {
          "output_type": "execute_result",
          "data": {
            "text/plain": [
              "[<matplotlib.lines.Line2D at 0x7ff93d81b710>]"
            ]
          },
          "metadata": {
            "tags": []
          },
          "execution_count": 15
        },
        {
          "output_type": "display_data",
          "data": {
            "image/png": "[encoded data removed]",
            "text/plain": [
              "<Figure size 432x288 with 1 Axes>"
            ]
          },
          "metadata": {
            "tags": [],
            "needs_background": "light"
          }
        }
      ]
    },
    {
      "cell_type": "markdown",
      "metadata": {
        "id": "8nN6T_YXP--A"
      },
      "source": [
        "se puede ver como en el esquema Runge-kutta, la energia del sistema se conserva mejor\n"
      ]
    }
  ]
}