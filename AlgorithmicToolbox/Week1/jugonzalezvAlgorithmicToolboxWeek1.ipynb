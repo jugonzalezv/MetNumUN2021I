{
  "nbformat": 4,
  "nbformat_minor": 0,
  "metadata": {
    "colab": {
      "name": "jagonzalezviAlgorithmicToolboxWeek1.ipynb",
      "provenance": [],
      "collapsed_sections": [],
      "toc_visible": true,
      "history_visible": true
    },
    "kernelspec": {
      "name": "python3",
      "display_name": "Python 3"
    },
    "language_info": {
      "name": "python"
    }
  },
  "cells": [
    {
      "cell_type": "markdown",
      "metadata": {
        "id": "N1ok_-56OjB1"
      },
      "source": [
        "# I Solving the Sum of Two Digits Programming Challenge"
      ]
    },
    {
      "cell_type": "markdown",
      "metadata": {
        "id": "MMY7kmDSO0KM"
      },
      "source": [
        "## C++"
      ]
    },
    {
      "cell_type": "code",
      "metadata": {
        "colab": {
          "base_uri": "https://localhost:8080/"
        },
        "id": "2pGGf9BkPNIk",
        "outputId": "492ebfae-6c7e-4cfb-b1d4-c25025b6527b"
      },
      "source": [
        "%%writefile sum.cpp\n",
        "#include <iostream>\n",
        "\n",
        "int sum_of_two_digits(int first_digit, int second_digit) {\n",
        "    return first_digit + second_digit;\n",
        "}\n",
        "\n",
        "int main() {\n",
        "    int a = 0;\n",
        "    int b = 0;\n",
        "    std::cin >> a;\n",
        "    std::cin >> b;\n",
        "    std::cout << sum_of_two_digits(a, b);\n",
        "    return 0;\n",
        "}"
      ],
      "execution_count": 2,
      "outputs": [
        {
          "output_type": "stream",
          "text": [
            "Writing sum.cpp\n"
          ],
          "name": "stdout"
        }
      ]
    },
    {
      "cell_type": "code",
      "metadata": {
        "colab": {
          "base_uri": "https://localhost:8080/"
        },
        "id": "0G3ZKOYAPXSU",
        "outputId": "5afb2909-05c1-4b53-dbf0-624de17fbd29"
      },
      "source": [
        "!g++ sum.cpp -o sum\n",
        "!./sum"
      ],
      "execution_count": 3,
      "outputs": [
        {
          "output_type": "stream",
          "text": [
            "1\n",
            "2\n",
            "3"
          ],
          "name": "stdout"
        }
      ]
    },
    {
      "cell_type": "markdown",
      "metadata": {
        "id": "iNkG2HqfTl9c"
      },
      "source": [
        "### Test input output files"
      ]
    },
    {
      "cell_type": "code",
      "metadata": {
        "colab": {
          "base_uri": "https://localhost:8080/"
        },
        "id": "aTzU2efzMxly",
        "outputId": "4341ef6c-98da-4204-ffeb-d5ca5fbccf0b"
      },
      "source": [
        "%%writefile input1.txt\n",
        "4 8"
      ],
      "execution_count": 4,
      "outputs": [
        {
          "output_type": "stream",
          "text": [
            "Writing input1.txt\n"
          ],
          "name": "stdout"
        }
      ]
    },
    {
      "cell_type": "markdown",
      "metadata": {
        "id": "pdkfsvs-T0Wr"
      },
      "source": [
        ""
      ]
    },
    {
      "cell_type": "code",
      "metadata": {
        "colab": {
          "base_uri": "https://localhost:8080/"
        },
        "id": "zBJ0Gc0NQRet",
        "outputId": "218c9a9c-9603-4b4f-e81f-c3d5d74eb78e"
      },
      "source": [
        "%%writefile output1.txt\n",
        "12"
      ],
      "execution_count": 5,
      "outputs": [
        {
          "output_type": "stream",
          "text": [
            "Writing output1.txt\n"
          ],
          "name": "stdout"
        }
      ]
    },
    {
      "cell_type": "code",
      "metadata": {
        "colab": {
          "base_uri": "https://localhost:8080/"
        },
        "id": "IjEcIx63PJAN",
        "outputId": "eb33d650-1c62-4b76-806f-f98a335d9ece"
      },
      "source": [
        "%%writefile input2.txt\n",
        "-5 9"
      ],
      "execution_count": 6,
      "outputs": [
        {
          "output_type": "stream",
          "text": [
            "Writing input2.txt\n"
          ],
          "name": "stdout"
        }
      ]
    },
    {
      "cell_type": "code",
      "metadata": {
        "colab": {
          "base_uri": "https://localhost:8080/"
        },
        "id": "Up9gOrxURTmd",
        "outputId": "e1f6163e-93a3-4dab-ede7-daf1149ac4bd"
      },
      "source": [
        "%%writefile output2.txt\n",
        "4"
      ],
      "execution_count": 7,
      "outputs": [
        {
          "output_type": "stream",
          "text": [
            "Writing output2.txt\n"
          ],
          "name": "stdout"
        }
      ]
    },
    {
      "cell_type": "code",
      "metadata": {
        "colab": {
          "base_uri": "https://localhost:8080/"
        },
        "id": "PST6G-s-Pwgc",
        "outputId": "672369a3-5883-4e19-dfdd-b76fce995686"
      },
      "source": [
        "!./sum < input1.txt"
      ],
      "execution_count": 8,
      "outputs": [
        {
          "output_type": "stream",
          "text": [
            "12"
          ],
          "name": "stdout"
        }
      ]
    },
    {
      "cell_type": "code",
      "metadata": {
        "colab": {
          "base_uri": "https://localhost:8080/"
        },
        "id": "cKxZOjSlRfIN",
        "outputId": "ac343273-17e4-4014-8193-992e9189c96b"
      },
      "source": [
        "!./sum < input2.txt"
      ],
      "execution_count": 9,
      "outputs": [
        {
          "output_type": "stream",
          "text": [
            "4"
          ],
          "name": "stdout"
        }
      ]
    },
    {
      "cell_type": "markdown",
      "metadata": {
        "id": "Qw2TQWCCUwqk"
      },
      "source": [
        "### Comparing files with grep\n",
        "\n",
        "https://askubuntu.com/questions/546796/comparing-two-text-files"
      ]
    },
    {
      "cell_type": "code",
      "metadata": {
        "id": "WVIaAmMKU4QM"
      },
      "source": [
        "!grep -xvFf output1.txt output1.txt "
      ],
      "execution_count": 10,
      "outputs": []
    },
    {
      "cell_type": "code",
      "metadata": {
        "colab": {
          "base_uri": "https://localhost:8080/"
        },
        "id": "MQU8gPPjQuYO",
        "outputId": "c3114abd-a150-4c94-b9d3-ee12c26b03cd"
      },
      "source": [
        "!grep -xvFf output1.txt output2.txt "
      ],
      "execution_count": 11,
      "outputs": [
        {
          "output_type": "stream",
          "text": [
            "4\n"
          ],
          "name": "stdout"
        }
      ]
    },
    {
      "cell_type": "code",
      "metadata": {
        "colab": {
          "base_uri": "https://localhost:8080/"
        },
        "id": "jYL9OuYBTD_l",
        "outputId": "719427c6-2b34-4e19-9e26-04fd9850c195"
      },
      "source": [
        "!grep -xvFf output2.txt output1.txt "
      ],
      "execution_count": 12,
      "outputs": [
        {
          "output_type": "stream",
          "text": [
            "12\n"
          ],
          "name": "stdout"
        }
      ]
    },
    {
      "cell_type": "code",
      "metadata": {
        "id": "Jlja0Xm4TX9M"
      },
      "source": [
        "!./sum < input1.txt> ctest1.txt\n",
        "!grep -xvFf output1.txt ctest1.txt"
      ],
      "execution_count": 13,
      "outputs": []
    },
    {
      "cell_type": "code",
      "metadata": {
        "id": "g9OIUZA_QLCQ"
      },
      "source": [
        "!./sum < input2.txt > ctest2.txt\n",
        "!grep -xvFf output2.txt ctest2.txt"
      ],
      "execution_count": 14,
      "outputs": []
    },
    {
      "cell_type": "markdown",
      "metadata": {
        "id": "3BgOaDjUVJk6"
      },
      "source": [
        "## Python"
      ]
    },
    {
      "cell_type": "code",
      "metadata": {
        "colab": {
          "base_uri": "https://localhost:8080/"
        },
        "id": "DBvl-T0CTN_8",
        "outputId": "92bac156-f213-45d6-d1a0-72b6407943a2"
      },
      "source": [
        "%%writefile sum.py\n",
        "# python3\n",
        "\n",
        "\n",
        "def sum_of_two_digits(first_digit, second_digit):\n",
        "    return first_digit + second_digit\n",
        "\n",
        "if __name__ == '__main__':\n",
        "    a, b = map(int, input().split())\n",
        "    print(sum_of_two_digits(a, b))"
      ],
      "execution_count": 15,
      "outputs": [
        {
          "output_type": "stream",
          "text": [
            "Writing sum.py\n"
          ],
          "name": "stdout"
        }
      ]
    },
    {
      "cell_type": "code",
      "metadata": {
        "colab": {
          "base_uri": "https://localhost:8080/"
        },
        "id": "QKoKM11_WGyF",
        "outputId": "b03e5196-2e4f-432e-bc03-8f27d8f2ada1"
      },
      "source": [
        "!python sum.py "
      ],
      "execution_count": 16,
      "outputs": [
        {
          "output_type": "stream",
          "text": [
            "1\n",
            "Traceback (most recent call last):\n",
            "  File \"sum.py\", line 8, in <module>\n",
            "    a, b = map(int, input().split())\n",
            "ValueError: not enough values to unpack (expected 2, got 1)\n"
          ],
          "name": "stdout"
        }
      ]
    },
    {
      "cell_type": "code",
      "metadata": {
        "id": "cocFbPRTWrqt"
      },
      "source": [
        "!python sum.py  < input1.txt> ptest1.txt\n",
        "!grep -xvFf output1.txt ptest1.txt"
      ],
      "execution_count": 17,
      "outputs": []
    },
    {
      "cell_type": "code",
      "metadata": {
        "id": "MorKTa-XXASN"
      },
      "source": [
        "!python sum.py  < input2.txt> ptest2.txt\n",
        "!grep -xvFf output2.txt ptest2.txt"
      ],
      "execution_count": 18,
      "outputs": []
    },
    {
      "cell_type": "markdown",
      "metadata": {
        "id": "uvP-mOubW_5F"
      },
      "source": [
        "# II Solving The Maximum Pairwise Product Programming Challenge in C++"
      ]
    },
    {
      "cell_type": "markdown",
      "metadata": {
        "id": "C12yoFR6Xonl"
      },
      "source": [
        "## C++"
      ]
    },
    {
      "cell_type": "code",
      "metadata": {
        "colab": {
          "base_uri": "https://localhost:8080/"
        },
        "id": "YL4qJX3tXxdd",
        "outputId": "e639c287-04f8-41e8-edb2-5b438ecad922"
      },
      "source": [
        "%%writefile max_pairwise_product1.cpp\n",
        "#include <iostream>\n",
        "#include <vector>\n",
        "#include <algorithm>\n",
        "\n",
        "int MaxPairwiseProduct(const std::vector<int>& numbers) {\n",
        "    int max_product = 0;\n",
        "    int n = numbers.size();\n",
        "\n",
        "    for (int first = 0; first < n; ++first) {\n",
        "        for (int second = first + 1; second < n; ++second) {\n",
        "            max_product = std::max(max_product,\n",
        "                numbers[first] * numbers[second]);\n",
        "        }\n",
        "    }\n",
        "\n",
        "    return max_product;\n",
        "}\n",
        "\n",
        "int main() {\n",
        "    int n;\n",
        "    std::cin >> n;\n",
        "    std::vector<int> numbers(n);\n",
        "    for (int i = 0; i < n; ++i) {\n",
        "        std::cin >> numbers[i];\n",
        "    }\n",
        "\n",
        "    std::cout << MaxPairwiseProduct(numbers) << \"\\n\";\n",
        "    return 0;\n",
        "}\n"
      ],
      "execution_count": 19,
      "outputs": [
        {
          "output_type": "stream",
          "text": [
            "Writing max_pairwise_product1.cpp\n"
          ],
          "name": "stdout"
        }
      ]
    },
    {
      "cell_type": "code",
      "metadata": {
        "colab": {
          "base_uri": "https://localhost:8080/"
        },
        "id": "KGxaEjvWX__O",
        "outputId": "7c080399-a55f-4078-dc63-f57292dbe8fa"
      },
      "source": [
        "!g++ max_pairwise_product1.cpp -o max_pairwise_product1\n",
        "!./max_pairwise_product1"
      ],
      "execution_count": 20,
      "outputs": [
        {
          "output_type": "stream",
          "text": [
            "2\n",
            "1 2\n",
            "2\n"
          ],
          "name": "stdout"
        }
      ]
    },
    {
      "cell_type": "markdown",
      "metadata": {
        "id": "IeZ3kTjpYmR9"
      },
      "source": [
        "### Test 1: lagest input numbers 200000 200000 in the input"
      ]
    },
    {
      "cell_type": "code",
      "metadata": {
        "colab": {
          "base_uri": "https://localhost:8080/"
        },
        "id": "LQNlZqaqYt7U",
        "outputId": "f0ff1305-5e57-4b90-810b-449a4d2ce327"
      },
      "source": [
        "%%writefile input1.txt\n",
        "5\n",
        "1 3 200000 9 200000 23"
      ],
      "execution_count": 21,
      "outputs": [
        {
          "output_type": "stream",
          "text": [
            "Overwriting input1.txt\n"
          ],
          "name": "stdout"
        }
      ]
    },
    {
      "cell_type": "code",
      "metadata": {
        "colab": {
          "base_uri": "https://localhost:8080/"
        },
        "id": "2Wad2VZUZDxR",
        "outputId": "20bccc19-2962-4e10-9474-c637e9eff403"
      },
      "source": [
        "!./max_pairwise_product1 < input1.txt"
      ],
      "execution_count": 22,
      "outputs": [
        {
          "output_type": "stream",
          "text": [
            "1345294336\n"
          ],
          "name": "stdout"
        }
      ]
    },
    {
      "cell_type": "code",
      "metadata": {
        "colab": {
          "base_uri": "https://localhost:8080/"
        },
        "id": "MPcmsxiQZSfE",
        "outputId": "32bdd5f9-f3e1-4746-b198-65f6d0ab6c6c"
      },
      "source": [
        "%%writefile max_pairwise_product2.cpp\n",
        "#include <iostream>\n",
        "#include <vector>\n",
        "#include <algorithm>\n",
        "\n",
        "long long MaxPairwiseProduct(const std::vector<int>& numbers) {\n",
        "    long long max_product = 0LL;\n",
        "\t  long long aux_product = 0LL;\n",
        "    int n = numbers.size();\n",
        "\n",
        "    for (int first = 0; first < n; ++first) {\n",
        "        for (int second = first + 1; second < n; ++second) {\n",
        "\t\t\t       aux_product =  (long long) numbers[first] * numbers[second];\n",
        "            if ( max_product < aux_product)  {\n",
        "\t\t\t\t        max_product = aux_product;\n",
        "             }\n",
        "        }\n",
        "    }\n",
        "\n",
        "    return max_product;\n",
        "}\n",
        "\n",
        "int main() {\n",
        "    int n;\n",
        "    std::cin >> n;\n",
        "    std::vector<int> numbers(n);\n",
        "    for (int i = 0; i < n; ++i) {\n",
        "        std::cin >> numbers[i];\n",
        "    }\n",
        "\n",
        "    std::cout << MaxPairwiseProduct(numbers) << \"\\n\";\n",
        "    return 0;\n",
        "}\n"
      ],
      "execution_count": 23,
      "outputs": [
        {
          "output_type": "stream",
          "text": [
            "Writing max_pairwise_product2.cpp\n"
          ],
          "name": "stdout"
        }
      ]
    },
    {
      "cell_type": "code",
      "metadata": {
        "colab": {
          "base_uri": "https://localhost:8080/"
        },
        "id": "I5pCeOG1Zm7s",
        "outputId": "b840a4ed-ed48-41dc-d273-f38cc5a96d82"
      },
      "source": [
        "!g++ max_pairwise_product2.cpp -o max_pairwise_product2\n",
        "!./max_pairwise_product2 < input1.txt"
      ],
      "execution_count": 24,
      "outputs": [
        {
          "output_type": "stream",
          "text": [
            "40000000000\n"
          ],
          "name": "stdout"
        }
      ]
    },
    {
      "cell_type": "markdown",
      "metadata": {
        "id": "9z9yr5QkeyJF"
      },
      "source": [
        "### Test 2  generate a tests file with the maximun n 200000 numbres and measure time"
      ]
    },
    {
      "cell_type": "code",
      "metadata": {
        "id": "oLiMjbAIfPlX",
        "colab": {
          "base_uri": "https://localhost:8080/"
        },
        "outputId": "d6e24299-b991-46b0-db4f-56a0b8f84763"
      },
      "source": [
        "%%writefile gen_ran.cpp\n",
        "#include <iostream>\n",
        "#include <vector>\n",
        "#include <algorithm>\n",
        "#include <iostream>\n",
        "#include <fstream>\n",
        "using namespace std;\n",
        "\n",
        "int main () {\n",
        "  int n = 200000;\n",
        "  ofstream myfile;\n",
        "  myfile.open (\"stress_case.txt\");\n",
        "  myfile << n << '\\n';\n",
        "  for(int i = 0; i<(n-2); i++){\n",
        "        myfile << rand() % n << ' ';\n",
        "  }\n",
        "  myfile << n << ' ' << n;\n",
        "  myfile.close();\n",
        "  return 0;\n",
        "}"
      ],
      "execution_count": 25,
      "outputs": [
        {
          "output_type": "stream",
          "text": [
            "Writing gen_ran.cpp\n"
          ],
          "name": "stdout"
        }
      ]
    },
    {
      "cell_type": "code",
      "metadata": {
        "id": "r-sUa9KkyVa0"
      },
      "source": [
        "!g++ gen_ran.cpp -o gen_ran\n",
        "!./gen_ran"
      ],
      "execution_count": 26,
      "outputs": []
    },
    {
      "cell_type": "markdown",
      "metadata": {
        "id": "sc9nOLQrfTm0"
      },
      "source": [
        "### Efficient solution "
      ]
    },
    {
      "cell_type": "code",
      "metadata": {
        "colab": {
          "base_uri": "https://localhost:8080/"
        },
        "id": "JDGePG2h0tmC",
        "outputId": "40f3c320-7bb4-4c35-f2f3-0eca5cbcfbc9"
      },
      "source": [
        "%%writefile efficient_pw.cpp\n",
        "#include <iostream>\n",
        "#include <vector>\n",
        "#include <fstream>\n",
        "using namespace std;\n",
        "\n",
        "int main () {\n",
        "    int n;\n",
        "    cin >> n;\n",
        "    vector<int> numbers(n);\n",
        "    for (int i = 0; i < n; ++i) {\n",
        "        std::cin >> numbers[i];\n",
        "    }\n",
        "    int index = 1;\n",
        "    for(int i =2; i<n; i++){\n",
        "        if(numbers[i]> numbers[index]){\n",
        "            index = i;\n",
        "        }\n",
        "        int temp = numbers[index];\n",
        "        numbers[index] = numbers[n];\n",
        "        numbers[n] = temp;\n",
        "    }\n",
        "    for(int i =2; i<(n-1); i++){\n",
        "        if(numbers[i]> numbers[index]){\n",
        "            index = i;\n",
        "        }\n",
        "        int temp = numbers[index];\n",
        "        numbers[index] = numbers[n-1];\n",
        "        numbers[n-1] = temp;\n",
        "    }\n",
        "    long long ans = (long long)numbers[n]*numbers[n-1];\n",
        "    cout << ans;\n",
        "}"
      ],
      "execution_count": 27,
      "outputs": [
        {
          "output_type": "stream",
          "text": [
            "Writing efficient_pw.cpp\n"
          ],
          "name": "stdout"
        }
      ]
    },
    {
      "cell_type": "markdown",
      "metadata": {
        "id": "bhqiKQG6fjKM"
      },
      "source": [
        "Stress tests "
      ]
    },
    {
      "cell_type": "code",
      "metadata": {
        "id": "9wjd140R63ND",
        "colab": {
          "base_uri": "https://localhost:8080/"
        },
        "outputId": "4166734d-45da-4db0-a70b-4cf4e78259d1"
      },
      "source": [
        "!g++ efficient_pw.cpp -o efficient_pw\n",
        "!./efficient_pw < stress_case.txt"
      ],
      "execution_count": 28,
      "outputs": [
        {
          "output_type": "stream",
          "text": [
            "40000000000"
          ],
          "name": "stdout"
        }
      ]
    },
    {
      "cell_type": "markdown",
      "metadata": {
        "id": "yBYnp6KjpxU0"
      },
      "source": [
        "Measure with test file of the maximun n 200000 numbers \n",
        "\n"
      ]
    },
    {
      "cell_type": "code",
      "metadata": {
        "colab": {
          "base_uri": "https://localhost:8080/"
        },
        "id": "swR1aDkF7JK6",
        "outputId": "a8aa3041-2173-4efe-a75e-e6330e1ede79"
      },
      "source": [
        "!time ./efficient_pw < stress_case.txt"
      ],
      "execution_count": 29,
      "outputs": [
        {
          "output_type": "stream",
          "text": [
            "40000000000\n",
            "real\t0m0.066s\n",
            "user\t0m0.064s\n",
            "sys\t0m0.001s\n"
          ],
          "name": "stdout"
        }
      ]
    },
    {
      "cell_type": "markdown",
      "metadata": {
        "id": "rydCU4bFfrhG"
      },
      "source": [
        "## Python"
      ]
    },
    {
      "cell_type": "code",
      "metadata": {
        "colab": {
          "base_uri": "https://localhost:8080/"
        },
        "id": "aorKYfCD8RJ3",
        "outputId": "cf36036f-54a8-4bd2-c289-d169fad8b396"
      },
      "source": [
        "def maxpair(numeros):\n",
        "  indice = 0\n",
        "  n = len(numeros)-1\n",
        "  for i in range (1,n):\n",
        "    if(numeros[i] > numeros[indice]):\n",
        "      indice = i\n",
        "  numeros[indice], numeros[n] = numeros[n], numeros[indice]\n",
        "  indice = 0\n",
        "  for i in range (1,n):\n",
        "    if (numeros[i]> numeros[indice]):\n",
        "       indice = i\n",
        "  numeros [indice],numeros[n-1] = numeros[n-1], numeros[indice]\n",
        "  return numeros[n]*numeros[n-1]\n",
        "\n",
        "with open(\"stress_case.txt\", \"r\") as file1:\n",
        "  arr = list(map(int, file1.readlines()[1].split()))\n",
        "\n",
        "import timeit as tt\n",
        "start = tt.default_timer()\n",
        "print(maxpair(arr))\n",
        "finish = tt.default_timer()"
      ],
      "execution_count": 33,
      "outputs": [
        {
          "output_type": "stream",
          "text": [
            "40000000000\n"
          ],
          "name": "stdout"
        }
      ]
    },
    {
      "cell_type": "markdown",
      "metadata": {
        "id": "j4YktYBS1mqY"
      },
      "source": [
        "Measure with test file of the maximun n 200000 numbers \n"
      ]
    },
    {
      "cell_type": "code",
      "metadata": {
        "colab": {
          "base_uri": "https://localhost:8080/"
        },
        "id": "SuuqbUAt1n5L",
        "outputId": "3bb3150b-4664-4f05-fba4-50beb080984a"
      },
      "source": [
        "print(finish-start)"
      ],
      "execution_count": 34,
      "outputs": [
        {
          "output_type": "stream",
          "text": [
            "0.036260286000015185\n"
          ],
          "name": "stdout"
        }
      ]
    }
  ]
}