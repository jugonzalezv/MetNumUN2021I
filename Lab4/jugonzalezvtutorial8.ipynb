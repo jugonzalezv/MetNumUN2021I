{
 "cells": [
  {
   "cell_type": "markdown",
   "metadata": {},
   "source": [
    "![QuantConnect Logo](https://cdn.quantconnect.com/web/i/icon.png)\n",
    "<hr>"
   ]
  },
  {
   "cell_type": "markdown",
   "metadata": {},
   "source": [
    "Introduction\n",
    "In the last chapter we discussed random variables and random distributions. Now we are going to use the distributions we learned to test our hypothesis and also to model the financial data. When building a trading strategy, it's essential to do some research. However, you won't be able to test your idea using all the data, because it's infinity. You can only use a sample to do your experiment. That's why we need to understand the difference between population and sample, and then use confidence interval to test our hypothesis.\n",
    "\n",
    "As we mentioned before, both mean and standard deviation are point estimation, and they can be deceiving because sample means are different from population means. Financial data is generated every day now and in the future, thus even though we can use all the data available, it's still just a sample. This is why we need to use confidence interval to attempt to determine how accurate our sample mean estimation is.\n",
    "\n",
    "Confidence Interval\n",
    "Sample Error\n",
    "Let's use the daily return on S&P 500 index from Aug 2010 to present is our population. If we take the recent 10 daily returns to calculate the mean, will it be the same as the population mean? How about increasing the sample size to 1000?"
   ]
  },
  {
   "cell_type": "code",
   "execution_count": null,
   "metadata": {},
   "outputs": [],
   "source": [
    "import matplotlib.pyplot as plt\n",
    "import numpy as np\n",
    "import pandas as pd\n",
    "\n",
    "qb = QuantBook()\n",
    "spy = qb.AddEquity(\"SPY\").Symbol\n",
    "\n",
    "#get SPY data from August 2010 to the present\n",
    "start_date = datetime(2010, 8, 1, 0, 0, 0)\n",
    "end_date = qb.Time\n",
    "spy_table = qb.History(spy, start_date, end_date, Resolution.Daily)\n",
    "\n",
    "spy_total = spy_table[['open','close']]\n",
    "#calculate log returns\n",
    "spy_log_return = np.log(spy_total.close).diff().dropna()\n",
    "print('Population mean:', np.mean(spy_log_return))\n",
    "print('Population standard deviation:',np.std(spy_log_return))"
   ]
  },
  {
   "cell_type": "markdown",
   "metadata": {},
   "source": [
    "Now let's check the recent 10 days sample and recent 1000 days sample:"
   ]
  },
  {
   "cell_type": "code",
   "execution_count": null,
   "metadata": {},
   "outputs": [],
   "source": [
    "print('10 days sample returns:', np.mean(spy_log_return.tail(10)))\n",
    "\n",
    "print('10 days sample standard deviation:', np.std(spy_log_return.tail(10)))\n",
    "\n",
    "print('1000 days sample returns:', np.mean(spy_log_return.tail(1000)))\n",
    "\n",
    "print('1000 days sample standard deviation:', np.std(spy_log_return.tail(1000)))\n"
   ]
  },
  {
   "cell_type": "markdown",
   "metadata": {},
   "source": [
    "Where \\(\\sigma \\) is the sample standard deviation and \\(n\\) is the sample size.\n",
    "    "
   ]
  },
  {
   "cell_type": "code",
   "execution_count": null,
   "metadata": {},
   "outputs": [],
   "source": [
    "#apply the formula above to calculate confidence interval\n",
    "bottom_1 = np.mean(spy_log_return.tail(10))-1.96*np.std(spy_log_return.tail(10))/(np.sqrt(len((spy_log_return.tail(10)))))\n",
    "upper_1 = np.mean(spy_log_return.tail(10))+1.96*np.std(spy_log_return.tail(10))/(np.sqrt(len((spy_log_return.tail(10)))))\n",
    "bottom_2 = np.mean(spy_log_return.tail(1000))-1.96*np.std(spy_log_return.tail(1000))/(np.sqrt(len((spy_log_return.tail(1000)))))\n",
    "upper_2 = np.mean(spy_log_return.tail(1000))+1.96*np.std(spy_log_return.tail(1000))/(np.sqrt(len((spy_log_return.tail(1000)))))\n",
    "#print the outcomes\n",
    "print('10 days 95% confidence inverval:', (bottom_1,upper_1))\n",
    "print('1000 days 95% confidence inverval:', (bottom_2,upper_2))"
   ]
  },
  {
   "cell_type": "code",
   "execution_count": null,
   "metadata": {},
   "outputs": [],
   "source": [
    "mean_1000 = np.mean(spy_log_return.tail(1000))\n",
    "std_1000 = np.std(spy_log_return.tail(1000))\n",
    "mean_10 = np.mean(spy_log_return.tail(10))\n",
    "std_10 = np.std(spy_log_return.tail(10))\n",
    "s = pd.Series([mean_10,std_10,mean_1000,std_1000],index = ['mean_10', 'std_10','mean_1000','std_1000'])\n",
    "print(s)"
   ]
  },
  {
   "cell_type": "code",
   "execution_count": null,
   "metadata": {},
   "outputs": [],
   "source": [
    "bottom = 0 - 1.64*std_1000/np.sqrt(1000)\n",
    "upper = 0 + 1.64*std_1000/np.sqrt(1000)\n",
    "print((bottom, upper))"
   ]
  },
  {
   "cell_type": "code",
   "execution_count": null,
   "metadata": {},
   "outputs": [],
   "source": [
    "bottom = 0 - 1.96*std_1000/np.sqrt(1000)\n",
    "upper = 0 + 1.96*std_1000/np.sqrt(1000)\n",
    "print((bottom, upper))"
   ]
  },
  {
   "cell_type": "code",
   "execution_count": null,
   "metadata": {},
   "outputs": [],
   "source": [
    "print(np.sqrt(1000)*(mean_1000 - 0)/std_1000)"
   ]
  },
  {
   "cell_type": "code",
   "execution_count": null,
   "metadata": {},
   "outputs": [],
   "source": [
    "import scipy.stats as st\n",
    "print((1 - st.norm.cdf(1.9488)))"
   ]
  },
  {
   "cell_type": "code",
   "execution_count": null,
   "metadata": {},
   "outputs": [],
   "source": []
  },
  {
   "cell_type": "code",
   "execution_count": null,
   "metadata": {},
   "outputs": [],
   "source": [
    "import scipy.stats as st\n",
    "print((1 - st.norm.cdf(1.9488)))"
   ]
  },
  {
   "cell_type": "code",
   "execution_count": null,
   "metadata": {},
   "outputs": [],
   "source": [
    "mean_1200 = np.mean(spy_log_return.tail(1200))\n",
    "std_1200 = np.std(spy_log_return.tail(1200))\n",
    "z_score = np.sqrt(1200)*(mean_1200 - 0)/std_1200\n",
    "print('z-score = ',z_score)\n",
    "p_value = (1 - st.norm.cdf(z_score))\n",
    "print('p_value = ',p_value)"
   ]
  },
  {
   "cell_type": "code",
   "execution_count": null,
   "metadata": {},
   "outputs": [],
   "source": []
  },
  {
   "cell_type": "code",
   "execution_count": null,
   "metadata": {},
   "outputs": [],
   "source": []
  },
  {
   "cell_type": "code",
   "execution_count": null,
   "metadata": {},
   "outputs": [],
   "source": []
  }
 ],
 "metadata": {
  "kernelspec": {
   "display_name": "Python 3",
   "language": "python",
   "name": "python3"
  },
  "language_info": {
   "codemirror_mode": {
    "name": "ipython",
    "version": 3
   },
   "file_extension": ".py",
   "mimetype": "text/x-python",
   "name": "python",
   "nbconvert_exporter": "python",
   "pygments_lexer": "ipython3",
   "version": "3.6.8"
  }
 },
 "nbformat": 4,
 "nbformat_minor": 2
}
