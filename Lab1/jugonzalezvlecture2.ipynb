{
  "nbformat": 4,
  "nbformat_minor": 0,
  "metadata": {
    "kernelspec": {
      "name": "python3",
      "display_name": "Python 3"
    },
    "colab": {
      "name": "lab2.ipynb",
      "provenance": [],
      "collapsed_sections": [
        "Ed7v45TmfHgk",
        "XigOBBUbfHgl",
        "q-oj0AaxfHg1",
        "bn7c64JcfHg3",
        "C9rbX55ffHg4",
        "DDyQz1uufHg5",
        "5OFxUikMfHg6",
        "fZstB_ylfHg-"
      ],
      "toc_visible": true
    }
  },
  "cells": [
    {
      "cell_type": "markdown",
      "metadata": {
        "id": "aD_G4mGafHgf"
      },
      "source": [
        "# Introduction to Python\n",
        "by Maxwell Margenot\n",
        "\n",
        "Part of the Quantopian Lecture Series:\n",
        "\n",
        "* [www.quantopian.com/lectures](https://www.quantopian.com/lectures)\n",
        "* [github.com/quantopian/research_public](https://github.com/quantopian/research_public)\n",
        "\n",
        "\n",
        "---\n",
        "\n",
        "All of the coding that you will do on the Quantopian platform will be in Python. It is also just a good, jack-of-all-trades language to know! Here we will provide you with the basics so that you can feel confident going through our other lectures and understanding what is happening."
      ]
    },
    {
      "cell_type": "markdown",
      "metadata": {
        "id": "Ed7v45TmfHgk"
      },
      "source": [
        "## Code Comments\n",
        "\n",
        "A comment is a note made by a programmer in the source code of a program. Its purpose is to clarify the source code and make it easier for people to follow along with what is happening. Anything in a comment is generally ignored when the code is actually run, making comments useful for including explanations and reasoning as well as removing specific lines of code that you may be unsure about. Comments in Python are created by using the pound symbol (`# Insert Text Here`). Including a `#` in a line of code will comment out anything that follows it."
      ]
    },
    {
      "cell_type": "code",
      "metadata": {
        "id": "dGD3unl2fHgk"
      },
      "source": [
        "# This is a comment\n",
        "# These lines of code will not change any values\n",
        "# Anything following the first # is not run as code"
      ],
      "execution_count": null,
      "outputs": []
    },
    {
      "cell_type": "markdown",
      "metadata": {
        "id": "naZjVC7SfK8w"
      },
      "source": [
        "ejemplo\r\n"
      ]
    },
    {
      "cell_type": "code",
      "metadata": {
        "id": "yy6twzXjfKlg"
      },
      "source": [
        "# este es un comentario que he hecho\r\n",
        "# hecho para la clase"
      ],
      "execution_count": null,
      "outputs": []
    },
    {
      "cell_type": "markdown",
      "metadata": {
        "id": "2AOzDsARfHgl"
      },
      "source": [
        "You may hear text enclosed in triple quotes (`\"\"\" Insert Text Here \"\"\"`) referred to as multi-line comments, but this is not entirely accurate. This is a special type of `string` (a data type we will cover), called a `docstring`, used to explain the purpose of a function."
      ]
    },
    {
      "cell_type": "code",
      "metadata": {
        "id": "nm8dTtE4fHgl",
        "colab": {
          "base_uri": "https://localhost:8080/",
          "height": 35
        },
        "outputId": "04fa03d8-7666-4ce7-8294-aac55e4bd353"
      },
      "source": [
        "\"\"\" This is a special string \"\"\""
      ],
      "execution_count": null,
      "outputs": [
        {
          "output_type": "execute_result",
          "data": {
            "application/vnd.google.colaboratory.intrinsic+json": {
              "type": "string"
            },
            "text/plain": [
              "' This is a special string '"
            ]
          },
          "metadata": {
            "tags": []
          },
          "execution_count": 3
        }
      ]
    },
    {
      "cell_type": "code",
      "metadata": {
        "colab": {
          "base_uri": "https://localhost:8080/",
          "height": 35
        },
        "id": "AFWbpUtRdC8n",
        "outputId": "415b264e-26b1-46df-985b-5f785ae7d29c"
      },
      "source": [
        "\"\"\" Buen dia a todos, string especial\"\"\""
      ],
      "execution_count": null,
      "outputs": [
        {
          "output_type": "execute_result",
          "data": {
            "application/vnd.google.colaboratory.intrinsic+json": {
              "type": "string"
            },
            "text/plain": [
              "' Buen dia a todos, string especial'"
            ]
          },
          "metadata": {
            "tags": []
          },
          "execution_count": 4
        }
      ]
    },
    {
      "cell_type": "markdown",
      "metadata": {
        "id": "Pc_16StgfHgl"
      },
      "source": [
        "Make sure you read the comments within each code cell (if they are there). They will provide more real-time explanations of what is going on as you look at each line of code."
      ]
    },
    {
      "cell_type": "markdown",
      "metadata": {
        "id": "XigOBBUbfHgl"
      },
      "source": [
        "## Variables\n",
        "\n",
        "Variables provide names for values in programming. If you want to save a value for later or repeated use, you give the value a name, storing the contents in a variable. Variables in programming work in a fundamentally similar way to variables in algebra, but in Python they can take on various different data types.\n",
        "\n",
        "The basic variable types that we will cover in this section are `integers`, `floating point numbers`, `booleans`, and `strings`. \n",
        "\n",
        "An `integer` in programming is the same as in mathematics, a round number with no values after the decimal point. We use the built-in `print` function here to display the values of our variables as well as their types!"
      ]
    },
    {
      "cell_type": "code",
      "metadata": {
        "id": "TRJwTKkofHgm",
        "colab": {
          "base_uri": "https://localhost:8080/"
        },
        "outputId": "83bde0f5-2b43-4282-9bfc-e893db73aa2a"
      },
      "source": [
        "my_integer = 50\n",
        "print (my_integer, type(my_integer))"
      ],
      "execution_count": null,
      "outputs": [
        {
          "output_type": "stream",
          "text": [
            "50 <class 'int'>\n"
          ],
          "name": "stdout"
        }
      ]
    },
    {
      "cell_type": "markdown",
      "metadata": {
        "id": "3ZiWZsDS3yy5"
      },
      "source": [
        "**Ejemplo de personal**"
      ]
    },
    {
      "cell_type": "code",
      "metadata": {
        "colab": {
          "base_uri": "https://localhost:8080/"
        },
        "id": "R__pZoWhd7mv",
        "outputId": "00e871ab-6d5d-4f1b-a0e9-ba5bfc132f00"
      },
      "source": [
        "Z = 50.0\r\n",
        "print(Z,type(Z))"
      ],
      "execution_count": null,
      "outputs": [
        {
          "output_type": "stream",
          "text": [
            "50.0 <class 'float'>\n"
          ],
          "name": "stdout"
        }
      ]
    },
    {
      "cell_type": "markdown",
      "metadata": {
        "id": "y4LWWPqSfHgm"
      },
      "source": [
        "Variables, regardless of type, are assigned by using a single equals sign (`=`). Variables are case-sensitive so any changes in variation in the capitals of a variable name will reference a different variable entirely."
      ]
    },
    {
      "cell_type": "code",
      "metadata": {
        "id": "ZZwm3tJqfHgm",
        "colab": {
          "base_uri": "https://localhost:8080/"
        },
        "outputId": "a22c6c56-8215-403f-c59f-842680fe067e"
      },
      "source": [
        "One = 1\n",
        "print (One)"
      ],
      "execution_count": null,
      "outputs": [
        {
          "output_type": "stream",
          "text": [
            "1\n"
          ],
          "name": "stdout"
        }
      ]
    },
    {
      "cell_type": "markdown",
      "metadata": {
        "id": "y4w9-ZoI3xY6"
      },
      "source": [
        ""
      ]
    },
    {
      "cell_type": "markdown",
      "metadata": {
        "id": "aqBTr2T3fHgm"
      },
      "source": [
        "A `floating point` number, or a `float` is a fancy name for a real number (again as in mathematics). To define a `float`, we need to either include a decimal point or specify that the value is a float."
      ]
    },
    {
      "cell_type": "code",
      "metadata": {
        "scrolled": true,
        "id": "h6PhjowBfHgm",
        "colab": {
          "base_uri": "https://localhost:8080/"
        },
        "outputId": "e428fa90-1e63-4397-e120-abbc5a3ae4b8"
      },
      "source": [
        "my_float = 1.0\n",
        "print (my_float, type(my_float))\n",
        "my_float = float(1)\n",
        "print (my_float, type(my_float))"
      ],
      "execution_count": null,
      "outputs": [
        {
          "output_type": "stream",
          "text": [
            "1.0 <class 'float'>\n",
            "1.0 <class 'float'>\n"
          ],
          "name": "stdout"
        }
      ]
    },
    {
      "cell_type": "markdown",
      "metadata": {
        "id": "o4CWOIZ2C-1e"
      },
      "source": [
        "**Ejemplo propio**"
      ]
    },
    {
      "cell_type": "code",
      "metadata": {
        "colab": {
          "base_uri": "https://localhost:8080/"
        },
        "id": "bSf7R3_7C9y6",
        "outputId": "6112c80b-ba07-40ad-c4ca-7a4856cf519f"
      },
      "source": [
        "my_float = 5/3\r\n",
        "print (my_float, type(my_float))\r\n",
        "my_float = float(253)\r\n",
        "print (my_float, type(my_float))"
      ],
      "execution_count": null,
      "outputs": [
        {
          "output_type": "stream",
          "text": [
            "1.6666666666666667 <class 'float'>\n",
            "253.0 <class 'float'>\n"
          ],
          "name": "stdout"
        }
      ]
    },
    {
      "cell_type": "markdown",
      "metadata": {
        "id": "s0GxiTr-fHgn"
      },
      "source": [
        "A variable of type `float` will not round the number that you store in it, while a variable of type `integer` will. This makes `floats` more suitable for mathematical calculations where you want more than just integers.\n",
        "\n",
        "Note that as we used the `float()` function to force an number to be considered a `float`, we can use the `int()` function to force a number to be considered an `int`."
      ]
    },
    {
      "cell_type": "code",
      "metadata": {
        "id": "oEAOG45kfHgn",
        "colab": {
          "base_uri": "https://localhost:8080/"
        },
        "outputId": "68366985-e6ae-462d-888b-be5cabdc70e2"
      },
      "source": [
        "my_int = int(3.14159)\n",
        "print (my_int, type(my_int))"
      ],
      "execution_count": null,
      "outputs": [
        {
          "output_type": "stream",
          "text": [
            "3 <class 'int'>\n"
          ],
          "name": "stdout"
        }
      ]
    },
    {
      "cell_type": "markdown",
      "metadata": {
        "id": "zLximz4IDZQR"
      },
      "source": [
        "**Ejemplo propio**\r\n"
      ]
    },
    {
      "cell_type": "code",
      "metadata": {
        "colab": {
          "base_uri": "https://localhost:8080/"
        },
        "id": "NEEOPswaDeYh",
        "outputId": "9b3678b0-107b-43eb-dfa0-d8b6abdf6aa1"
      },
      "source": [
        "my_int = int(389/8)\r\n",
        "print (my_int, type(my_int))"
      ],
      "execution_count": null,
      "outputs": [
        {
          "output_type": "stream",
          "text": [
            "48 <class 'int'>\n"
          ],
          "name": "stdout"
        }
      ]
    },
    {
      "cell_type": "markdown",
      "metadata": {
        "id": "ZJJ0J4h0fHgn"
      },
      "source": [
        "The `int()` function will also truncate any digits that a number may have after the decimal point!\n",
        "\n",
        "Strings allow you to include text as a variable to operate on. They are defined using either single quotes ('') or double quotes (\"\")."
      ]
    },
    {
      "cell_type": "code",
      "metadata": {
        "id": "RFQRVeWjfHgn",
        "colab": {
          "base_uri": "https://localhost:8080/"
        },
        "outputId": "2d7adcc6-658c-4e51-d49a-dd9c4ab68ec9"
      },
      "source": [
        "my_string = 'This is a string with single quotes'\n",
        "print (my_string)\n",
        "my_string = \"This is a string with double quotes\"\n",
        "print (my_string)"
      ],
      "execution_count": null,
      "outputs": [
        {
          "output_type": "stream",
          "text": [
            "This is a string with single quotes\n",
            "This is a string with double quotes\n"
          ],
          "name": "stdout"
        }
      ]
    },
    {
      "cell_type": "markdown",
      "metadata": {
        "id": "i5W_4mAbEpZi"
      },
      "source": [
        "**Ejemplo para ver si son del mismo tipo**"
      ]
    },
    {
      "cell_type": "code",
      "metadata": {
        "colab": {
          "base_uri": "https://localhost:8080/"
        },
        "id": "OMNYqvxeEzcf",
        "outputId": "7c86262b-fc7f-432f-87a9-1c2eb53bbafb"
      },
      "source": [
        "my_string = 'This is a string with single quotes'\r\n",
        "print (my_string, type(my_string))\r\n",
        "my_string = \"This is a string with double quotes\"\r\n",
        "print (my_string, type(my_string))"
      ],
      "execution_count": null,
      "outputs": [
        {
          "output_type": "stream",
          "text": [
            "This is a string with single quotes <class 'str'>\n",
            "This is a string with double quotes <class 'str'>\n"
          ],
          "name": "stdout"
        }
      ]
    },
    {
      "cell_type": "markdown",
      "metadata": {
        "id": "BnkDaQhgfHgn"
      },
      "source": [
        "Both are allowed so that we can include apostrophes or quotation marks in a string if we so choose."
      ]
    },
    {
      "cell_type": "code",
      "metadata": {
        "id": "MAgfDChOfHgo",
        "colab": {
          "base_uri": "https://localhost:8080/"
        },
        "outputId": "c20b0eb4-1a52-4f98-86d3-c740ec75d2b2"
      },
      "source": [
        "my_string = '\"Jabberwocky\", by Lewis Carroll'\n",
        "print (my_string)\n",
        "my_string = \"'Twas brillig, and the slithy toves / Did gyre and gimble in the wabe;\"\n",
        "print (my_string)"
      ],
      "execution_count": null,
      "outputs": [
        {
          "output_type": "stream",
          "text": [
            "\"Jabberwocky\", by Lewis Carroll\n",
            "'Twas brillig, and the slithy toves / Did gyre and gimble in the wabe;\n"
          ],
          "name": "stdout"
        }
      ]
    },
    {
      "cell_type": "markdown",
      "metadata": {
        "id": "pIK2H6lcWpun"
      },
      "source": [
        "**Ejemplo**\r\n"
      ]
    },
    {
      "cell_type": "code",
      "metadata": {
        "colab": {
          "base_uri": "https://localhost:8080/"
        },
        "id": "o1qjSHyuWsn0",
        "outputId": "0b5fd56f-67a8-4a1e-f2d0-9fe30569c7c0"
      },
      "source": [
        "my_string = \"estan los 'buenos dias'\"\r\n",
        "print (my_string)\r\n",
        "my_string = 'y estan los \"buenos\" dias'\r\n",
        "print (my_string)"
      ],
      "execution_count": null,
      "outputs": [
        {
          "output_type": "stream",
          "text": [
            "estan los 'buenos dias'\n",
            "y estan los \"buenos\" dias\n"
          ],
          "name": "stdout"
        }
      ]
    },
    {
      "cell_type": "markdown",
      "metadata": {
        "id": "mhmNzMDQfHgo"
      },
      "source": [
        "Booleans, or `bools` are binary variable types. A `bool` can only take on one of two values, these being `True` or `False`. There is much more to this idea of truth values when it comes to programming, which we cover later in the [Logical Operators](#id-section5) of this notebook."
      ]
    },
    {
      "cell_type": "code",
      "metadata": {
        "id": "m4NuoN-9fHgo"
      },
      "source": [
        "my_bool = True\n",
        "print my_bool, type(my_bool)"
      ],
      "execution_count": null,
      "outputs": []
    },
    {
      "cell_type": "markdown",
      "metadata": {
        "id": "9JWeSu6mW_lO"
      },
      "source": [
        "**Ejemplo**\r\n"
      ]
    },
    {
      "cell_type": "code",
      "metadata": {
        "colab": {
          "base_uri": "https://localhost:8080/"
        },
        "id": "1XjZeBf1XDkP",
        "outputId": "4fc7480b-0378-4c35-81f2-edfd9dda0a49"
      },
      "source": [
        "my_bool = False\r\n",
        "print (my_bool, type(my_bool))"
      ],
      "execution_count": null,
      "outputs": [
        {
          "output_type": "stream",
          "text": [
            "False <class 'bool'>\n"
          ],
          "name": "stdout"
        }
      ]
    },
    {
      "cell_type": "markdown",
      "metadata": {
        "id": "3GE_SUFFfHgo"
      },
      "source": [
        "There are many more data types that you can assign as variables in Python, but these are the basic ones! We will cover a few more later as we move through this tutorial."
      ]
    },
    {
      "cell_type": "markdown",
      "metadata": {
        "id": "Z8mjTQmPfHgo"
      },
      "source": [
        "## Basic Math\n",
        "\n",
        "Python has a number of built-in math functions. These can be extended even further by importing the **math** package or by including any number of other calculation-based packages.\n",
        "\n",
        "All of the basic arithmetic operations are supported: `+`, `-`, `/`, and `*`. You can create exponents by using `**` and modular arithmetic is introduced with the mod operator, `%`."
      ]
    },
    {
      "cell_type": "code",
      "metadata": {
        "id": "fmJW91EwfHgo",
        "colab": {
          "base_uri": "https://localhost:8080/"
        },
        "outputId": "34dca477-8161-4b19-9db7-756dd51bb1c7"
      },
      "source": [
        "print ('Addition: ', 2 + 2)\n",
        "print ('Subtraction: ', 7 - 4)\n",
        "print ('Multiplication: ', 2 * 5)\n",
        "print ('Division: ', 10 / 2)\n",
        "print ('Exponentiation: ', 3**2)"
      ],
      "execution_count": 30,
      "outputs": [
        {
          "output_type": "stream",
          "text": [
            "Addition:  4\n",
            "Subtraction:  3\n",
            "Multiplication:  10\n",
            "Division:  5.0\n",
            "Exponentiation:  9\n"
          ],
          "name": "stdout"
        }
      ]
    },
    {
      "cell_type": "markdown",
      "metadata": {
        "id": "-Sx3xmVgYoRe"
      },
      "source": [
        "**Ejemplo**\r\n",
        "\r\n",
        "$$25 + 35 = 60$$\r\n",
        "\r\n",
        "$$35-15 = 20$$\r\n",
        "\r\n",
        "$$38*38 = 1444$$\r\n",
        "\r\n",
        "$$50/5 = 10$$\r\n",
        "\r\n",
        "$$38^2 = 1444$$\r\n"
      ]
    },
    {
      "cell_type": "code",
      "metadata": {
        "colab": {
          "base_uri": "https://localhost:8080/"
        },
        "id": "dg-F2JogZvbm",
        "outputId": "3dfb6883-e973-4269-80e0-648375f19830"
      },
      "source": [
        "print ('Addition: ', 25+35)\r\n",
        "print ('Subtraction: ', 35 - 15)\r\n",
        "print ('Multiplication: ', 38 * 38)\r\n",
        "print ('Division: ', 50 / 5)\r\n",
        "print ('Exponentiation: ', 38**2)"
      ],
      "execution_count": 31,
      "outputs": [
        {
          "output_type": "stream",
          "text": [
            "Addition:  60\n",
            "Subtraction:  20\n",
            "Multiplication:  1444\n",
            "Division:  10.0\n",
            "Exponentiation:  1444\n"
          ],
          "name": "stdout"
        }
      ]
    },
    {
      "cell_type": "markdown",
      "metadata": {
        "id": "KX0icqRqfHgp"
      },
      "source": [
        "If you are not familiar with the the mod operator, it operates like a remainder function. If we type $15 \\ \\% \\ 4$, it will return the remainder after dividing $15$ by $4$."
      ]
    },
    {
      "cell_type": "code",
      "metadata": {
        "id": "vZRUFQlEfHgp",
        "colab": {
          "base_uri": "https://localhost:8080/"
        },
        "outputId": "72e53108-146c-4ba2-bd4c-68c183284950"
      },
      "source": [
        "print ('Modulo: ', 15 % 4)"
      ],
      "execution_count": 32,
      "outputs": [
        {
          "output_type": "stream",
          "text": [
            "Modulo:  3\n"
          ],
          "name": "stdout"
        }
      ]
    },
    {
      "cell_type": "markdown",
      "metadata": {
        "id": "y5wdTWU4-Qsi"
      },
      "source": [
        "**ejemplo**\r\n",
        "\r\n",
        "**18%4**\r\n",
        "\r\n"
      ]
    },
    {
      "cell_type": "code",
      "metadata": {
        "colab": {
          "base_uri": "https://localhost:8080/"
        },
        "id": "tzmeE5cm-NY7",
        "outputId": "ed63e29c-abb5-4d27-dc1c-d53b37638a06"
      },
      "source": [
        "print (\"modulo\", 18%9)"
      ],
      "execution_count": 33,
      "outputs": [
        {
          "output_type": "stream",
          "text": [
            "modulo 0\n"
          ],
          "name": "stdout"
        }
      ]
    },
    {
      "cell_type": "markdown",
      "metadata": {
        "id": "OOBIy_vIfHgp"
      },
      "source": [
        "Mathematical functions also work on variables!"
      ]
    },
    {
      "cell_type": "code",
      "metadata": {
        "scrolled": true,
        "id": "L2JDFFLgfHgp",
        "colab": {
          "base_uri": "https://localhost:8080/"
        },
        "outputId": "2b4485af-ed96-42bc-9fc2-fc4433b68740"
      },
      "source": [
        "first_integer = 4\n",
        "second_integer = 5\n",
        "print (first_integer * second_integer)"
      ],
      "execution_count": 34,
      "outputs": [
        {
          "output_type": "stream",
          "text": [
            "20\n"
          ],
          "name": "stdout"
        }
      ]
    },
    {
      "cell_type": "markdown",
      "metadata": {
        "id": "g5CQZeRffHgp"
      },
      "source": [
        "Make sure that your variables are floats if you want to have decimal points in your answer. If you perform math exclusively with integers, you get an integer. Including any float in the calculation will make the result a float."
      ]
    },
    {
      "cell_type": "code",
      "metadata": {
        "id": "A5_XXJobfHgp",
        "colab": {
          "base_uri": "https://localhost:8080/"
        },
        "outputId": "5ffbde54-e392-48f2-ddc9-7d598caa0dac"
      },
      "source": [
        "first_integer = 11\n",
        "second_integer = 3\n",
        "print (first_integer / second_integer)"
      ],
      "execution_count": 35,
      "outputs": [
        {
          "output_type": "stream",
          "text": [
            "3.6666666666666665\n"
          ],
          "name": "stdout"
        }
      ]
    },
    {
      "cell_type": "code",
      "metadata": {
        "id": "oFen_1RWfHgq",
        "colab": {
          "base_uri": "https://localhost:8080/"
        },
        "outputId": "ed370768-00de-4cbf-d973-8e8b66ae2df9"
      },
      "source": [
        "first_number = 11.0\n",
        "second_number = 3.0\n",
        "print (first_number / second_number)"
      ],
      "execution_count": 36,
      "outputs": [
        {
          "output_type": "stream",
          "text": [
            "3.6666666666666665\n"
          ],
          "name": "stdout"
        }
      ]
    },
    {
      "cell_type": "markdown",
      "metadata": {
        "id": "wLjC_JN9BYsh"
      },
      "source": [
        "**ejemplo operaciones usando variables como variables**\r\n",
        "$$ a*b$$\r\n",
        "\r\n",
        "$$a / b$$"
      ]
    },
    {
      "cell_type": "code",
      "metadata": {
        "colab": {
          "base_uri": "https://localhost:8080/"
        },
        "id": "MHT9GJzoB4OZ",
        "outputId": "c80fedcb-ea4a-4581-979d-694b27b1f212"
      },
      "source": [
        "a = 15.0\r\n",
        "b = 20.0\r\n",
        "print(a*b)"
      ],
      "execution_count": 37,
      "outputs": [
        {
          "output_type": "stream",
          "text": [
            "300.0\n"
          ],
          "name": "stdout"
        }
      ]
    },
    {
      "cell_type": "code",
      "metadata": {
        "colab": {
          "base_uri": "https://localhost:8080/"
        },
        "id": "q8OT1stAOgJL",
        "outputId": "c7b33404-1f98-4e56-c290-edaecb42570d"
      },
      "source": [
        "print(a/b)"
      ],
      "execution_count": 38,
      "outputs": [
        {
          "output_type": "stream",
          "text": [
            "0.75\n"
          ],
          "name": "stdout"
        }
      ]
    },
    {
      "cell_type": "markdown",
      "metadata": {
        "id": "yms2t4OPfHgq"
      },
      "source": [
        "Python has a few built-in math functions. The most notable of these are:\n",
        "\n",
        "* `abs()`\n",
        "* `round()`\n",
        "* `max()`\n",
        "* `min()`\n",
        "* `sum()`\n",
        "\n",
        "These functions all act as you would expect, given their names. Calling `abs()` on a number will return its absolute value. The `round()` function will round a number to a specified number of the decimal points (the default is $0$). Calling `max()` or `min()` on a collection of numbers will return, respectively, the maximum or minimum value in the collection. Calling `sum()` on a collection of numbers will add them all up. If you're not familiar with how collections of values in Python work, don't worry! We will cover collections in-depth in the next section. \n",
        "\n",
        "Additional math functionality can be added in with the `math` package."
      ]
    },
    {
      "cell_type": "code",
      "metadata": {
        "id": "m-Bhi671fHgq"
      },
      "source": [
        "import math"
      ],
      "execution_count": 39,
      "outputs": []
    },
    {
      "cell_type": "markdown",
      "metadata": {
        "id": "PyiN2a8HfHgq"
      },
      "source": [
        "The math library adds a long list of new mathematical functions to Python. Feel free to check out the [documentation](https://docs.python.org/2/library/math.html) for the full list and details. It concludes some mathematical constants"
      ]
    },
    {
      "cell_type": "code",
      "metadata": {
        "id": "an41HRxEfHgq",
        "colab": {
          "base_uri": "https://localhost:8080/"
        },
        "outputId": "6061303c-e677-4860-d9c6-7d44cc5d38bd"
      },
      "source": [
        "print ('Pi: ', math.pi)\n",
        "print (\"Euler's Constant: \", math.e)"
      ],
      "execution_count": 40,
      "outputs": [
        {
          "output_type": "stream",
          "text": [
            "Pi:  3.141592653589793\n",
            "Euler's Constant:  2.718281828459045\n"
          ],
          "name": "stdout"
        }
      ]
    },
    {
      "cell_type": "markdown",
      "metadata": {
        "id": "4iSdhugdfHgr"
      },
      "source": [
        "As well as some commonly used math functions"
      ]
    },
    {
      "cell_type": "code",
      "metadata": {
        "id": "MncSFty_fHgr",
        "colab": {
          "base_uri": "https://localhost:8080/"
        },
        "outputId": "503b04f5-bbfb-460d-bc54-01709c6a8117"
      },
      "source": [
        "print ('Cosine of pi: ', math.cos(math.pi))"
      ],
      "execution_count": 41,
      "outputs": [
        {
          "output_type": "stream",
          "text": [
            "Cosine of pi:  -1.0\n"
          ],
          "name": "stdout"
        }
      ]
    },
    {
      "cell_type": "markdown",
      "metadata": {
        "id": "sP9LjVs_OmhQ"
      },
      "source": [
        "**Ejemplo**"
      ]
    },
    {
      "cell_type": "code",
      "metadata": {
        "colab": {
          "base_uri": "https://localhost:8080/"
        },
        "id": "JUelNYMgOvMK",
        "outputId": "2802abda-11fb-40b1-888d-3e40b2b935de"
      },
      "source": [
        "print(\"sine of Euler\", math.sin(math.e))"
      ],
      "execution_count": 42,
      "outputs": [
        {
          "output_type": "stream",
          "text": [
            "sine of Euler 0.41078129050290885\n"
          ],
          "name": "stdout"
        }
      ]
    },
    {
      "cell_type": "markdown",
      "metadata": {
        "id": "80L4-NwPfHgr"
      },
      "source": [
        "## Collections\n",
        "### Lists\n",
        "\n",
        "A `list` in Python is an ordered collection of objects that can contain any data type. We define a `list` using brackets (`[]`)."
      ]
    },
    {
      "cell_type": "code",
      "metadata": {
        "id": "zOdOEBq8fHgr",
        "colab": {
          "base_uri": "https://localhost:8080/"
        },
        "outputId": "71a8f99c-e41b-43de-eea1-d37a21ea4ea4"
      },
      "source": [
        "my_list = [1, 2, 3]\n",
        "print (my_list)"
      ],
      "execution_count": null,
      "outputs": [
        {
          "output_type": "stream",
          "text": [
            "[1, 2, 3]\n"
          ],
          "name": "stdout"
        }
      ]
    },
    {
      "cell_type": "markdown",
      "metadata": {
        "id": "PzaQD0TVbND_"
      },
      "source": [
        "**Ejemplo**"
      ]
    },
    {
      "cell_type": "code",
      "metadata": {
        "colab": {
          "base_uri": "https://localhost:8080/"
        },
        "id": "Ulubuk5ObZWY",
        "outputId": "ef86c6b9-490e-477d-dc14-c1fcf5b4962c"
      },
      "source": [
        "my_list = [ 'a' , 2, 5]\r\n",
        "print (my_list)"
      ],
      "execution_count": null,
      "outputs": [
        {
          "output_type": "stream",
          "text": [
            "['a', 2, 5]\n"
          ],
          "name": "stdout"
        }
      ]
    },
    {
      "cell_type": "markdown",
      "metadata": {
        "id": "s_q0vsi_fHgr"
      },
      "source": [
        "We can access and index the list by using brackets as well. In order to select an individual element, simply type the list name followed by the index of the item you are looking for in braces."
      ]
    },
    {
      "cell_type": "code",
      "metadata": {
        "id": "CVf2cfSTfHgr",
        "colab": {
          "base_uri": "https://localhost:8080/"
        },
        "outputId": "45f8859f-0c93-4455-fd40-dcd4b2278b11"
      },
      "source": [
        "print (my_list[0])\n",
        "print (my_list[2])"
      ],
      "execution_count": null,
      "outputs": [
        {
          "output_type": "stream",
          "text": [
            "a\n",
            "5\n"
          ],
          "name": "stdout"
        }
      ]
    },
    {
      "cell_type": "markdown",
      "metadata": {
        "id": "kKe2XBmFdrBI"
      },
      "source": [
        "**Ejemplo**"
      ]
    },
    {
      "cell_type": "code",
      "metadata": {
        "colab": {
          "base_uri": "https://localhost:8080/"
        },
        "id": "S1LmGseAbLdA",
        "outputId": "373d3356-4686-47d0-8b0b-268579b619bd"
      },
      "source": [
        "print (my_list[1])\r\n",
        "print (my_list[0])"
      ],
      "execution_count": null,
      "outputs": [
        {
          "output_type": "stream",
          "text": [
            "2\n",
            "a\n"
          ],
          "name": "stdout"
        }
      ]
    },
    {
      "cell_type": "markdown",
      "metadata": {
        "id": "eHTQXgETfHgs"
      },
      "source": [
        "Indexing in Python starts from $0$. If you have a list of length $n$, the first element of the list is at index $0$, the second element is at index $1$, and so on and so forth. The final element of the list will be at index $n-1$. Be careful! Trying to access a non-existent index will cause an error."
      ]
    },
    {
      "cell_type": "code",
      "metadata": {
        "id": "yApTaor_fHgs",
        "colab": {
          "base_uri": "https://localhost:8080/"
        },
        "outputId": "29754682-faf7-4465-f4c0-37566b8bb60c"
      },
      "source": [
        "print ('The first, second, and third list elements: ', my_list[0], my_list[1], my_list[2])\n",
        "#print ('Accessing outside the list bounds causes an error: ', my_list[3])"
      ],
      "execution_count": null,
      "outputs": [
        {
          "output_type": "stream",
          "text": [
            "The first, second, and third list elements:  a 2 5\n"
          ],
          "name": "stdout"
        }
      ]
    },
    {
      "cell_type": "markdown",
      "metadata": {
        "id": "ZUprNyhpeEmX"
      },
      "source": [
        "**Este ejemplo busca mostrar un error intentando acceder a un elemento fuera de la lista**"
      ]
    },
    {
      "cell_type": "markdown",
      "metadata": {
        "id": "fOm_xB1_fHgs"
      },
      "source": [
        "We can see the number of elements in a list by calling the `len()` function."
      ]
    },
    {
      "cell_type": "code",
      "metadata": {
        "id": "aofGHxXHfHgs",
        "colab": {
          "base_uri": "https://localhost:8080/"
        },
        "outputId": "cd656c7c-01d8-4486-b4a6-d3c1702ea2fb"
      },
      "source": [
        "print (len(my_list))"
      ],
      "execution_count": null,
      "outputs": [
        {
          "output_type": "stream",
          "text": [
            "3\n"
          ],
          "name": "stdout"
        }
      ]
    },
    {
      "cell_type": "markdown",
      "metadata": {
        "id": "8P71Fec9fHgs"
      },
      "source": [
        "We can update and change a list by accessing an index and assigning new value."
      ]
    },
    {
      "cell_type": "code",
      "metadata": {
        "id": "2B8uQSKEfHgs",
        "colab": {
          "base_uri": "https://localhost:8080/"
        },
        "outputId": "0d4518f4-e400-4222-f79c-2b56f867784f"
      },
      "source": [
        "print (my_list)\n",
        "my_list[0] = 42\n",
        "print (my_list)"
      ],
      "execution_count": null,
      "outputs": [
        {
          "output_type": "stream",
          "text": [
            "['a', 2, 5]\n",
            "[42, 2, 5]\n"
          ],
          "name": "stdout"
        }
      ]
    },
    {
      "cell_type": "markdown",
      "metadata": {
        "id": "wGndv6t2eUGV"
      },
      "source": [
        "**Ejemplo**"
      ]
    },
    {
      "cell_type": "code",
      "metadata": {
        "colab": {
          "base_uri": "https://localhost:8080/"
        },
        "id": "zefPW7-re5Z2",
        "outputId": "9b1087ac-3773-4cb0-a4ba-75b587194407"
      },
      "source": [
        "print (my_list)\r\n",
        "my_list[0] = \"hola\"\r\n",
        "print(my_list)"
      ],
      "execution_count": null,
      "outputs": [
        {
          "output_type": "stream",
          "text": [
            "[42, 2, 5]\n",
            "['hola', 2, 5]\n"
          ],
          "name": "stdout"
        }
      ]
    },
    {
      "cell_type": "markdown",
      "metadata": {
        "id": "RBOQDIPSfHgs"
      },
      "source": [
        "This is fundamentally different from how strings are handled. A `list` is mutable, meaning that you can change a `list`'s elements without changing the list itself. Some data types, like `strings`, are immutable, meaning you cannot change them at all. Once a `string` or other immutable data type has been created, it cannot be directly modified without creating an entirely new object."
      ]
    },
    {
      "cell_type": "code",
      "metadata": {
        "id": "fUU-cxvufHgs"
      },
      "source": [
        "my_string = \"Strings never change\"\n",
        "#my_string[0] = \"Z\""
      ],
      "execution_count": null,
      "outputs": []
    },
    {
      "cell_type": "markdown",
      "metadata": {
        "id": "47jnzX37fJty"
      },
      "source": [
        "**Este ejemplo busca mostrar un error de compilacion**"
      ]
    },
    {
      "cell_type": "markdown",
      "metadata": {
        "id": "Y26BIZDhfHgt"
      },
      "source": [
        "As we stated before, a list can contain any data type. Thus, lists can also contain strings."
      ]
    },
    {
      "cell_type": "code",
      "metadata": {
        "id": "S0QlnR8ofHgt",
        "colab": {
          "base_uri": "https://localhost:8080/"
        },
        "outputId": "039834d7-513e-439e-a92a-e9cf6fbbb05e"
      },
      "source": [
        "my_list_2 = ['one', 'two', 'three']\n",
        "print (my_list_2)"
      ],
      "execution_count": null,
      "outputs": [
        {
          "output_type": "stream",
          "text": [
            "['one', 'two', 'three']\n"
          ],
          "name": "stdout"
        }
      ]
    },
    {
      "cell_type": "markdown",
      "metadata": {
        "id": "Q5Q7FvtOfngl"
      },
      "source": [
        "**Ejemplo**"
      ]
    },
    {
      "cell_type": "code",
      "metadata": {
        "colab": {
          "base_uri": "https://localhost:8080/"
        },
        "id": "V_zwoLxiftDF",
        "outputId": "2fa52d81-de15-4547-ec55-b717cfbbb295"
      },
      "source": [
        "my_list_2 = ['uno', 'tres', 'siete']\r\n",
        "print (my_list_2)"
      ],
      "execution_count": null,
      "outputs": [
        {
          "output_type": "stream",
          "text": [
            "['uno', 'tres', 'siete']\n"
          ],
          "name": "stdout"
        }
      ]
    },
    {
      "cell_type": "markdown",
      "metadata": {
        "id": "DvvlHkAHfHgt"
      },
      "source": [
        "Lists can also contain multiple different data types at once!"
      ]
    },
    {
      "cell_type": "code",
      "metadata": {
        "id": "woK4S34bfHgt"
      },
      "source": [
        "my_list_3 = [True, 'False', 42]"
      ],
      "execution_count": null,
      "outputs": []
    },
    {
      "cell_type": "markdown",
      "metadata": {
        "id": "q-I00BC5gZ1k"
      },
      "source": [
        "**Ejemplo**"
      ]
    },
    {
      "cell_type": "code",
      "metadata": {
        "id": "1hnPg1IkgczM"
      },
      "source": [
        "my_list_3 = [False,'buen dia',38]"
      ],
      "execution_count": null,
      "outputs": []
    },
    {
      "cell_type": "markdown",
      "metadata": {
        "id": "Bq9N912gfHgt"
      },
      "source": [
        "If you want to put two lists together, they can be combined with a `+` symbol."
      ]
    },
    {
      "cell_type": "code",
      "metadata": {
        "id": "i3nVTGdLfHgt",
        "colab": {
          "base_uri": "https://localhost:8080/"
        },
        "outputId": "fb27b722-de97-41f6-c644-e0b03dd43289"
      },
      "source": [
        "my_list_4 = my_list + my_list_2 + my_list_3\n",
        "print (my_list_4)"
      ],
      "execution_count": null,
      "outputs": [
        {
          "output_type": "stream",
          "text": [
            "['hola', 2, 5, 'uno', 'tres', 'siete', False, 'buen dia', 38]\n"
          ],
          "name": "stdout"
        }
      ]
    },
    {
      "cell_type": "markdown",
      "metadata": {
        "id": "y6daSkGagtZc"
      },
      "source": [
        "**Ejemplo**"
      ]
    },
    {
      "cell_type": "code",
      "metadata": {
        "colab": {
          "base_uri": "https://localhost:8080/"
        },
        "id": "_jChdouLgqvs",
        "outputId": "44c02364-3fa5-4f5d-ddf5-9d48addaaea8"
      },
      "source": [
        "my_list_4 = my_list + my_list_3 + my_list_2\r\n",
        "print (my_list_4)"
      ],
      "execution_count": null,
      "outputs": [
        {
          "output_type": "stream",
          "text": [
            "['hola', 2, 5, False, 'buen dia', 38, 'uno', 'tres', 'siete']\n"
          ],
          "name": "stdout"
        }
      ]
    },
    {
      "cell_type": "markdown",
      "metadata": {
        "id": "a65ypBxsfHgu"
      },
      "source": [
        "In addition to accessing individual elements of a list, we can access groups of elements through slicing."
      ]
    },
    {
      "cell_type": "code",
      "metadata": {
        "id": "0WY9m96sfHgu"
      },
      "source": [
        "my_list = ['friends', 'romans', 'countrymen', 'lend', 'me', 'your', 'ears']"
      ],
      "execution_count": null,
      "outputs": []
    },
    {
      "cell_type": "markdown",
      "metadata": {
        "id": "u8xEt9uofHgu"
      },
      "source": [
        "#### Slicing\n",
        "\n",
        "We use the colon (`:`) to slice lists. "
      ]
    },
    {
      "cell_type": "code",
      "metadata": {
        "scrolled": true,
        "id": "kel0JJ8FfHgu",
        "colab": {
          "base_uri": "https://localhost:8080/"
        },
        "outputId": "9a437db0-1611-4b5b-b455-475562304441"
      },
      "source": [
        "print (my_list[2:4])"
      ],
      "execution_count": null,
      "outputs": [
        {
          "output_type": "stream",
          "text": [
            "['countrymen', 'lend']\n"
          ],
          "name": "stdout"
        }
      ]
    },
    {
      "cell_type": "markdown",
      "metadata": {
        "id": "eKvZUCjYhLZ1"
      },
      "source": [
        "**Ejemplo**"
      ]
    },
    {
      "cell_type": "code",
      "metadata": {
        "colab": {
          "base_uri": "https://localhost:8080/"
        },
        "id": "tpNAPR1FhNYl",
        "outputId": "d91ed2a1-8ae8-449e-f97f-22749f27774f"
      },
      "source": [
        "print (my_list[1:6])"
      ],
      "execution_count": null,
      "outputs": [
        {
          "output_type": "stream",
          "text": [
            "['romans', 'countrymen', 'lend', 'me', 'your']\n"
          ],
          "name": "stdout"
        }
      ]
    },
    {
      "cell_type": "markdown",
      "metadata": {
        "id": "Gga_nHNEfHgu"
      },
      "source": [
        "Using `:` we can select a group of elements in the list starting from the first element indicated and going up to  (but not including) the last element indicated.\n",
        "\n",
        "We can also select everything after a certain point"
      ]
    },
    {
      "cell_type": "code",
      "metadata": {
        "scrolled": true,
        "id": "wPwjvSQ5fHgu",
        "colab": {
          "base_uri": "https://localhost:8080/"
        },
        "outputId": "da686625-c632-4f24-ac7a-b4b55ac03e39"
      },
      "source": [
        "print (my_list[1:])"
      ],
      "execution_count": null,
      "outputs": [
        {
          "output_type": "stream",
          "text": [
            "['romans', 'countrymen', 'lend', 'me', 'your', 'ears']\n"
          ],
          "name": "stdout"
        }
      ]
    },
    {
      "cell_type": "markdown",
      "metadata": {
        "id": "Cp0lnNMwhUS8"
      },
      "source": [
        "**Ejemplo**"
      ]
    },
    {
      "cell_type": "code",
      "metadata": {
        "colab": {
          "base_uri": "https://localhost:8080/"
        },
        "id": "sy4xnKWkhX0c",
        "outputId": "965e977b-a4b6-474d-8822-510c89ca0f41"
      },
      "source": [
        "print (my_list[6:])"
      ],
      "execution_count": null,
      "outputs": [
        {
          "output_type": "stream",
          "text": [
            "['ears']\n"
          ],
          "name": "stdout"
        }
      ]
    },
    {
      "cell_type": "markdown",
      "metadata": {
        "id": "BxA6z5ZGfHgu"
      },
      "source": [
        "And everything before a certain point"
      ]
    },
    {
      "cell_type": "code",
      "metadata": {
        "scrolled": true,
        "id": "PYjRHMpEfHgv",
        "colab": {
          "base_uri": "https://localhost:8080/"
        },
        "outputId": "9cc5c51a-9d5c-4048-f902-4c941c2efe31"
      },
      "source": [
        "print (my_list[:4])"
      ],
      "execution_count": null,
      "outputs": [
        {
          "output_type": "stream",
          "text": [
            "['friends', 'romans', 'countrymen', 'lend']\n"
          ],
          "name": "stdout"
        }
      ]
    },
    {
      "cell_type": "markdown",
      "metadata": {
        "id": "1cxRQ74whyn7"
      },
      "source": [
        "**Ejemplo**"
      ]
    },
    {
      "cell_type": "code",
      "metadata": {
        "colab": {
          "base_uri": "https://localhost:8080/"
        },
        "id": "OPvN2LYch0mL",
        "outputId": "12224cf2-ba04-46ca-9685-d67e02ef070a"
      },
      "source": [
        "print (my_list[:6])"
      ],
      "execution_count": null,
      "outputs": [
        {
          "output_type": "stream",
          "text": [
            "['friends', 'romans', 'countrymen', 'lend', 'me', 'your']\n"
          ],
          "name": "stdout"
        }
      ]
    },
    {
      "cell_type": "markdown",
      "metadata": {
        "id": "0CYAJRAMfHgv"
      },
      "source": [
        "Using negative numbers will count from the end of the indices instead of from the beginning. For example, an index of `-1` indicates the last element of the list."
      ]
    },
    {
      "cell_type": "code",
      "metadata": {
        "id": "S2M3qxAYfHgv",
        "colab": {
          "base_uri": "https://localhost:8080/"
        },
        "outputId": "e2620df5-6133-4f20-ba8f-d40b11574bfb"
      },
      "source": [
        "print (my_list[-1])"
      ],
      "execution_count": null,
      "outputs": [
        {
          "output_type": "stream",
          "text": [
            "ears\n"
          ],
          "name": "stdout"
        }
      ]
    },
    {
      "cell_type": "markdown",
      "metadata": {
        "id": "i2KiyeHSiRO7"
      },
      "source": [
        "**Ejemplo**"
      ]
    },
    {
      "cell_type": "code",
      "metadata": {
        "colab": {
          "base_uri": "https://localhost:8080/"
        },
        "id": "0EkZukEDiY_s",
        "outputId": "f3de806f-af56-4509-d4b8-4f0fc190a588"
      },
      "source": [
        "print (my_list[-5])"
      ],
      "execution_count": null,
      "outputs": [
        {
          "output_type": "stream",
          "text": [
            "countrymen\n"
          ],
          "name": "stdout"
        }
      ]
    },
    {
      "cell_type": "markdown",
      "metadata": {
        "id": "rV2sXifzfHgv"
      },
      "source": [
        "You can also add a third component to slicing. Instead of simply indicating the first and final parts of your slice, you can specify the step size that you want to take. So instead of taking every single element, you can take every other element."
      ]
    },
    {
      "cell_type": "code",
      "metadata": {
        "id": "Ge7f3wsffHgv",
        "colab": {
          "base_uri": "https://localhost:8080/"
        },
        "outputId": "904c4bad-913f-43a6-a92d-e163b1d4d386"
      },
      "source": [
        "print (my_list[0:7:2])"
      ],
      "execution_count": null,
      "outputs": [
        {
          "output_type": "stream",
          "text": [
            "['friends', 'countrymen', 'me', 'ears']\n"
          ],
          "name": "stdout"
        }
      ]
    },
    {
      "cell_type": "markdown",
      "metadata": {
        "id": "NQHwNFV2kBpT"
      },
      "source": [
        "**Ejemplo**"
      ]
    },
    {
      "cell_type": "code",
      "metadata": {
        "colab": {
          "base_uri": "https://localhost:8080/"
        },
        "id": "SSPwcGrykDHq",
        "outputId": "26306642-dd17-4ada-ba14-a3fcc97f456e"
      },
      "source": [
        "print (my_list[0:7:3])"
      ],
      "execution_count": null,
      "outputs": [
        {
          "output_type": "stream",
          "text": [
            "['friends', 'lend', 'ears']\n"
          ],
          "name": "stdout"
        }
      ]
    },
    {
      "cell_type": "markdown",
      "metadata": {
        "id": "JypDMZh4fHgv"
      },
      "source": [
        "Here we have selected the entire list (because `0:7` will yield elements `0` through `6`) and we have selected a step size of `2`. So this will spit out element `0` , element `2`, element `4`, and so on through the list element selected. We can skip indicated the beginning and end of our slice, only indicating the step, if we like."
      ]
    },
    {
      "cell_type": "code",
      "metadata": {
        "id": "HzDTS7fOfHgv",
        "colab": {
          "base_uri": "https://localhost:8080/"
        },
        "outputId": "08b1445f-4cb8-4fa9-d9dc-12a0f720f205"
      },
      "source": [
        "print (my_list[::2])"
      ],
      "execution_count": null,
      "outputs": [
        {
          "output_type": "stream",
          "text": [
            "['friends', 'countrymen', 'me', 'ears']\n"
          ],
          "name": "stdout"
        }
      ]
    },
    {
      "cell_type": "markdown",
      "metadata": {
        "id": "J3727HjqkjJh"
      },
      "source": [
        "**Ejemplo**"
      ]
    },
    {
      "cell_type": "code",
      "metadata": {
        "colab": {
          "base_uri": "https://localhost:8080/"
        },
        "id": "jPXSlJ-akkrJ",
        "outputId": "56c9ff52-2f20-4830-dae9-678fe529fac7"
      },
      "source": [
        "print (my_list[::3])"
      ],
      "execution_count": null,
      "outputs": [
        {
          "output_type": "stream",
          "text": [
            "['friends', 'lend', 'ears']\n"
          ],
          "name": "stdout"
        }
      ]
    },
    {
      "cell_type": "markdown",
      "metadata": {
        "id": "w228_QCGfHgv"
      },
      "source": [
        "Lists implictly select the beginning and end of the list when not otherwise specified."
      ]
    },
    {
      "cell_type": "code",
      "metadata": {
        "id": "sMhS0IF9fHgw",
        "colab": {
          "base_uri": "https://localhost:8080/"
        },
        "outputId": "2fd52962-b33b-4153-fa5d-6ac97be9f6d2"
      },
      "source": [
        "print (my_list[:])"
      ],
      "execution_count": null,
      "outputs": [
        {
          "output_type": "stream",
          "text": [
            "['friends', 'romans', 'countrymen', 'lend', 'me', 'your', 'ears']\n"
          ],
          "name": "stdout"
        }
      ]
    },
    {
      "cell_type": "markdown",
      "metadata": {
        "id": "6QhTA6QOfHgw"
      },
      "source": [
        "With a negative step size we can even reverse the list!"
      ]
    },
    {
      "cell_type": "code",
      "metadata": {
        "id": "oxrI6p-HfHgw",
        "colab": {
          "base_uri": "https://localhost:8080/"
        },
        "outputId": "e93f75cf-6f73-4a3c-b37d-045953062bfd"
      },
      "source": [
        "print (my_list[::-1])"
      ],
      "execution_count": null,
      "outputs": [
        {
          "output_type": "stream",
          "text": [
            "['ears', 'your', 'me', 'lend', 'countrymen', 'romans', 'friends']\n"
          ],
          "name": "stdout"
        }
      ]
    },
    {
      "cell_type": "markdown",
      "metadata": {
        "id": "VNkzsQOak6Vh"
      },
      "source": [
        "**Ejemplo**"
      ]
    },
    {
      "cell_type": "code",
      "metadata": {
        "colab": {
          "base_uri": "https://localhost:8080/"
        },
        "id": "DonuivPnk8AC",
        "outputId": "23559626-532d-450a-9bbd-045b0504ce5b"
      },
      "source": [
        "print (my_list[::-3])"
      ],
      "execution_count": null,
      "outputs": [
        {
          "output_type": "stream",
          "text": [
            "['ears', 'lend', 'friends']\n"
          ],
          "name": "stdout"
        }
      ]
    },
    {
      "cell_type": "markdown",
      "metadata": {
        "id": "BtS3iSRXfHgw"
      },
      "source": [
        "Python does not have native matrices, but with lists we can produce a working fascimile. Other packages, such as `numpy`, add matrices as a separate data type, but in base Python the best way to create a matrix is to use a list of lists."
      ]
    },
    {
      "cell_type": "markdown",
      "metadata": {
        "id": "o9CQmzNXfHgw"
      },
      "source": [
        "We can also use built-in functions to generate lists. In particular we will look at `range()` (because we will be using it later!). Range can take several different inputs and will return a list."
      ]
    },
    {
      "cell_type": "code",
      "metadata": {
        "id": "YxjSITJVfHgw",
        "colab": {
          "base_uri": "https://localhost:8080/"
        },
        "outputId": "b248d29d-b24a-4929-d7d5-975c0cdcd93e"
      },
      "source": [
        "b = 10\n",
        "my_list = range(b)\n",
        "print (my_list)"
      ],
      "execution_count": null,
      "outputs": [
        {
          "output_type": "stream",
          "text": [
            "range(0, 10)\n"
          ],
          "name": "stdout"
        }
      ]
    },
    {
      "cell_type": "markdown",
      "metadata": {
        "id": "wV9mJrikfHgw"
      },
      "source": [
        "Similar to our list-slicing methods from before, we can define both a start and an end for our range. This will return a list that is includes the start and excludes the end, just like a slice."
      ]
    },
    {
      "cell_type": "code",
      "metadata": {
        "id": "vwuBV7eUfHgw",
        "colab": {
          "base_uri": "https://localhost:8080/"
        },
        "outputId": "4294d533-f5d9-4f95-917c-b230285260ab"
      },
      "source": [
        "a = 0\n",
        "b = 10\n",
        "my_list = range(a, b)\n",
        "print (my_list)"
      ],
      "execution_count": null,
      "outputs": [
        {
          "output_type": "stream",
          "text": [
            "range(0, 10)\n"
          ],
          "name": "stdout"
        }
      ]
    },
    {
      "cell_type": "markdown",
      "metadata": {
        "id": "PRxBqQXEfHgw"
      },
      "source": [
        "We can also specify a step size. This again has the same behavior as a slice."
      ]
    },
    {
      "cell_type": "code",
      "metadata": {
        "scrolled": true,
        "id": "dbsf5cDffHgx",
        "colab": {
          "base_uri": "https://localhost:8080/"
        },
        "outputId": "30ebb74c-63b0-4f86-a0bb-e895767eab11"
      },
      "source": [
        "a = 0\n",
        "b = 10\n",
        "step = 2\n",
        "my_list = range(a, b, step)\n",
        "print (my_list)"
      ],
      "execution_count": null,
      "outputs": [
        {
          "output_type": "stream",
          "text": [
            "range(0, 10, 2)\n"
          ],
          "name": "stdout"
        }
      ]
    },
    {
      "cell_type": "markdown",
      "metadata": {
        "id": "u36RPk3pfHgx"
      },
      "source": [
        "### Tuples\n",
        "\n",
        "A `tuple` is a data type similar to a list in that it can hold different kinds of data types. The key difference here is that a `tuple` is immutable. We define a `tuple` by separating the elements we want to include by commas. It is conventional to surround a `tuple` with parentheses."
      ]
    },
    {
      "cell_type": "code",
      "metadata": {
        "id": "OfSP6elAfHgx",
        "colab": {
          "base_uri": "https://localhost:8080/"
        },
        "outputId": "e65a0a23-f00e-4457-d79d-df97409c8242"
      },
      "source": [
        "my_tuple = 'I', 'have', 30, 'cats'\n",
        "print (my_tuple)"
      ],
      "execution_count": null,
      "outputs": [
        {
          "output_type": "stream",
          "text": [
            "('I', 'have', 30, 'cats')\n"
          ],
          "name": "stdout"
        }
      ]
    },
    {
      "cell_type": "code",
      "metadata": {
        "id": "3V5cPXakfHgx",
        "colab": {
          "base_uri": "https://localhost:8080/"
        },
        "outputId": "c1d9f49f-a4e3-4226-84f4-5acc6303462b"
      },
      "source": [
        "my_tuple = ('I', 'have', 30, 'cats')\n",
        "print (my_tuple)"
      ],
      "execution_count": null,
      "outputs": [
        {
          "output_type": "stream",
          "text": [
            "('I', 'have', 30, 'cats')\n"
          ],
          "name": "stdout"
        }
      ]
    },
    {
      "cell_type": "markdown",
      "metadata": {
        "id": "GwfKe6fDTmH7"
      },
      "source": [
        "**Ejemplo de los anteriores**\r\n"
      ]
    },
    {
      "cell_type": "code",
      "metadata": {
        "colab": {
          "base_uri": "https://localhost:8080/"
        },
        "id": "WRr8CrvsTrQC",
        "outputId": "485a4513-143a-4410-d83a-5cb64a9e61e6"
      },
      "source": [
        "my_tuple = 'yo','tengo',40,'perros','negros'\r\n",
        "print (my_tuple)"
      ],
      "execution_count": null,
      "outputs": [
        {
          "output_type": "stream",
          "text": [
            "('yo', 'tengo', 40, 'perros', 'negros')\n"
          ],
          "name": "stdout"
        }
      ]
    },
    {
      "cell_type": "markdown",
      "metadata": {
        "id": "ItWNX5GOfHgx"
      },
      "source": [
        "As mentioned before, tuples are immutable. You can't change any part of them without defining a new tuple."
      ]
    },
    {
      "cell_type": "code",
      "metadata": {
        "id": "2iRPFSRgfHgx"
      },
      "source": [
        "# my_tuple[3] = \"dogs\" # Attempts to change the 'cats' value stored in the the tuple to 'dogs'"
      ],
      "execution_count": null,
      "outputs": []
    },
    {
      "cell_type": "markdown",
      "metadata": {
        "id": "FRP3radBUaay"
      },
      "source": [
        "**se hace comentario para que no hayan errores**\r\n"
      ]
    },
    {
      "cell_type": "markdown",
      "metadata": {
        "id": "i1L0pIyzUXKP"
      },
      "source": [
        ""
      ]
    },
    {
      "cell_type": "markdown",
      "metadata": {
        "id": "kMDgfht6fHgx"
      },
      "source": [
        "You can slice tuples the same way that you slice lists!"
      ]
    },
    {
      "cell_type": "code",
      "metadata": {
        "id": "2b-9_WXffHgx",
        "colab": {
          "base_uri": "https://localhost:8080/"
        },
        "outputId": "a51660a6-253e-4b04-be51-bc7b44300e26"
      },
      "source": [
        "print (my_tuple[1:3])"
      ],
      "execution_count": null,
      "outputs": [
        {
          "output_type": "stream",
          "text": [
            "('tengo', 40)\n"
          ],
          "name": "stdout"
        }
      ]
    },
    {
      "cell_type": "markdown",
      "metadata": {
        "id": "BujU-6g6UyCj"
      },
      "source": [
        "**Ejemplo**"
      ]
    },
    {
      "cell_type": "code",
      "metadata": {
        "colab": {
          "base_uri": "https://localhost:8080/"
        },
        "id": "-YvRYZ0zUyo6",
        "outputId": "453265c0-f57c-4f66-ecde-0cb9f88c2b16"
      },
      "source": [
        "print(my_tuple[::2])"
      ],
      "execution_count": null,
      "outputs": [
        {
          "output_type": "stream",
          "text": [
            "('yo', 40, 'negros')\n"
          ],
          "name": "stdout"
        }
      ]
    },
    {
      "cell_type": "markdown",
      "metadata": {
        "id": "sfDtC_-XfHgy"
      },
      "source": [
        "And concatenate them the way that you would with strings!"
      ]
    },
    {
      "cell_type": "code",
      "metadata": {
        "id": "nMqrvey6fHgy",
        "colab": {
          "base_uri": "https://localhost:8080/"
        },
        "outputId": "25914008-d76f-402d-d740-a3043a79872f"
      },
      "source": [
        "my_other_tuple = ('make', 'that', 50)\n",
        "print (my_tuple + my_other_tuple)"
      ],
      "execution_count": null,
      "outputs": [
        {
          "output_type": "stream",
          "text": [
            "('yo', 'tengo', 40, 'perros', 'negros', 'make', 'that', 50)\n"
          ],
          "name": "stdout"
        }
      ]
    },
    {
      "cell_type": "markdown",
      "metadata": {
        "id": "8Oj9ZZPNU41S"
      },
      "source": [
        "**Ejemplo**"
      ]
    },
    {
      "cell_type": "code",
      "metadata": {
        "colab": {
          "base_uri": "https://localhost:8080/"
        },
        "id": "XfnzZtCJU6RK",
        "outputId": "02e43545-3083-4b20-b8d1-b43a9577e6f8"
      },
      "source": [
        "my_other_tuple = ('mejor', 'tengo', 50)\r\n",
        "print (my_tuple + my_other_tuple)"
      ],
      "execution_count": null,
      "outputs": [
        {
          "output_type": "stream",
          "text": [
            "('yo', 'tengo', 40, 'perros', 'negros', 'mejor', 'tengo', 50)\n"
          ],
          "name": "stdout"
        }
      ]
    },
    {
      "cell_type": "markdown",
      "metadata": {
        "id": "qTWajhJvfHgy"
      },
      "source": [
        "We can 'pack' values together, creating a tuple (as above), or we can 'unpack' values from a tuple, taking them out."
      ]
    },
    {
      "cell_type": "code",
      "metadata": {
        "id": "xXVWJORufHgy",
        "colab": {
          "base_uri": "https://localhost:8080/"
        },
        "outputId": "6ab2a8b2-eb27-4de2-ed73-a459d62bf01a"
      },
      "source": [
        "str_1, str_2, int_1 = my_other_tuple\n",
        "print (str_1, str_2, int_1)"
      ],
      "execution_count": null,
      "outputs": [
        {
          "output_type": "stream",
          "text": [
            "mejor tengo 50\n"
          ],
          "name": "stdout"
        }
      ]
    },
    {
      "cell_type": "markdown",
      "metadata": {
        "id": "-0EayDMaVEEh"
      },
      "source": [
        "**Ejemplo**"
      ]
    },
    {
      "cell_type": "code",
      "metadata": {
        "colab": {
          "base_uri": "https://localhost:8080/"
        },
        "id": "lwDvGLiPVOxC",
        "outputId": "f79b8a3b-5b0e-443a-c9f0-0a1ac6212fe8"
      },
      "source": [
        "str_1, int_1 , str2 = my_other_tuple\r\n",
        "print (str_1, str2, int_1)"
      ],
      "execution_count": null,
      "outputs": [
        {
          "output_type": "stream",
          "text": [
            "mejor 50 tengo\n"
          ],
          "name": "stdout"
        }
      ]
    },
    {
      "cell_type": "markdown",
      "metadata": {
        "id": "aKiboiMYfHgy"
      },
      "source": [
        "Unpacking assigns each value of the tuple in order to each variable on the left hand side of the equals sign. Some functions, including user-defined functions, may return tuples, so we can use this to directly unpack them and access the values that we want."
      ]
    },
    {
      "cell_type": "markdown",
      "metadata": {
        "id": "SgpMM4g9fHgy"
      },
      "source": [
        "### Sets\n",
        "\n",
        "A `set` is a collection of unordered, unique elements. It works almost exactly as you would expect a normal set of things in mathematics to work and is defined using braces (`{}`)."
      ]
    },
    {
      "cell_type": "code",
      "metadata": {
        "id": "eaa_bxSofHgy",
        "colab": {
          "base_uri": "https://localhost:8080/"
        },
        "outputId": "f4114871-7b82-4986-8042-fdbdc34880e3"
      },
      "source": [
        "things_i_like = {'dogs', 7, 'the number 4', 4, 4, 4, 42, 'lizards', 'man I just LOVE the number 4'}\n",
        "print (things_i_like, type(things_i_like))"
      ],
      "execution_count": null,
      "outputs": [
        {
          "output_type": "stream",
          "text": [
            "{'the number 4', 4, 7, 42, 'lizards', 'man I just LOVE the number 4', 'dogs'} <class 'set'>\n"
          ],
          "name": "stdout"
        }
      ]
    },
    {
      "cell_type": "markdown",
      "metadata": {
        "id": "iR_QUR84Y_nI"
      },
      "source": [
        "**Ejemplo**"
      ]
    },
    {
      "cell_type": "code",
      "metadata": {
        "colab": {
          "base_uri": "https://localhost:8080/"
        },
        "id": "jNBWVOvQZDf8",
        "outputId": "aed34630-a807-4d7c-95b7-921fcccc2625"
      },
      "source": [
        "things_i_like = {'perros', 7, 'el numero 7', 7, 7, 7, 42, 'lagartijas', 'pana me encanta el 7'}\r\n",
        "print (things_i_like, type(things_i_like))"
      ],
      "execution_count": null,
      "outputs": [
        {
          "output_type": "stream",
          "text": [
            "{'perros', 7, 42, 'el numero 7', 'pana me encanta el 7', 'lagartijas'} <class 'set'>\n"
          ],
          "name": "stdout"
        }
      ]
    },
    {
      "cell_type": "markdown",
      "metadata": {
        "id": "EIf-QoA3fHgy"
      },
      "source": [
        "Note how any extra instances of the same item are removed in the final set. We can also create a `set` from a list, using the `set()` function."
      ]
    },
    {
      "cell_type": "code",
      "metadata": {
        "id": "k3gqjqWBfHgz",
        "colab": {
          "base_uri": "https://localhost:8080/"
        },
        "outputId": "74776135-e5f2-4ba1-8243-2852dd1436bf"
      },
      "source": [
        "animal_list = ['cats', 'dogs', 'dogs', 'dogs', 'lizards', 'sponges', 'cows', 'bats', 'sponges']\n",
        "animal_set = set(animal_list)\n",
        "print (animal_set) # Removes all extra instances from the list"
      ],
      "execution_count": null,
      "outputs": [
        {
          "output_type": "stream",
          "text": [
            "{'cows', 'sponges', 'lizards', 'bats', 'dogs', 'cats'}\n"
          ],
          "name": "stdout"
        }
      ]
    },
    {
      "cell_type": "markdown",
      "metadata": {
        "id": "ZLB0ZhEtaJ8X"
      },
      "source": [
        "**Ejemplo**"
      ]
    },
    {
      "cell_type": "code",
      "metadata": {
        "colab": {
          "base_uri": "https://localhost:8080/"
        },
        "id": "YYTFfSaTaL02",
        "outputId": "dfc62b00-b67f-46b1-daf1-826745bb5380"
      },
      "source": [
        "lista_animales = ['perro','perro','perro','perros','perro','perro','pajaro','perro']\r\n",
        "conjunto = set(lista_animales)\r\n",
        "print(conjunto)"
      ],
      "execution_count": null,
      "outputs": [
        {
          "output_type": "stream",
          "text": [
            "{'pajaro', 'perros', 'perro'}\n"
          ],
          "name": "stdout"
        }
      ]
    },
    {
      "cell_type": "markdown",
      "metadata": {
        "id": "KfKZ06WGfHgz"
      },
      "source": [
        "Calling `len()` on a set will tell you how many elements are in it."
      ]
    },
    {
      "cell_type": "code",
      "metadata": {
        "id": "k0gQgLxpfHgz",
        "colab": {
          "base_uri": "https://localhost:8080/"
        },
        "outputId": "0370cceb-7ee9-4cd9-db2a-f3aa09fd711a"
      },
      "source": [
        "print (len(animal_set))"
      ],
      "execution_count": null,
      "outputs": [
        {
          "output_type": "stream",
          "text": [
            "6\n"
          ],
          "name": "stdout"
        }
      ]
    },
    {
      "cell_type": "markdown",
      "metadata": {
        "id": "Dzz23vfWaePX"
      },
      "source": [
        "**Ejemplo**"
      ]
    },
    {
      "cell_type": "code",
      "metadata": {
        "colab": {
          "base_uri": "https://localhost:8080/"
        },
        "id": "HoahDKtBanQ-",
        "outputId": "bd9ebda5-01ff-4702-a082-55bdaec34df8"
      },
      "source": [
        "len(conjunto)"
      ],
      "execution_count": null,
      "outputs": [
        {
          "output_type": "execute_result",
          "data": {
            "text/plain": [
              "3"
            ]
          },
          "metadata": {
            "tags": []
          },
          "execution_count": 50
        }
      ]
    },
    {
      "cell_type": "markdown",
      "metadata": {
        "id": "NI5ANBTefHgz"
      },
      "source": [
        "Because a `set` is unordered, we can't access individual elements using an index. We can, however, easily check for membership (to see if something is contained in a set) and take the unions and intersections of sets by using the built-in set functions."
      ]
    },
    {
      "cell_type": "code",
      "metadata": {
        "id": "WZnQevhtfHgz",
        "colab": {
          "base_uri": "https://localhost:8080/"
        },
        "outputId": "2e6c0b74-3e44-4898-a951-ac09be18310a"
      },
      "source": [
        "'cats' in animal_set # Here we check for membership using the `in` keyword."
      ],
      "execution_count": null,
      "outputs": [
        {
          "output_type": "execute_result",
          "data": {
            "text/plain": [
              "True"
            ]
          },
          "metadata": {
            "tags": []
          },
          "execution_count": 51
        }
      ]
    },
    {
      "cell_type": "markdown",
      "metadata": {
        "id": "st3lbMKzchqV"
      },
      "source": [
        "**Ejemplo**"
      ]
    },
    {
      "cell_type": "code",
      "metadata": {
        "colab": {
          "base_uri": "https://localhost:8080/"
        },
        "id": "gMFHdwdecjaV",
        "outputId": "f4326a4f-0f6c-43c0-d0a1-0626a8f5e5db"
      },
      "source": [
        "'gatos' in conjunto"
      ],
      "execution_count": null,
      "outputs": [
        {
          "output_type": "execute_result",
          "data": {
            "text/plain": [
              "False"
            ]
          },
          "metadata": {
            "tags": []
          },
          "execution_count": 52
        }
      ]
    },
    {
      "cell_type": "markdown",
      "metadata": {
        "id": "buDjg-tQfHgz"
      },
      "source": [
        "Here we checked to see whether the string 'cats' was contained within our `animal_set` and it returned `True`, telling us that it is indeed in our set.\n",
        "\n",
        "We can connect sets by using typical mathematical set operators, namely `|`, for union, and `&`, for intersection. Using `|` or `&` will return exactly what you would expect if you are familiar with sets in mathematics."
      ]
    },
    {
      "cell_type": "code",
      "metadata": {
        "id": "xcaiB1HNfHgz",
        "colab": {
          "base_uri": "https://localhost:8080/"
        },
        "outputId": "61e919c1-80ca-4450-f34e-860a466a4d06"
      },
      "source": [
        "print (animal_set | things_i_like) # You can also write things_i_like | animal_set with no difference"
      ],
      "execution_count": null,
      "outputs": [
        {
          "output_type": "stream",
          "text": [
            "{'perros', 'cows', 7, 42, 'sponges', 'el numero 7', 'pana me encanta el 7', 'lizards', 'lagartijas', 'bats', 'dogs', 'cats'}\n"
          ],
          "name": "stdout"
        }
      ]
    },
    {
      "cell_type": "markdown",
      "metadata": {
        "id": "eYA3eMPRdYTk"
      },
      "source": [
        "**ejemplo**"
      ]
    },
    {
      "cell_type": "code",
      "metadata": {
        "colab": {
          "base_uri": "https://localhost:8080/"
        },
        "id": "-y9rnecRda7h",
        "outputId": "438180b7-4a4f-4793-cb66-7b03f4971123"
      },
      "source": [
        "print(things_i_like|conjunto)"
      ],
      "execution_count": null,
      "outputs": [
        {
          "output_type": "stream",
          "text": [
            "{'pajaro', 'perros', 7, 42, 'perro', 'el numero 7', 'pana me encanta el 7', 'lagartijas'}\n"
          ],
          "name": "stdout"
        }
      ]
    },
    {
      "cell_type": "markdown",
      "metadata": {
        "id": "WeFRxfhQfHgz"
      },
      "source": [
        "Pairing two sets together with `|` combines the sets, removing any repetitions to make every set element unique."
      ]
    },
    {
      "cell_type": "code",
      "metadata": {
        "id": "JP2Hf9mIfHg0",
        "colab": {
          "base_uri": "https://localhost:8080/"
        },
        "outputId": "63efa290-cb09-4ccb-e741-f208483e4432"
      },
      "source": [
        "print (animal_set & things_i_like) # You can also write things_i_like & animal_set with no difference"
      ],
      "execution_count": null,
      "outputs": [
        {
          "output_type": "stream",
          "text": [
            "set()\n"
          ],
          "name": "stdout"
        }
      ]
    },
    {
      "cell_type": "markdown",
      "metadata": {
        "id": "x5L9_A5Ydm0E"
      },
      "source": [
        "**Ejemplo**"
      ]
    },
    {
      "cell_type": "code",
      "metadata": {
        "colab": {
          "base_uri": "https://localhost:8080/"
        },
        "id": "JzS8lRh_doiM",
        "outputId": "9706f344-2c0c-4ad5-d00c-0b0f29a15e85"
      },
      "source": [
        "print(things_i_like & conjunto)"
      ],
      "execution_count": null,
      "outputs": [
        {
          "output_type": "stream",
          "text": [
            "{'perros'}\n"
          ],
          "name": "stdout"
        }
      ]
    },
    {
      "cell_type": "markdown",
      "metadata": {
        "id": "imNbe1c8fHg0"
      },
      "source": [
        "Pairing two sets together with `&` will calculate the intersection of both sets, returning a set that only contains what they have in common.\n",
        "\n",
        "If you are interested in learning more about the built-in functions for sets, feel free to check out the [documentation](https://docs.python.org/2/library/sets.html)."
      ]
    },
    {
      "cell_type": "markdown",
      "metadata": {
        "id": "2ywoZllcfHg0"
      },
      "source": [
        "### Dictionaries\n",
        "\n",
        "Another essential data structure in Python is the dictionary. Dictionaries are defined with a combination of curly braces (`{}`) and colons (`:`). The braces define the beginning and end of a dictionary and the colons indicate key-value pairs. A dictionary is essentially a set of key-value pairs. The key of any entry must be an immutable data type. This makes both strings and tuples candidates. Keys can be both added and deleted.\n",
        "\n",
        "In the following example, we have a dictionary composed of key-value pairs where the key is a genre of fiction (`string`) and the value is a list of books (`list`) within that genre. Since a collection is still considered a single entity, we can use one to collect multiple variables or values into one key-value pair."
      ]
    },
    {
      "cell_type": "code",
      "metadata": {
        "id": "YjGNW4VlfHg0"
      },
      "source": [
        "my_dict = {\"High Fantasy\": [\"Wheel of Time\", \"Lord of the Rings\"], \n",
        "           \"Sci-fi\": [\"Book of the New Sun\", \"Neuromancer\", \"Snow Crash\"],\n",
        "           \"Weird Fiction\": [\"At the Mountains of Madness\", \"The House on the Borderland\"]}"
      ],
      "execution_count": null,
      "outputs": []
    },
    {
      "cell_type": "markdown",
      "metadata": {
        "id": "7JV01b4pfHg0"
      },
      "source": [
        "After defining a dictionary, we can access any individual value by indicating its key in brackets."
      ]
    },
    {
      "cell_type": "code",
      "metadata": {
        "id": "mrlY8ynSfHg0",
        "colab": {
          "base_uri": "https://localhost:8080/"
        },
        "outputId": "466f630d-1b17-43ef-a579-bbf58af925d8"
      },
      "source": [
        "print (my_dict[\"Sci-fi\"])"
      ],
      "execution_count": null,
      "outputs": [
        {
          "output_type": "stream",
          "text": [
            "['Book of the New Sun', 'Neuromancer', 'Snow Crash']\n"
          ],
          "name": "stdout"
        }
      ]
    },
    {
      "cell_type": "markdown",
      "metadata": {
        "id": "xpVNACywern0"
      },
      "source": [
        "**Ejemplo**"
      ]
    },
    {
      "cell_type": "code",
      "metadata": {
        "colab": {
          "base_uri": "https://localhost:8080/"
        },
        "id": "K_HntrhlethE",
        "outputId": "fb815910-698a-49be-b7db-a49c01ca26a8"
      },
      "source": [
        "diccionario ={\"fantasia\":[\"harry potter\",\"el señor de los anillos\"],\r\n",
        "              \"aventura\":[\"the legend of zelda\",\"hollow knight\"],\r\n",
        "              \"RTS\": [\"civilisation\",\"Age of Empires\",\"Starcraft\"]\r\n",
        "              }\r\n",
        "print(diccionario[\"aventura\"])"
      ],
      "execution_count": null,
      "outputs": [
        {
          "output_type": "stream",
          "text": [
            "['the legend of zelda', 'hollow knight']\n"
          ],
          "name": "stdout"
        }
      ]
    },
    {
      "cell_type": "markdown",
      "metadata": {
        "id": "byaMKNNefHg0"
      },
      "source": [
        "We can also change the value associated with a given key"
      ]
    },
    {
      "cell_type": "code",
      "metadata": {
        "id": "kUsxuU9rfHg0",
        "colab": {
          "base_uri": "https://localhost:8080/"
        },
        "outputId": "16c97144-77f2-4fe4-9023-c0c3ad243d50"
      },
      "source": [
        "my_dict[\"Sci-fi\"] = \"I can't read\"\n",
        "print (my_dict[\"Sci-fi\"])"
      ],
      "execution_count": null,
      "outputs": [
        {
          "output_type": "stream",
          "text": [
            "I can't read\n"
          ],
          "name": "stdout"
        }
      ]
    },
    {
      "cell_type": "markdown",
      "metadata": {
        "id": "c2-1GFdvgYZa"
      },
      "source": [
        "**Ejemplo**"
      ]
    },
    {
      "cell_type": "code",
      "metadata": {
        "colab": {
          "base_uri": "https://localhost:8080/"
        },
        "id": "502ud5eyiHwn",
        "outputId": "6fbdce0b-9d6f-49ac-b060-9b13c9c53da7"
      },
      "source": [
        "diccionario[\"RTS\"] = \"no conozco :C\"\r\n",
        "print(diccionario[\"RTS\"])"
      ],
      "execution_count": null,
      "outputs": [
        {
          "output_type": "stream",
          "text": [
            "no conozco :C\n"
          ],
          "name": "stdout"
        }
      ]
    },
    {
      "cell_type": "markdown",
      "metadata": {
        "id": "-yWD8WDnfHg1"
      },
      "source": [
        "Adding a new key-value pair is as simple as defining it."
      ]
    },
    {
      "cell_type": "code",
      "metadata": {
        "id": "9QOht7K7fHg1",
        "colab": {
          "base_uri": "https://localhost:8080/"
        },
        "outputId": "5e6ab401-9b3e-4b34-e578-fcc853425286"
      },
      "source": [
        "my_dict[\"Historical Fiction\"] = [\"Pillars of the Earth\"]\n",
        "print (my_dict[\"Historical Fiction\"])"
      ],
      "execution_count": null,
      "outputs": [
        {
          "output_type": "stream",
          "text": [
            "['Pillars of the Earth']\n"
          ],
          "name": "stdout"
        }
      ]
    },
    {
      "cell_type": "code",
      "metadata": {
        "id": "vdHpP9ejfHg1",
        "colab": {
          "base_uri": "https://localhost:8080/"
        },
        "outputId": "e84069ad-5b44-4c3f-d0fc-25223d6936bf"
      },
      "source": [
        "print (my_dict)"
      ],
      "execution_count": null,
      "outputs": [
        {
          "output_type": "stream",
          "text": [
            "{'High Fantasy': ['Wheel of Time', 'Lord of the Rings'], 'Sci-fi': \"I can't read\", 'Weird Fiction': ['At the Mountains of Madness', 'The House on the Borderland'], 'Historical Fiction': ['Pillars of the Earth']}\n"
          ],
          "name": "stdout"
        }
      ]
    },
    {
      "cell_type": "markdown",
      "metadata": {
        "id": "mAxSUbSkjXGo"
      },
      "source": [
        "**Ejemplo**"
      ]
    },
    {
      "cell_type": "code",
      "metadata": {
        "colab": {
          "base_uri": "https://localhost:8080/"
        },
        "id": "drtqmAK2jZoo",
        "outputId": "a070e20d-96cb-4ea8-e327-a0653802b9f2"
      },
      "source": [
        "diccionario[\"RPG\"] = \"Fire Emblem\"\r\n",
        "print (diccionario[\"RPG\"])"
      ],
      "execution_count": null,
      "outputs": [
        {
          "output_type": "stream",
          "text": [
            "Fire Emblem\n"
          ],
          "name": "stdout"
        }
      ]
    },
    {
      "cell_type": "code",
      "metadata": {
        "colab": {
          "base_uri": "https://localhost:8080/"
        },
        "id": "ehqcITBSjqi3",
        "outputId": "31d1060d-7b43-4fed-bd20-990e7fce4451"
      },
      "source": [
        "print(diccionario)"
      ],
      "execution_count": null,
      "outputs": [
        {
          "output_type": "stream",
          "text": [
            "{'fantasia': ['harry potter', 'el señor de los anillos'], 'aventura': ['the legend of zelda', 'hollow knight'], 'RTS': 'no conozco :C', 'RPG': 'Fire Emblem'}\n"
          ],
          "name": "stdout"
        }
      ]
    },
    {
      "cell_type": "markdown",
      "metadata": {
        "id": "q-oj0AaxfHg1"
      },
      "source": [
        "## String Shenanigans\n",
        "\n",
        "We already know that strings are generally used for text. We can used built-in operations to combine, split, and format strings easily, depending on our needs.\n",
        "\n",
        "The `+` symbol indicates concatenation in string language. It will combine two strings into a longer string."
      ]
    },
    {
      "cell_type": "code",
      "metadata": {
        "id": "mGwFG8BYfHg1",
        "colab": {
          "base_uri": "https://localhost:8080/"
        },
        "outputId": "0762858a-ec01-48c2-afac-0b7e771177e6"
      },
      "source": [
        "first_string = '\"Beware the Jabberwock, my son! /The jaws that bite, the claws that catch! /'\n",
        "second_string = 'Beware the Jubjub bird, and shun /The frumious Bandersnatch!\"/'\n",
        "third_string = first_string + second_string\n",
        "print (third_string)"
      ],
      "execution_count": null,
      "outputs": [
        {
          "output_type": "stream",
          "text": [
            "\"Beware the Jabberwock, my son! /The jaws that bite, the claws that catch! /Beware the Jubjub bird, and shun /The frumious Bandersnatch!\"/\n"
          ],
          "name": "stdout"
        }
      ]
    },
    {
      "cell_type": "markdown",
      "metadata": {
        "id": "Pqt-O3vVne0u"
      },
      "source": [
        "**Ejemplo**"
      ]
    },
    {
      "cell_type": "code",
      "metadata": {
        "colab": {
          "base_uri": "https://localhost:8080/"
        },
        "id": "w6wDMfeVngtN",
        "outputId": "2c8d33c4-e143-42e0-9f1b-b67595a7ee95"
      },
      "source": [
        "primera_frase = \"buenos dias \"\r\n",
        "segunda_frase = \"espero tenga una buena tarde\"\r\n",
        "tercera_frase = primera_frase + segunda_frase\r\n",
        "print(tercera_frase)"
      ],
      "execution_count": null,
      "outputs": [
        {
          "output_type": "stream",
          "text": [
            "buenos dias espero tenga una buena tarde\n"
          ],
          "name": "stdout"
        }
      ]
    },
    {
      "cell_type": "markdown",
      "metadata": {
        "id": "60GGxNgVfHg1"
      },
      "source": [
        "Strings are also indexed much in the same way that lists are."
      ]
    },
    {
      "cell_type": "code",
      "metadata": {
        "id": "F_RzwZ9nfHg1",
        "colab": {
          "base_uri": "https://localhost:8080/"
        },
        "outputId": "a07c3458-455a-4118-98ba-3696fcf79e8e"
      },
      "source": [
        "my_string = 'Supercalifragilisticexpialidocious'\n",
        "print ('The first letter is: ', my_string[0]) # Uppercase S\n",
        "print ('The last letter is: ', my_string[-1]) # lowercase s\n",
        "print ('The second to last letter is: ', my_string[-2]) # lowercase u\n",
        "print ('The first five characters are: ', my_string[0:5]) # Remember: slicing doesn't include the final element!\n",
        "print ('Reverse it!: ', my_string[::-1])"
      ],
      "execution_count": null,
      "outputs": [
        {
          "output_type": "stream",
          "text": [
            "The first letter is:  S\n",
            "The last letter is:  s\n",
            "The second to last letter is:  u\n",
            "The first five characters are:  Super\n",
            "Reverse it!:  suoicodilaipxecitsiligarfilacrepuS\n"
          ],
          "name": "stdout"
        }
      ]
    },
    {
      "cell_type": "markdown",
      "metadata": {
        "id": "uiOCQX4Zn6-V"
      },
      "source": [
        "**Ejemplo**"
      ]
    },
    {
      "cell_type": "code",
      "metadata": {
        "colab": {
          "base_uri": "https://localhost:8080/"
        },
        "id": "A8RbYxgSn9BV",
        "outputId": "5a434061-49bb-4b7d-86fb-5403c1a21e6a"
      },
      "source": [
        "my_string = 'BuenosDiasYtengaUnFelizDia'\r\n",
        "print ('The first letter is: ', my_string[0])\r\n",
        "print ('The last letter is: ', my_string[-1]) \r\n",
        "print ('The second to last letter is: ', my_string[-2]) \r\n",
        "print ('The first five characters are: ', my_string[0:5]) \r\n",
        "print ('Reverse it!: ', my_string[::-1])"
      ],
      "execution_count": null,
      "outputs": [
        {
          "output_type": "stream",
          "text": [
            "The first letter is:  B\n",
            "The last letter is:  a\n",
            "The second to last letter is:  i\n",
            "The first five characters are:  Bueno\n",
            "Reverse it!:  aiDzileFnUagnetYsaiDsoneuB\n"
          ],
          "name": "stdout"
        }
      ]
    },
    {
      "cell_type": "markdown",
      "metadata": {
        "id": "tmDEIe0rfHg1"
      },
      "source": [
        "Built-in objects and classes often have special functions associated with them that are called methods. We access these methods by using a period ('.'). We will cover objects and their associated methods more in another lecture!\n",
        "\n",
        "Using string methods we can count instances of a character or group of characters."
      ]
    },
    {
      "cell_type": "code",
      "metadata": {
        "scrolled": true,
        "id": "Ij45JiXPfHg2",
        "colab": {
          "base_uri": "https://localhost:8080/"
        },
        "outputId": "116caeef-ad4b-474b-d2a5-2c989ab0fe2c"
      },
      "source": [
        "print ('Count of the letter i in Supercalifragilisticexpialidocious: ', my_string.count('i'))\n",
        "print ('Count of \"li\" in the same word: ', my_string.count('li'))"
      ],
      "execution_count": null,
      "outputs": [
        {
          "output_type": "stream",
          "text": [
            "Count of the letter i in Supercalifragilisticexpialidocious:  3\n",
            "Count of \"li\" in the same word:  1\n"
          ],
          "name": "stdout"
        }
      ]
    },
    {
      "cell_type": "markdown",
      "metadata": {
        "id": "7w5EWtS-xIln"
      },
      "source": [
        "**Ejemplo**"
      ]
    },
    {
      "cell_type": "code",
      "metadata": {
        "colab": {
          "base_uri": "https://localhost:8080/"
        },
        "id": "zGjwoCiIxKFv",
        "outputId": "82da0bc9-7c6e-493e-c0e0-8cb55ae0bd6f"
      },
      "source": [
        "print ('cuantas veces esta la letra a en BuenosDiasYtengaUnFelizDia: ', my_string.count('a'))\r\n",
        "print ('cuantas veces se dice dia en la frase: ', my_string.count('Dia'))"
      ],
      "execution_count": null,
      "outputs": [
        {
          "output_type": "stream",
          "text": [
            "cuantas veces esta la letra a en BuenosDiasYtengaUnFelizDia:  3\n",
            "cuantas veces se dice dia en la frase:  2\n"
          ],
          "name": "stdout"
        }
      ]
    },
    {
      "cell_type": "markdown",
      "metadata": {
        "id": "XR0Z7V4XfHg2"
      },
      "source": [
        "We can also find the first instance of a character or group of characters in a string."
      ]
    },
    {
      "cell_type": "code",
      "metadata": {
        "id": "Gk1gcMEIfHg2",
        "colab": {
          "base_uri": "https://localhost:8080/"
        },
        "outputId": "531b97d0-ef11-4e6e-c950-7fe4ef06cdb0"
      },
      "source": [
        "print ('The first time i appears is at index: ', my_string.find('i'))"
      ],
      "execution_count": null,
      "outputs": [
        {
          "output_type": "stream",
          "text": [
            "The first time i appears is at index:  7\n"
          ],
          "name": "stdout"
        }
      ]
    },
    {
      "cell_type": "markdown",
      "metadata": {
        "id": "ViFyvZ8_xgSf"
      },
      "source": [
        "**Ejemplo**"
      ]
    },
    {
      "cell_type": "code",
      "metadata": {
        "colab": {
          "base_uri": "https://localhost:8080/"
        },
        "id": "ZZeli8Ygxmpc",
        "outputId": "a65abc7d-b09d-46f3-811c-88e3c7d8e39d"
      },
      "source": [
        "print ('la primera vez que la s aparece es en ', my_string.find('s'))"
      ],
      "execution_count": null,
      "outputs": [
        {
          "output_type": "stream",
          "text": [
            "la primera vez que la s aparece es en  5\n"
          ],
          "name": "stdout"
        }
      ]
    },
    {
      "cell_type": "markdown",
      "metadata": {
        "id": "uT4gp2gOfHg2"
      },
      "source": [
        "As well as replace characters in a string."
      ]
    },
    {
      "cell_type": "code",
      "metadata": {
        "id": "y7wgRP87fHg2",
        "colab": {
          "base_uri": "https://localhost:8080/"
        },
        "outputId": "a6f76960-dd3f-4fda-8e3f-7b5651937f8e"
      },
      "source": [
        "print (\"All i's are now a's: \", my_string.replace('i', 'a'))"
      ],
      "execution_count": null,
      "outputs": [
        {
          "output_type": "stream",
          "text": [
            "All i's are now a's:  BuenosDaasYtengaUnFelazDaa\n"
          ],
          "name": "stdout"
        }
      ]
    },
    {
      "cell_type": "markdown",
      "metadata": {
        "id": "_4GYYfekx0fn"
      },
      "source": [
        "**Ejemplo**"
      ]
    },
    {
      "cell_type": "code",
      "metadata": {
        "colab": {
          "base_uri": "https://localhost:8080/"
        },
        "id": "OlcqeJwax2xm",
        "outputId": "4aa2df61-fbb6-4452-d273-872cdc2805ca"
      },
      "source": [
        "print (\"todas las As son ahora I\", my_string.replace('a','i'))"
      ],
      "execution_count": null,
      "outputs": [
        {
          "output_type": "stream",
          "text": [
            "todas las As son ahora I BuenosDiisYtengiUnFelizDii\n"
          ],
          "name": "stdout"
        }
      ]
    },
    {
      "cell_type": "code",
      "metadata": {
        "id": "m5hZVvh0fHg2",
        "colab": {
          "base_uri": "https://localhost:8080/"
        },
        "outputId": "baf9a5af-5e5c-4f17-8c23-eb8d9c7ba28c"
      },
      "source": [
        "print (\"It's raining cats and dogs\".replace('dogs', 'more cats'))"
      ],
      "execution_count": null,
      "outputs": [
        {
          "output_type": "stream",
          "text": [
            "It's raining cats and more cats\n"
          ],
          "name": "stdout"
        }
      ]
    },
    {
      "cell_type": "markdown",
      "metadata": {
        "id": "MU8bzaOAyJze"
      },
      "source": [
        "**Ejemplo**"
      ]
    },
    {
      "cell_type": "code",
      "metadata": {
        "colab": {
          "base_uri": "https://localhost:8080/"
        },
        "id": "K_KXFeJ-yPe2",
        "outputId": "e52b250d-4e2a-45ad-dde5-64c3a0d0c711"
      },
      "source": [
        "print (\"Buenos Dias\".replace(\"Dias\",'Tardes'))"
      ],
      "execution_count": null,
      "outputs": [
        {
          "output_type": "stream",
          "text": [
            "Buenos Tardes\n"
          ],
          "name": "stdout"
        }
      ]
    },
    {
      "cell_type": "markdown",
      "metadata": {
        "id": "DZxqumBtfHg2"
      },
      "source": [
        "There are also some methods that are unique to strings. The function `upper()` will convert all characters in a string to uppercase, while `lower()` will convert all characters in a string to lowercase!"
      ]
    },
    {
      "cell_type": "code",
      "metadata": {
        "id": "_B1BN2-NfHg2",
        "colab": {
          "base_uri": "https://localhost:8080/"
        },
        "outputId": "29053f54-78fd-47e7-feae-8b046fe2afac"
      },
      "source": [
        "my_string = \"I can't hear you\"\n",
        "print (my_string.upper())\n",
        "my_string = \"I said HELLO\"\n",
        "print (my_string.lower())"
      ],
      "execution_count": null,
      "outputs": [
        {
          "output_type": "stream",
          "text": [
            "I CAN'T HEAR YOU\n",
            "i said hello\n"
          ],
          "name": "stdout"
        }
      ]
    },
    {
      "cell_type": "markdown",
      "metadata": {
        "id": "u1br6Y88z87d"
      },
      "source": [
        "**Ejemplo**"
      ]
    },
    {
      "cell_type": "code",
      "metadata": {
        "colab": {
          "base_uri": "https://localhost:8080/"
        },
        "id": "SknpM3rA0gI9",
        "outputId": "12036cab-6b88-4934-c4fb-0358a96f4167"
      },
      "source": [
        "my_string = \"nO PuEdo OIrte\"\r\n",
        "print (my_string.upper())\r\n",
        "my_string = \"DIJE Hola\"\r\n",
        "print (my_string.lower())"
      ],
      "execution_count": null,
      "outputs": [
        {
          "output_type": "stream",
          "text": [
            "NO PUEDO OIRTE\n",
            "dije hola\n"
          ],
          "name": "stdout"
        }
      ]
    },
    {
      "cell_type": "markdown",
      "metadata": {
        "id": "bn7c64JcfHg3"
      },
      "source": [
        "### String Formatting\n",
        "\n",
        "Using the `format()` method we can add in variable values and generally format our strings."
      ]
    },
    {
      "cell_type": "code",
      "metadata": {
        "id": "9f4uf9UAfHg3",
        "colab": {
          "base_uri": "https://localhost:8080/"
        },
        "outputId": "1fe39970-2cb2-4daf-e56b-cd72773e079b"
      },
      "source": [
        "my_string = \"{0} {1}\".format('Marco', 'Polo')\n",
        "print (my_string)"
      ],
      "execution_count": null,
      "outputs": [
        {
          "output_type": "stream",
          "text": [
            "Marco Polo\n"
          ],
          "name": "stdout"
        }
      ]
    },
    {
      "cell_type": "code",
      "metadata": {
        "id": "-uAKoaOwfHg3",
        "colab": {
          "base_uri": "https://localhost:8080/"
        },
        "outputId": "f9dbc6df-8ab3-406e-9db1-210282b47aed"
      },
      "source": [
        "my_string = \"{1} {0}\".format('Marco', 'Polo')\n",
        "print (my_string)"
      ],
      "execution_count": null,
      "outputs": [
        {
          "output_type": "stream",
          "text": [
            "Polo Marco\n"
          ],
          "name": "stdout"
        }
      ]
    },
    {
      "cell_type": "markdown",
      "metadata": {
        "id": "Hbar73m8ASj1"
      },
      "source": [
        "**Ejemplo**"
      ]
    },
    {
      "cell_type": "code",
      "metadata": {
        "colab": {
          "base_uri": "https://localhost:8080/"
        },
        "id": "XFI1VI_EAYVV",
        "outputId": "15d6026c-34e1-4177-a2bc-433e5d6a8e75"
      },
      "source": [
        "palabra = \"{1}-{2}-{0}\".format('buenos', 'hoy', 'Dias')\r\n",
        "print (palabra)"
      ],
      "execution_count": null,
      "outputs": [
        {
          "output_type": "stream",
          "text": [
            "hoy-Dias-buenos\n"
          ],
          "name": "stdout"
        }
      ]
    },
    {
      "cell_type": "markdown",
      "metadata": {
        "id": "JyHw_bDifHg3"
      },
      "source": [
        "We use braces (`{}`) to indicate parts of the string that will be filled in later and we use the arguments of the `format()` function to provide the values to substitute. The numbers within the braces indicate the index of the value in the `format()` arguments."
      ]
    },
    {
      "cell_type": "markdown",
      "metadata": {
        "id": "hV9DKAFOfHg3"
      },
      "source": [
        "See the `format()` [documentation](https://docs.python.org/2/library/string.html#format-examples) for additional examples."
      ]
    },
    {
      "cell_type": "markdown",
      "metadata": {
        "id": "umeQLU1LfHg3"
      },
      "source": [
        "If you need some quick and dirty formatting, you can instead use the `%` symbol, called the string formatting operator. "
      ]
    },
    {
      "cell_type": "code",
      "metadata": {
        "id": "bbx_uxVkfHg3",
        "colab": {
          "base_uri": "https://localhost:8080/"
        },
        "outputId": "dd12ffa5-8ba5-429a-cae5-dfc709e6507e"
      },
      "source": [
        "print ('insert %s here' % 'value')"
      ],
      "execution_count": null,
      "outputs": [
        {
          "output_type": "stream",
          "text": [
            "insert value here\n"
          ],
          "name": "stdout"
        }
      ]
    },
    {
      "cell_type": "markdown",
      "metadata": {
        "id": "C1vkQdrqfHg3"
      },
      "source": [
        "The `%` symbol basically cues Python to create a placeholder. Whatever character follows the `%` (in the string) indicates what sort of type the value put into the placeholder will have. This character is called a *conversion type*. Once the string has been closed, we need another `%` that will be followed by the values to insert. In the case of one value, you can just put it there. If you are inserting more than one value, they must be enclosed in a tuple."
      ]
    },
    {
      "cell_type": "code",
      "metadata": {
        "id": "Cooh4QiLfHg4",
        "colab": {
          "base_uri": "https://localhost:8080/"
        },
        "outputId": "43f05548-4743-40bc-c8c2-567d3519e73a"
      },
      "source": [
        "print ('There are %s cats in my %s' % (13, 'apartment'))"
      ],
      "execution_count": null,
      "outputs": [
        {
          "output_type": "stream",
          "text": [
            "There are 13 cats in my apartment\n"
          ],
          "name": "stdout"
        }
      ]
    },
    {
      "cell_type": "markdown",
      "metadata": {
        "id": "Y2vhZGo9CQZT"
      },
      "source": [
        "**Ejemplo**"
      ]
    },
    {
      "cell_type": "code",
      "metadata": {
        "colab": {
          "base_uri": "https://localhost:8080/"
        },
        "id": "aq-LyEWzCO5D",
        "outputId": "d5892a07-49cb-4b36-cc91-d364a4846e49"
      },
      "source": [
        "print (\"hay %s personas en mi %s\" % (27, 'casa'))"
      ],
      "execution_count": null,
      "outputs": [
        {
          "output_type": "stream",
          "text": [
            "hay 27 personas en mi casa\n"
          ],
          "name": "stdout"
        }
      ]
    },
    {
      "cell_type": "markdown",
      "metadata": {
        "id": "7v4x2Y1WfHg4"
      },
      "source": [
        "In these examples, the `%s` indicates that Python should convert the values into strings. There are multiple conversion types that you can use to get more specific with the the formatting. See the string formatting [documentation](https://docs.python.org/2/library/stdtypes.html#string-formatting) for additional examples and more complete details on use."
      ]
    },
    {
      "cell_type": "markdown",
      "metadata": {
        "id": "C9rbX55ffHg4"
      },
      "source": [
        "## Logical Operators\n",
        "### Basic Logic\n",
        "\n",
        "Logical operators deal with `boolean` values, as we briefly covered before. If you recall, a `bool` takes on one of two values, `True` or `False` (or $1$ or $0$). The basic logical statements that we can make are defined using the built-in comparators. These are `==` (equal), `!=` (not equal), `<` (less than), `>` (greater than), `<=` (less than or equal to), and `>=` (greater than or equal to)."
      ]
    },
    {
      "cell_type": "code",
      "metadata": {
        "id": "-PbD0e6tfHg4",
        "colab": {
          "base_uri": "https://localhost:8080/"
        },
        "outputId": "83f26f9c-b980-431a-b220-0b23d4f322b9"
      },
      "source": [
        "print (5 == 5)"
      ],
      "execution_count": null,
      "outputs": [
        {
          "output_type": "stream",
          "text": [
            "True\n"
          ],
          "name": "stdout"
        }
      ]
    },
    {
      "cell_type": "code",
      "metadata": {
        "id": "Kef7b0ytfHg4",
        "colab": {
          "base_uri": "https://localhost:8080/"
        },
        "outputId": "c51feb62-cbc5-4882-9641-710398d7f9b9"
      },
      "source": [
        "print (5 > 5)"
      ],
      "execution_count": null,
      "outputs": [
        {
          "output_type": "stream",
          "text": [
            "False\n"
          ],
          "name": "stdout"
        }
      ]
    },
    {
      "cell_type": "markdown",
      "metadata": {
        "id": "tLkBDppcfHg4"
      },
      "source": [
        "These comparators also work in conjunction with variables."
      ]
    },
    {
      "cell_type": "code",
      "metadata": {
        "id": "9zUK-DkyfHg4",
        "colab": {
          "base_uri": "https://localhost:8080/"
        },
        "outputId": "3a4b9a25-d953-4c40-fb54-ed406cb84ba1"
      },
      "source": [
        "m = 2\n",
        "n = 23\n",
        "print (m < n)"
      ],
      "execution_count": null,
      "outputs": [
        {
          "output_type": "stream",
          "text": [
            "True\n"
          ],
          "name": "stdout"
        }
      ]
    },
    {
      "cell_type": "markdown",
      "metadata": {
        "id": "SeGnS3vmKH3w"
      },
      "source": [
        "**Ejemplo**"
      ]
    },
    {
      "cell_type": "code",
      "metadata": {
        "colab": {
          "base_uri": "https://localhost:8080/"
        },
        "id": "klux3Y1gLaQm",
        "outputId": "0191f79e-405a-4cda-d1ac-4276c8d1f3b1"
      },
      "source": [
        "a = 5\r\n",
        "b = 7\r\n",
        "print (a==b)"
      ],
      "execution_count": null,
      "outputs": [
        {
          "output_type": "stream",
          "text": [
            "False\n"
          ],
          "name": "stdout"
        }
      ]
    },
    {
      "cell_type": "markdown",
      "metadata": {
        "id": "5fnT3woHfHg4"
      },
      "source": [
        "We can string these comparators together to make more complex logical statements using the logical operators `or`, `and`, and `not`. "
      ]
    },
    {
      "cell_type": "code",
      "metadata": {
        "id": "yzAFok3nfHg5",
        "colab": {
          "base_uri": "https://localhost:8080/"
        },
        "outputId": "7798d707-7b17-4168-c2b9-8cbf827e3343"
      },
      "source": [
        "statement_1 = 10 > 2\n",
        "statement_2 = 4 <= 6\n",
        "print (\"Statement 1 truth value: {0}\".format(statement_1))\n",
        "print (\"Statement 2 truth value: {0}\".format(statement_2))\n",
        "print (\"Statement 1 and Statement 2: {0}\".format(statement_1 and statement_2))"
      ],
      "execution_count": null,
      "outputs": [
        {
          "output_type": "stream",
          "text": [
            "Statement 1 truth value: True\n",
            "Statement 2 truth value: True\n",
            "Statement 1 and Statement 2: True\n"
          ],
          "name": "stdout"
        }
      ]
    },
    {
      "cell_type": "markdown",
      "metadata": {
        "id": "FYnNfo5KM2TX"
      },
      "source": [
        "**Ejemplo**"
      ]
    },
    {
      "cell_type": "code",
      "metadata": {
        "colab": {
          "base_uri": "https://localhost:8080/"
        },
        "id": "yATcM8wEM39m",
        "outputId": "485e6fbc-603f-45ac-9eee-4ca617d5581d"
      },
      "source": [
        "proposicion1 = 25%5 == 0\r\n",
        "proposicion2 =  7*7 == 7*2\r\n",
        "print (\"el valor de verdad de la proposicion1 es: {0}\".format(proposicion1))\r\n",
        "print (\"el valor de verdad de la proposicion2 es: {0}\".format(proposicion2))\r\n",
        "print (\"el valor de verdad de la proposicion1 y la proposicion2 es: {0}\".format(proposicion1 and proposicion2))"
      ],
      "execution_count": null,
      "outputs": [
        {
          "output_type": "stream",
          "text": [
            "el valor de verdad de la proposicion1 es: True\n",
            "el valor de verdad de la proposicion2 es: False\n",
            "el valor de verdad de la proposicion1 y la proposicion2 es: False\n"
          ],
          "name": "stdout"
        }
      ]
    },
    {
      "cell_type": "markdown",
      "metadata": {
        "id": "12_k2oJQfHg5"
      },
      "source": [
        "The `or` operator performs a logical `or` calculation. This is an inclusive `or`, so if either component paired together by `or` is `True`, the whole statement will be `True`. The `and` statement only outputs `True` if all components that are `and`ed together are True. Otherwise it will output `False`. The `not` statement simply inverts the truth value of whichever statement follows it. So a `True` statement will be evaluated as `False` when a `not` is placed in front of it. Similarly, a `False` statement will become `True` when a `not` is in front of it.\n",
        "\n",
        "Say that we have two logical statements, or assertions, $P$ and $Q$. The truth table for the basic logical operators is as follows:\n",
        "\n",
        "|  P  |  Q  | `not` P| P `and` Q | P `or` Q|\n",
        "|:-----:|:-----:|:---:|:---:|:---:|\n",
        "| `True` | `True` | `False` | `True` | `True` |\n",
        "| `False` | `True` | `True` | `False` | `True` |\n",
        "| `True` | `False` | `False` | `False` | `True` |\n",
        "| `False` | `False` | `True` | `False` | `False` |\n",
        "\n",
        "We can string multiple logical statements together using the logical operators."
      ]
    },
    {
      "cell_type": "code",
      "metadata": {
        "id": "oR-797FtfHg5",
        "colab": {
          "base_uri": "https://localhost:8080/"
        },
        "outputId": "cfd520ee-45de-4cf7-caa4-5e683a2e121d"
      },
      "source": [
        "print ((2 < 3) and (3 > 0)) or ((5 > 6) and not (4 < 2))"
      ],
      "execution_count": null,
      "outputs": [
        {
          "output_type": "stream",
          "text": [
            "True\n"
          ],
          "name": "stdout"
        },
        {
          "output_type": "execute_result",
          "data": {
            "text/plain": [
              "False"
            ]
          },
          "metadata": {
            "tags": []
          },
          "execution_count": 114
        }
      ]
    },
    {
      "cell_type": "markdown",
      "metadata": {
        "id": "5WeoSUx0fHg5"
      },
      "source": [
        "Logical statements can be as simple or complex as we like, depending on what we need to express. Evaluating the above logical statement step by step we see that we are evaluating (`True and True`) `or` (`False and not False`). This becomes `True or (False and True`), subsequently becoming `True or False`, ultimately being evaluated as `True`."
      ]
    },
    {
      "cell_type": "markdown",
      "metadata": {
        "id": "DDyQz1uufHg5"
      },
      "source": [
        "#### Truthiness\n",
        "\n",
        "Data types in Python have a fun characteristic called truthiness. What this means is that most built-in types will evaluate as either `True` or `False` when a boolean value is needed (such as with an if-statement). As a general rule, containers like strings, tuples, dictionaries, lists, and sets, will return `True` if they contain anything at all and `False` if they contain nothing."
      ]
    },
    {
      "cell_type": "code",
      "metadata": {
        "id": "0o7RItdtfHg5",
        "colab": {
          "base_uri": "https://localhost:8080/"
        },
        "outputId": "b10ca874-01ba-43d1-b541-696264ff8e7c"
      },
      "source": [
        "# Similar to how float() and int() work, bool() forces a value to be considered a boolean!\n",
        "print (bool(''))"
      ],
      "execution_count": null,
      "outputs": [
        {
          "output_type": "stream",
          "text": [
            "False\n"
          ],
          "name": "stdout"
        }
      ]
    },
    {
      "cell_type": "code",
      "metadata": {
        "id": "UNob_HSMfHg5",
        "colab": {
          "base_uri": "https://localhost:8080/"
        },
        "outputId": "8c6e7c05-a061-45e5-a43b-380c541ab48c"
      },
      "source": [
        "print (bool('I have character!'))"
      ],
      "execution_count": null,
      "outputs": [
        {
          "output_type": "stream",
          "text": [
            "True\n"
          ],
          "name": "stdout"
        }
      ]
    },
    {
      "cell_type": "code",
      "metadata": {
        "id": "Q4NbLqqcfHg5",
        "colab": {
          "base_uri": "https://localhost:8080/"
        },
        "outputId": "59055186-570a-4c64-c801-a2ed4caaa4ac"
      },
      "source": [
        "print (bool([]))"
      ],
      "execution_count": null,
      "outputs": [
        {
          "output_type": "stream",
          "text": [
            "False\n"
          ],
          "name": "stdout"
        }
      ]
    },
    {
      "cell_type": "code",
      "metadata": {
        "id": "GYn-R32zfHg6",
        "colab": {
          "base_uri": "https://localhost:8080/"
        },
        "outputId": "b6f6354c-837e-4180-866f-c6b4c0d4cfa3"
      },
      "source": [
        "print (bool([1, 2, 3]))"
      ],
      "execution_count": null,
      "outputs": [
        {
          "output_type": "stream",
          "text": [
            "True\n"
          ],
          "name": "stdout"
        }
      ]
    },
    {
      "cell_type": "markdown",
      "metadata": {
        "id": "n-61VolVnhy3"
      },
      "source": [
        "**Ejemplo**"
      ]
    },
    {
      "cell_type": "code",
      "metadata": {
        "colab": {
          "base_uri": "https://localhost:8080/"
        },
        "id": "Qd0qLM_YnhWf",
        "outputId": "76c2c81c-5d3c-4124-b92b-71f874f1a9b3"
      },
      "source": [
        "print(bool([1,2,3]) and bool('a')) "
      ],
      "execution_count": null,
      "outputs": [
        {
          "output_type": "stream",
          "text": [
            "True\n"
          ],
          "name": "stdout"
        }
      ]
    },
    {
      "cell_type": "markdown",
      "metadata": {
        "id": "sNbySRECfHg6"
      },
      "source": [
        "And so on, for the other collections and containers. `None` also evaluates as `False`. The number `1` is equivalent to `True` and the number `0` is equivalent to `False` as well, in a boolean context."
      ]
    },
    {
      "cell_type": "markdown",
      "metadata": {
        "id": "5OFxUikMfHg6"
      },
      "source": [
        "### If-statements\n",
        "\n",
        "We can create segments of code that only execute if a set of conditions is met. We use if-statements in conjunction with logical statements in order to create branches in our code. \n",
        "\n",
        "An `if` block gets entered when the condition is considered to be `True`. If condition is evaluated as `False`, the `if` block will simply be skipped unless there is an `else` block to accompany it. Conditions are made using either logical operators or by using the truthiness of values in Python. An if-statement is defined with a colon and a block of indented text."
      ]
    },
    {
      "cell_type": "code",
      "metadata": {
        "id": "51qyBHH0fHg6",
        "colab": {
          "base_uri": "https://localhost:8080/"
        },
        "outputId": "be7b4522-c17f-4d93-87f7-5aefebdaa430"
      },
      "source": [
        "# This is the basic format of an if statement. This is a vacuous example. \n",
        "# The string \"Condition\" will always evaluated as True because it is a\n",
        "# non-empty string. he purpose of this code is to show the formatting of\n",
        "# an if-statement.\n",
        "if \"Condition\": \n",
        "    # This block of code will execute because the string is non-empty\n",
        "    # Everything on these indented lines\n",
        "    print (True)\n",
        "else:\n",
        "    # So if the condition that we examined with if is in fact False\n",
        "    # This block of code will execute INSTEAD of the first block of code\n",
        "    # Everything on these indented lines\n",
        "    print (False)\n",
        "# The else block here will never execute because \"Condition\" is a non-empty string."
      ],
      "execution_count": null,
      "outputs": [
        {
          "output_type": "stream",
          "text": [
            "True\n"
          ],
          "name": "stdout"
        }
      ]
    },
    {
      "cell_type": "code",
      "metadata": {
        "id": "86HDhvhHfHg6"
      },
      "source": [
        "i = 4\n",
        "if i == 5:\n",
        "    print ('The variable i has a value of 5')"
      ],
      "execution_count": null,
      "outputs": []
    },
    {
      "cell_type": "markdown",
      "metadata": {
        "id": "tDR07dUNoX0w"
      },
      "source": [
        "**ejemplo**"
      ]
    },
    {
      "cell_type": "code",
      "metadata": {
        "id": "BVo2ve7zoZrJ"
      },
      "source": [
        "i = 8+7\r\n",
        "\r\n",
        "if i != 15:\r\n",
        "  print(\"la suma no es correcta\")"
      ],
      "execution_count": null,
      "outputs": []
    },
    {
      "cell_type": "markdown",
      "metadata": {
        "id": "xAGmYegMfHg6"
      },
      "source": [
        "Because in this example `i = 4` and the if-statement is only looking for whether `i` is equal to `5`, the print statement will never be executed. We can add in an `else` statement to create a contingency block of code in case the condition in the if-statement is not evaluated as `True`."
      ]
    },
    {
      "cell_type": "code",
      "metadata": {
        "id": "TyPdq8Y_fHg6",
        "colab": {
          "base_uri": "https://localhost:8080/"
        },
        "outputId": "27e92558-97ed-4e15-82d0-dc641b0d660d"
      },
      "source": [
        "i = 4\n",
        "if i == 5:\n",
        "    print (\"All lines in this indented block are part of this block\")\n",
        "    print ('The variable i has a value of 5')\n",
        "else:\n",
        "    print (\"All lines in this indented block are part of this block\")\n",
        "    print ('The variable i is not equal to 5')"
      ],
      "execution_count": null,
      "outputs": [
        {
          "output_type": "stream",
          "text": [
            "All lines in this indented block are part of this block\n",
            "The variable i is not equal to 5\n"
          ],
          "name": "stdout"
        }
      ]
    },
    {
      "cell_type": "markdown",
      "metadata": {
        "id": "TWfAuBgdphGU"
      },
      "source": [
        "**Ejemplo**"
      ]
    },
    {
      "cell_type": "code",
      "metadata": {
        "colab": {
          "base_uri": "https://localhost:8080/"
        },
        "id": "f_cfMzZepypx",
        "outputId": "3f3a7d84-0465-4749-95d8-575dd6abedbb"
      },
      "source": [
        "i = 5\r\n",
        "if i == 5:\r\n",
        "  print (\"el valor de esta variable \")\r\n",
        "  print (\"es 5\")\r\n",
        "else:\r\n",
        "  print(\"the game\")\r\n"
      ],
      "execution_count": null,
      "outputs": [
        {
          "output_type": "stream",
          "text": [
            "el valor de esta variable \n",
            "es 5\n"
          ],
          "name": "stdout"
        }
      ]
    },
    {
      "cell_type": "markdown",
      "metadata": {
        "id": "KmGGhINBfHg7"
      },
      "source": [
        "We can implement other branches off of the same if-statement by using `elif`, an abbreviation of \"else if\". We can include as many `elifs` as we like until we have exhausted all the logical branches of a condition."
      ]
    },
    {
      "cell_type": "code",
      "metadata": {
        "id": "GFFG7O68fHg7",
        "colab": {
          "base_uri": "https://localhost:8080/"
        },
        "outputId": "29db885d-bf4d-429a-a50e-d6589bf498ab"
      },
      "source": [
        "i = 1\n",
        "if i == 1:\n",
        "    print ('The variable i has a value of 1')\n",
        "elif i == 2:\n",
        "    print ('The variable i has a value of 2')\n",
        "elif i == 3:\n",
        "    print ('The variable i has a value of 3')\n",
        "else:\n",
        "    print (\"I don't care what i is\")"
      ],
      "execution_count": null,
      "outputs": [
        {
          "output_type": "stream",
          "text": [
            "The variable i has a value of 1\n"
          ],
          "name": "stdout"
        }
      ]
    },
    {
      "cell_type": "markdown",
      "metadata": {
        "id": "Vqf4V2BBl4Wn"
      },
      "source": [
        "**Ejemplo**"
      ]
    },
    {
      "cell_type": "code",
      "metadata": {
        "colab": {
          "base_uri": "https://localhost:8080/"
        },
        "id": "5Td6--SGl6CK",
        "outputId": "64d8eb3f-ab10-4673-99c6-75f58d57b8b3"
      },
      "source": [
        "i = 1\r\n",
        "if i==1:\r\n",
        "    print('ha elegido la opcion 1 ')\r\n",
        "elif i==2:\r\n",
        "    print('ha elegido la opcion 2')\r\n",
        "elif i==3:\r\n",
        "    print('ha elegido la opcion 3')\r\n",
        "elif i==4:\r\n",
        "    print('ha elegido la opcion 4')\r\n",
        "else:\r\n",
        "    print('ha elegido una opcion incorrecta')"
      ],
      "execution_count": null,
      "outputs": [
        {
          "output_type": "stream",
          "text": [
            "ha elegido la opcion 1 \n"
          ],
          "name": "stdout"
        }
      ]
    },
    {
      "cell_type": "markdown",
      "metadata": {
        "id": "TV6d6_AVfHg7"
      },
      "source": [
        "You can also nest if-statements within if-statements to check for further conditions."
      ]
    },
    {
      "cell_type": "code",
      "metadata": {
        "id": "KDZdgxABfHg7",
        "colab": {
          "base_uri": "https://localhost:8080/"
        },
        "outputId": "a42be89e-c8be-4c2f-ee6f-d4b4611a7456"
      },
      "source": [
        "i = 10\n",
        "if i % 2 == 0:\n",
        "    if i % 3 == 0:\n",
        "        print ('i is divisible by both 2 and 3! Wow!')\n",
        "    elif i % 5 == 0:\n",
        "        print ('i is divisible by both 2 and 5! Wow!')\n",
        "    else:\n",
        "        print ('i is divisible by 2, but not 3 or 5. Meh.')\n",
        "else:\n",
        "    print ('I guess that i is an odd number. Boring.')"
      ],
      "execution_count": null,
      "outputs": [
        {
          "output_type": "stream",
          "text": [
            "i is divisible by both 2 and 5! Wow!\n"
          ],
          "name": "stdout"
        }
      ]
    },
    {
      "cell_type": "markdown",
      "metadata": {
        "id": "I83AhGIDmvlu"
      },
      "source": [
        "**Ejemplo**"
      ]
    },
    {
      "cell_type": "code",
      "metadata": {
        "colab": {
          "base_uri": "https://localhost:8080/"
        },
        "id": "9TpV9KjMmw8u",
        "outputId": "5245733d-d674-4a25-f7e4-0d1c673912ec"
      },
      "source": [
        "i = 42\r\n",
        "if i % 2 == 0:\r\n",
        "    if i % 3 == 0:\r\n",
        "        print ('divisible por 2 y 3')\r\n",
        "    elif i % 5 == 0:\r\n",
        "        print ('divisible por 2 y 5')\r\n",
        "    else:\r\n",
        "        print ('solamente es divisible por 2')\r\n",
        "else:\r\n",
        "    print ('numero impar')"
      ],
      "execution_count": null,
      "outputs": [
        {
          "output_type": "stream",
          "text": [
            "divisible por 2 y 3\n"
          ],
          "name": "stdout"
        }
      ]
    },
    {
      "cell_type": "markdown",
      "metadata": {
        "id": "OCVS8dkwfHg7"
      },
      "source": [
        "Remember that we can group multiple conditions together by using the logical operators!"
      ]
    },
    {
      "cell_type": "code",
      "metadata": {
        "id": "m5XtiXDZfHg7"
      },
      "source": [
        "i = 5\n",
        "j = 12\n",
        "if i < 10 and j > 11:\n",
        "    print '{0} is less than 10 and {1} is greater than 11! How novel and interesting!'.format(i, j)"
      ],
      "execution_count": null,
      "outputs": []
    },
    {
      "cell_type": "markdown",
      "metadata": {
        "id": "tnFfCm_5ndB1"
      },
      "source": [
        "**Ejemplo**"
      ]
    },
    {
      "cell_type": "code",
      "metadata": {
        "colab": {
          "base_uri": "https://localhost:8080/"
        },
        "id": "5mpT5WT3nkDL",
        "outputId": "6da6b2e9-6b30-4b97-8f52-c274a037970e"
      },
      "source": [
        "i = 5\r\n",
        "j = 12\r\n",
        "if i<7 and j > 10:\r\n",
        "  print ('el numero {0}  es menor a 7 y el numero {1} es mayor a 10'.format(i,j))"
      ],
      "execution_count": null,
      "outputs": [
        {
          "output_type": "stream",
          "text": [
            "el numero 5  es menor a 7 y el numero 12 es mayor a 10\n"
          ],
          "name": "stdout"
        }
      ]
    },
    {
      "cell_type": "markdown",
      "metadata": {
        "id": "OdHoyO8vfHg7"
      },
      "source": [
        "You can use the logical comparators to compare strings!"
      ]
    },
    {
      "cell_type": "code",
      "metadata": {
        "id": "HD2NaVhyfHg8",
        "colab": {
          "base_uri": "https://localhost:8080/"
        },
        "outputId": "13d13094-284a-492b-8761-df09df71f757"
      },
      "source": [
        "my_string = \"Carthago delenda est\"\n",
        "if my_string == \"Carthago delenda est\":\n",
        "    print ('And so it was! For the glory of Rome!')\n",
        "else:\n",
        "    print ('War elephants are TERRIFYING. I am staying home.')"
      ],
      "execution_count": null,
      "outputs": [
        {
          "output_type": "stream",
          "text": [
            "And so it was! For the glory of Rome!\n"
          ],
          "name": "stdout"
        }
      ]
    },
    {
      "cell_type": "markdown",
      "metadata": {
        "id": "nALLVkDSpvHd"
      },
      "source": [
        "**Ejemplo**"
      ]
    },
    {
      "cell_type": "code",
      "metadata": {
        "colab": {
          "base_uri": "https://localhost:8080/"
        },
        "id": "jlk1sGNDpyHs",
        "outputId": "e8275949-5afb-4ebd-d6bb-d3ca060a0e20"
      },
      "source": [
        "stringe = 'hoy esta soleado'\r\n",
        "if stringe == 'hoy esta soleado':\r\n",
        "  print('y sali a trabajar')\r\n",
        "else:\r\n",
        "    print ('y me quede dormido')"
      ],
      "execution_count": null,
      "outputs": [
        {
          "output_type": "stream",
          "text": [
            "y sali a trabajar\n"
          ],
          "name": "stdout"
        }
      ]
    },
    {
      "cell_type": "markdown",
      "metadata": {
        "id": "0emwtUU0fHg8"
      },
      "source": [
        "As with other data types, `==` will check for whether the two things on either side of it have the same value. In this case, we compare whether the value of the strings are the same. Using `>` or `<` or any of the other comparators is not quite so intuitive, however, so we will stay from using comparators with strings in this lecture. Comparators will examine the [lexicographical order](https://en.wikipedia.org/wiki/Lexicographical_order) of the strings, which might be a bit more in-depth than you might like."
      ]
    },
    {
      "cell_type": "markdown",
      "metadata": {
        "id": "ByxEs9HsfHg8"
      },
      "source": [
        "Some built-in functions return a boolean value, so they can be used as conditions in an if-statement. User-defined functions can also be constructed so that they return a boolean value. This will be covered later with function definition!\n",
        "\n",
        "The `in` keyword is generally used to check membership of a value within another value. We can check memebership in the context of an if-statement and use it to output a truth value."
      ]
    },
    {
      "cell_type": "code",
      "metadata": {
        "id": "Tg7qSxVYfHg8",
        "colab": {
          "base_uri": "https://localhost:8080/"
        },
        "outputId": "6e83e478-a563-46ac-ffaa-7a809902265e"
      },
      "source": [
        "if 'a' in my_string or 'e' in my_string:\n",
        "    print ('Those are my favorite vowels!')"
      ],
      "execution_count": null,
      "outputs": [
        {
          "output_type": "stream",
          "text": [
            "Those are my favorite vowels!\n"
          ],
          "name": "stdout"
        }
      ]
    },
    {
      "cell_type": "markdown",
      "metadata": {
        "id": "JKZRejDfrD1z"
      },
      "source": [
        "**Ejemplo**"
      ]
    },
    {
      "cell_type": "code",
      "metadata": {
        "colab": {
          "base_uri": "https://localhost:8080/"
        },
        "id": "IuD3e1ltrNmJ",
        "outputId": "6ee4b006-1836-4cbc-8d55-4c70452c419c"
      },
      "source": [
        "if 'e' in stringe or 'm' in stringe:\r\n",
        "  print('estas letras son the game')"
      ],
      "execution_count": null,
      "outputs": [
        {
          "output_type": "stream",
          "text": [
            "estas letras son the game\n"
          ],
          "name": "stdout"
        }
      ]
    },
    {
      "cell_type": "markdown",
      "metadata": {
        "id": "nxjIaG3nfHg8"
      },
      "source": [
        "Here we use `in` to check whether the variable `my_string` contains any particular letters. We will later use `in` to iterate through lists!"
      ]
    },
    {
      "cell_type": "markdown",
      "metadata": {
        "id": "fZstB_ylfHg-"
      },
      "source": [
        "## Loop Structures\n",
        "\n",
        "Loop structures are one of the most important parts of programming. The `for` loop and the `while` loop provide a way to repeatedly run a block of code repeatedly. A `while` loop will iterate until a certain condition has been met. If at any point after an iteration that condition is no longer satisfied, the loop terminates. A `for` loop will iterate over a sequence of values and terminate when the sequence has ended. You can instead include conditions within the `for` loop to decide whether it should terminate early or you could simply let it run its course."
      ]
    },
    {
      "cell_type": "code",
      "metadata": {
        "id": "TTNLCA3NfHg-",
        "colab": {
          "base_uri": "https://localhost:8080/"
        },
        "outputId": "fa48268f-9aa9-4dda-905a-41314dca0990"
      },
      "source": [
        "i = 5\n",
        "while i > 0: # We can write this as 'while i:' because 0 is False!\n",
        "    i -= 1\n",
        "    print ('I am looping! {0} more to go!'.format(i))"
      ],
      "execution_count": null,
      "outputs": [
        {
          "output_type": "stream",
          "text": [
            "I am looping! 4 more to go!\n",
            "I am looping! 3 more to go!\n",
            "I am looping! 2 more to go!\n",
            "I am looping! 1 more to go!\n",
            "I am looping! 0 more to go!\n"
          ],
          "name": "stdout"
        }
      ]
    },
    {
      "cell_type": "markdown",
      "metadata": {
        "id": "-02RiTu4rybc"
      },
      "source": [
        "**Ejemplo**"
      ]
    },
    {
      "cell_type": "code",
      "metadata": {
        "colab": {
          "base_uri": "https://localhost:8080/"
        },
        "id": "YctR9ft7s6xb",
        "outputId": "40b311fe-51e5-4d7b-ff38-99a4c3cfe5a4"
      },
      "source": [
        "i = 10\r\n",
        "while i>0:\r\n",
        "  i-= 1\r\n",
        "  print ('seras destruido en {0}'.format(i))"
      ],
      "execution_count": null,
      "outputs": [
        {
          "output_type": "stream",
          "text": [
            "seras destruido en 9\n",
            "seras destruido en 8\n",
            "seras destruido en 7\n",
            "seras destruido en 6\n",
            "seras destruido en 5\n",
            "seras destruido en 4\n",
            "seras destruido en 3\n",
            "seras destruido en 2\n",
            "seras destruido en 1\n",
            "seras destruido en 0\n"
          ],
          "name": "stdout"
        }
      ]
    },
    {
      "cell_type": "markdown",
      "metadata": {
        "id": "r6MzfJ7lfHg-"
      },
      "source": [
        "\n",
        "With `while` loops we need to make sure that something actually changes from iteration to iteration so that that the loop actually terminates. In this case, we use the shorthand `i -= 1` (short for `i = i - 1`) so that the value of `i` gets smaller with each iteration. Eventually `i` will be reduced to `0`, rendering the condition `False` and exiting the loop."
      ]
    },
    {
      "cell_type": "markdown",
      "metadata": {
        "id": "cIl7_CA9fHg-"
      },
      "source": [
        "A `for` loop iterates a set number of times, determined when you state the entry into the loop. In this case we are iterating over the list returned from `range()`. The `for` loop selects a value from the list, in order, and temporarily assigns the value of `i` to it so that operations can be performed with the value."
      ]
    },
    {
      "cell_type": "code",
      "metadata": {
        "id": "6RgVECk1fHg-",
        "colab": {
          "base_uri": "https://localhost:8080/"
        },
        "outputId": "a3fe5018-3fb2-4739-bb89-4418495fb537"
      },
      "source": [
        "for i in range(5):\n",
        "    print ('I am looping! I have looped {0} times!'.format(i + 1))"
      ],
      "execution_count": null,
      "outputs": [
        {
          "output_type": "stream",
          "text": [
            "I am looping! I have looped 1 times!\n",
            "I am looping! I have looped 2 times!\n",
            "I am looping! I have looped 3 times!\n",
            "I am looping! I have looped 4 times!\n",
            "I am looping! I have looped 5 times!\n"
          ],
          "name": "stdout"
        }
      ]
    },
    {
      "cell_type": "markdown",
      "metadata": {
        "id": "wUJhp1yMt7zo"
      },
      "source": [
        "**Ejemplo**"
      ]
    },
    {
      "cell_type": "code",
      "metadata": {
        "colab": {
          "base_uri": "https://localhost:8080/"
        },
        "id": "VC6unTxOt_2a",
        "outputId": "7b155765-59a9-423b-c602-8c33cda333d2"
      },
      "source": [
        "for i in range(10):\r\n",
        "    print ('te he destruido {0} veces!'.format(i + 1))"
      ],
      "execution_count": null,
      "outputs": [
        {
          "output_type": "stream",
          "text": [
            "te he destruido 1 veces!\n",
            "te he destruido 2 veces!\n",
            "te he destruido 3 veces!\n",
            "te he destruido 4 veces!\n",
            "te he destruido 5 veces!\n",
            "te he destruido 6 veces!\n",
            "te he destruido 7 veces!\n",
            "te he destruido 8 veces!\n",
            "te he destruido 9 veces!\n",
            "te he destruido 10 veces!\n"
          ],
          "name": "stdout"
        }
      ]
    },
    {
      "cell_type": "markdown",
      "metadata": {
        "id": "02mIzUvGfHg-"
      },
      "source": [
        "Note that in this `for` loop we use the `in` keyword. Use of the `in` keyword is not limited to checking for membership as in the if-statement example. You can iterate over any collection with a `for` loop by using the `in` keyword.\n",
        "\n",
        "In this next example, we will iterate over a `set` because we want to check for containment and add to a new set."
      ]
    },
    {
      "cell_type": "code",
      "metadata": {
        "id": "r9hYEu_IfHg_",
        "colab": {
          "base_uri": "https://localhost:8080/"
        },
        "outputId": "62a7e8ee-369a-4f81-b9de-db4f82a133e1"
      },
      "source": [
        "my_list = {'cats', 'dogs', 'lizards', 'cows', 'bats', 'sponges', 'humans'} # Lists all the animals in the world\n",
        "mammal_list = {'cats', 'dogs', 'cows', 'bats', 'humans'} # Lists all the mammals in the world\n",
        "my_new_list = set()\n",
        "for animal in my_list:\n",
        "    if animal in mammal_list:\n",
        "        # This adds any animal that is both in my_list and mammal_list to my_new_list\n",
        "        my_new_list.add(animal)\n",
        "        \n",
        "print (my_new_list)"
      ],
      "execution_count": null,
      "outputs": [
        {
          "output_type": "stream",
          "text": [
            "{'humans', 'cows', 'bats', 'cats', 'dogs'}\n"
          ],
          "name": "stdout"
        }
      ]
    },
    {
      "cell_type": "markdown",
      "metadata": {
        "id": "G37yHJovu4Rq"
      },
      "source": [
        "**Ejemplo**"
      ]
    },
    {
      "cell_type": "code",
      "metadata": {
        "colab": {
          "base_uri": "https://localhost:8080/"
        },
        "id": "MYPbR7n4u5-6",
        "outputId": "224d4d88-dec0-4dcb-98e0-9864484d45cb"
      },
      "source": [
        "lista = {'zelda','mario','star fox','final fantasy','fire emblem','sonic',}\r\n",
        "listajuegos = {'zelda','mario'}\r\n",
        "nuevalis = set()\r\n",
        "for animal in lista:\r\n",
        "  if animal in listajuegos:\r\n",
        "    nuevalis.add(animal)\r\n",
        "print(nuevalis)"
      ],
      "execution_count": null,
      "outputs": [
        {
          "output_type": "stream",
          "text": [
            "{'zelda', 'mario'}\n"
          ],
          "name": "stdout"
        }
      ]
    },
    {
      "cell_type": "markdown",
      "metadata": {
        "id": "SW6chrGgfHg_"
      },
      "source": [
        "There are two statements that are very helpful in dealing with both `for` and `while` loops. These are `break` and `continue`. If `break` is encountered at any point while a loop is executing, the loop will immediately end."
      ]
    },
    {
      "cell_type": "code",
      "metadata": {
        "id": "eBTSFcOtfHg_",
        "colab": {
          "base_uri": "https://localhost:8080/"
        },
        "outputId": "5dc2355c-04b6-4d0a-b531-8de3a37b37b7"
      },
      "source": [
        "i = 10\n",
        "while True:\n",
        "    if i == 14:\n",
        "        break\n",
        "    i += 1 # This is shorthand for i = i + 1. It increments i with each iteration.\n",
        "    print (i)"
      ],
      "execution_count": null,
      "outputs": [
        {
          "output_type": "stream",
          "text": [
            "11\n",
            "12\n",
            "13\n",
            "14\n"
          ],
          "name": "stdout"
        }
      ]
    },
    {
      "cell_type": "markdown",
      "metadata": {
        "id": "eS2TCwHeylnh"
      },
      "source": [
        "**Ejemplo**"
      ]
    },
    {
      "cell_type": "code",
      "metadata": {
        "colab": {
          "base_uri": "https://localhost:8080/"
        },
        "id": "kP4yflZMynQY",
        "outputId": "bcc17d6a-fba8-4742-bc5d-bdd4723b9c2d"
      },
      "source": [
        "i = 15\r\n",
        "while True:\r\n",
        "  if i == 28:\r\n",
        "    break\r\n",
        "  i+=1\r\n",
        "  print(i)\r\n"
      ],
      "execution_count": null,
      "outputs": [
        {
          "output_type": "stream",
          "text": [
            "16\n",
            "17\n",
            "18\n",
            "19\n",
            "20\n",
            "21\n",
            "22\n",
            "23\n",
            "24\n",
            "25\n",
            "26\n",
            "27\n",
            "28\n"
          ],
          "name": "stdout"
        }
      ]
    },
    {
      "cell_type": "code",
      "metadata": {
        "id": "30weYpBrfHg_",
        "colab": {
          "base_uri": "https://localhost:8080/"
        },
        "outputId": "2c5ddf90-c474-46fb-a62c-6e56e638007e"
      },
      "source": [
        "for i in range(5):\n",
        "    if i == 2:\n",
        "        break\n",
        "    print (i)"
      ],
      "execution_count": null,
      "outputs": [
        {
          "output_type": "stream",
          "text": [
            "0\n",
            "1\n"
          ],
          "name": "stdout"
        }
      ]
    },
    {
      "cell_type": "markdown",
      "metadata": {
        "id": "SdmBeKSPzPWA"
      },
      "source": [
        "**Ejemplo**"
      ]
    },
    {
      "cell_type": "code",
      "metadata": {
        "colab": {
          "base_uri": "https://localhost:8080/"
        },
        "id": "KBwm5G6izRsW",
        "outputId": "438f6067-6b37-4873-b86f-0fad518e221b"
      },
      "source": [
        "for i  in range(10000000):\r\n",
        "  if i == 1:\r\n",
        "    break\r\n",
        "  print(i)"
      ],
      "execution_count": null,
      "outputs": [
        {
          "output_type": "stream",
          "text": [
            "0\n"
          ],
          "name": "stdout"
        }
      ]
    },
    {
      "cell_type": "markdown",
      "metadata": {
        "id": "__IzyqtBfHg_"
      },
      "source": [
        "The `continue` statement will tell the loop to immediately end this iteration and continue onto the next iteration of the loop."
      ]
    },
    {
      "cell_type": "code",
      "metadata": {
        "id": "fV4WCa4RfHg_",
        "colab": {
          "base_uri": "https://localhost:8080/"
        },
        "outputId": "4dc7a244-3c42-4096-9818-63f3f9c8e8f4"
      },
      "source": [
        "i = 0\n",
        "while i < 5:\n",
        "    i += 1\n",
        "    if i == 3:\n",
        "        continue\n",
        "    print (i)"
      ],
      "execution_count": null,
      "outputs": [
        {
          "output_type": "stream",
          "text": [
            "1\n",
            "2\n",
            "4\n",
            "5\n"
          ],
          "name": "stdout"
        }
      ]
    },
    {
      "cell_type": "markdown",
      "metadata": {
        "id": "0GfLZpfS0ozn"
      },
      "source": [
        "**Ejemplo**"
      ]
    },
    {
      "cell_type": "code",
      "metadata": {
        "colab": {
          "base_uri": "https://localhost:8080/"
        },
        "id": "kyFTCM250ofP",
        "outputId": "801693be-4c19-4956-c840-bf62447fa028"
      },
      "source": [
        "i = 0\r\n",
        "while i<20:\r\n",
        "  i+=3\r\n",
        "  if i%2 == 0:\r\n",
        "    continue\r\n",
        "  print(i)"
      ],
      "execution_count": null,
      "outputs": [
        {
          "output_type": "stream",
          "text": [
            "3\n",
            "9\n",
            "15\n",
            "21\n"
          ],
          "name": "stdout"
        }
      ]
    },
    {
      "cell_type": "markdown",
      "metadata": {
        "id": "XXQrcvVCfHg_"
      },
      "source": [
        "This loop skips printing the number $3$ because of the `continue` statement that executes when we enter the if-statement. The code never sees the command to print the number $3$ because it has already moved to the next iteration. The `break` and `continue` statements are further tools to help you control the flow of your loops and, as a result, your code."
      ]
    },
    {
      "cell_type": "markdown",
      "metadata": {
        "id": "q4bCNIqufHg_"
      },
      "source": [
        "The variable that we use to iterate over a loop will retain its value when the loop exits. Similarly, any variables defined within the context of the loop will continue to exist outside of it."
      ]
    },
    {
      "cell_type": "code",
      "metadata": {
        "id": "50_9xJ5WfHhA"
      },
      "source": [
        "for i in range(5):\n",
        "    loop_string = 'I transcend the loop!'\n",
        "    print 'I am eternal! I am {0} and I exist everywhere!'.format(i)\n",
        "\n",
        "print 'I persist! My value is {0}'.format(i)\n",
        "print loop_string"
      ],
      "execution_count": null,
      "outputs": []
    },
    {
      "cell_type": "markdown",
      "metadata": {
        "id": "G4l6-ylNfHhA"
      },
      "source": [
        "We can also iterate over a dictionary!"
      ]
    },
    {
      "cell_type": "code",
      "metadata": {
        "id": "2OJ21pcafHhA"
      },
      "source": [
        "my_dict = {'firstname' : 'Inigo', 'lastname' : 'Montoya', 'nemesis' : 'Rugen'}"
      ],
      "execution_count": null,
      "outputs": []
    },
    {
      "cell_type": "code",
      "metadata": {
        "id": "RExFxBwjfHhA",
        "colab": {
          "base_uri": "https://localhost:8080/"
        },
        "outputId": "c040105f-8115-4f27-d410-7bbf066267ca"
      },
      "source": [
        "for key in my_dict:\n",
        "    print (key)"
      ],
      "execution_count": null,
      "outputs": [
        {
          "output_type": "stream",
          "text": [
            "firstname\n",
            "lastname\n",
            "nemesis\n"
          ],
          "name": "stdout"
        }
      ]
    },
    {
      "cell_type": "markdown",
      "metadata": {
        "id": "DPqaO_9IfHhA"
      },
      "source": [
        "If we just iterate over a dictionary without doing anything else, we will only get the keys. We can either use the keys to get the values, like so:"
      ]
    },
    {
      "cell_type": "code",
      "metadata": {
        "id": "F3D-b7wMfHhA",
        "colab": {
          "base_uri": "https://localhost:8080/"
        },
        "outputId": "5ab75c8d-6730-4814-d789-57124400b3f0"
      },
      "source": [
        "for key in my_dict:\n",
        "    print (my_dict[key])"
      ],
      "execution_count": null,
      "outputs": [
        {
          "output_type": "stream",
          "text": [
            "Inigo\n",
            "Montoya\n",
            "Rugen\n"
          ],
          "name": "stdout"
        }
      ]
    },
    {
      "cell_type": "markdown",
      "metadata": {
        "id": "blsWKgbvfHhA"
      },
      "source": [
        "Or we can use the `items()` function to get both key and value at the same time."
      ]
    },
    {
      "cell_type": "code",
      "metadata": {
        "id": "zYkZsDRFfHhA",
        "colab": {
          "base_uri": "https://localhost:8080/"
        },
        "outputId": "c11ee3ff-3e43-4dac-a92e-137fc3c0bb84"
      },
      "source": [
        "for key, value in my_dict.items():\n",
        "    print (key, ':', value)"
      ],
      "execution_count": null,
      "outputs": [
        {
          "output_type": "stream",
          "text": [
            "firstname : Inigo\n",
            "lastname : Montoya\n",
            "nemesis : Rugen\n"
          ],
          "name": "stdout"
        }
      ]
    },
    {
      "cell_type": "markdown",
      "metadata": {
        "id": "C4QKCgmU07OZ"
      },
      "source": [
        "**Ejemplo**"
      ]
    },
    {
      "cell_type": "code",
      "metadata": {
        "colab": {
          "base_uri": "https://localhost:8080/"
        },
        "id": "hklLFalr1NpH",
        "outputId": "98f619b7-1a44-40be-b073-600315f2db3f"
      },
      "source": [
        "for i,j in my_dict.items():\r\n",
        "  print(i,'es',j)"
      ],
      "execution_count": null,
      "outputs": [
        {
          "output_type": "stream",
          "text": [
            "firstname es Inigo\n",
            "lastname es Montoya\n",
            "nemesis es Rugen\n"
          ],
          "name": "stdout"
        }
      ]
    },
    {
      "cell_type": "markdown",
      "metadata": {
        "id": "HdwWHpwnfHhB"
      },
      "source": [
        "The `items()` function creates a tuple of each key-value pair and the for loop unpacks that tuple into `key, value` on each separate execution of the loop!"
      ]
    },
    {
      "cell_type": "markdown",
      "metadata": {
        "id": "lPj2KxMffHhB"
      },
      "source": [
        "## Functions\n",
        "\n",
        "A function is a reusable block of code that you can call repeatedly to make calculations, output data, or really do anything that you want. This is one of the key aspects of using a programming language. To add to the built-in functions in Python, you can define your own!"
      ]
    },
    {
      "cell_type": "code",
      "metadata": {
        "id": "WJnlIj9CfHhB",
        "colab": {
          "base_uri": "https://localhost:8080/"
        },
        "outputId": "bdefaa80-32f6-4552-8f08-fe58d6811825"
      },
      "source": [
        "def hello_world():\n",
        "    \"\"\" Prints Hello, world! \"\"\"\n",
        "    print ('Hello, world!')\n",
        "\n",
        "hello_world()"
      ],
      "execution_count": null,
      "outputs": [
        {
          "output_type": "stream",
          "text": [
            "Hello, world!\n"
          ],
          "name": "stdout"
        }
      ]
    },
    {
      "cell_type": "code",
      "metadata": {
        "id": "i5GFeoOnfHhB",
        "colab": {
          "base_uri": "https://localhost:8080/"
        },
        "outputId": "df8b8988-c4e9-4d2a-b0de-0c37c05f7173"
      },
      "source": [
        "for i in range(5):\n",
        "    hello_world()"
      ],
      "execution_count": null,
      "outputs": [
        {
          "output_type": "stream",
          "text": [
            "Hello, world!\n",
            "Hello, world!\n",
            "Hello, world!\n",
            "Hello, world!\n",
            "Hello, world!\n"
          ],
          "name": "stdout"
        }
      ]
    },
    {
      "cell_type": "markdown",
      "metadata": {
        "id": "-gGuqitg2A1u"
      },
      "source": [
        "**ejemplo**"
      ]
    },
    {
      "cell_type": "code",
      "metadata": {
        "colab": {
          "base_uri": "https://localhost:8080/"
        },
        "id": "0g5baFdl2D8U",
        "outputId": "66cd7608-9066-4aef-cdd3-6a75e0587681"
      },
      "source": [
        "def hola():\r\n",
        "  print(\"hola\")\r\n",
        "\r\n",
        "for i in range (10):\r\n",
        "  hola()"
      ],
      "execution_count": null,
      "outputs": [
        {
          "output_type": "stream",
          "text": [
            "hola\n",
            "hola\n",
            "hola\n",
            "hola\n",
            "hola\n",
            "hola\n",
            "hola\n",
            "hola\n",
            "hola\n",
            "hola\n"
          ],
          "name": "stdout"
        }
      ]
    },
    {
      "cell_type": "markdown",
      "metadata": {
        "id": "Grfy3r5ZfHhB"
      },
      "source": [
        "Functions are defined with `def`, a function name, a list of parameters, and a colon. Everything indented below the colon will be included in the definition of the function.\n",
        "\n",
        "We can have our functions do anything that you can do with a normal block of code. For example, our `hello_world()` function prints a string every time it is called. If we want to keep a value that a function calculates, we can define the function so that it will `return` the value we want. This is a very important feature of functions, as any variable defined purely within a function will not exist outside of it."
      ]
    },
    {
      "cell_type": "code",
      "metadata": {
        "id": "Odo7KQXjfHhB"
      },
      "source": [
        "#def see_the_scope():\n",
        " #   in_function_string = \"I'm stuck in here!\"\n",
        "\n",
        "#see_the_scope()\n",
        "#print in_function_string"
      ],
      "execution_count": null,
      "outputs": []
    },
    {
      "cell_type": "markdown",
      "metadata": {
        "id": "skE9Mo91fHhB"
      },
      "source": [
        " The **scope** of a variable is the part of a block of code where that variable is tied to a particular value. Functions in Python have an enclosed scope, making it so that variables defined within them can only be accessed directly within them. If we pass those values to a return statement we can get them out of the function. This makes it so that the function call returns values so that you can store them in variables that have a greater scope.\n",
        " \n",
        "In this case specifically, including a return statement allows us to keep the string value that we define in the function."
      ]
    },
    {
      "cell_type": "code",
      "metadata": {
        "id": "tzBUP2o5fHhC"
      },
      "source": [
        "def free_the_scope():\n",
        "    in_function_string = \"Anything you can do I can do better!\"\n",
        "    return in_function_string\n",
        "my_string = free_the_scope()\n",
        "print my_string"
      ],
      "execution_count": null,
      "outputs": []
    },
    {
      "cell_type": "markdown",
      "metadata": {
        "id": "0jLHDFw122vW"
      },
      "source": [
        "**Ejemplo**"
      ]
    },
    {
      "cell_type": "code",
      "metadata": {
        "id": "R7ecjanF22cG",
        "colab": {
          "base_uri": "https://localhost:8080/"
        },
        "outputId": "0c748098-98fe-454c-ab45-57d0540e68cb"
      },
      "source": [
        "def see_the_scope():\r\n",
        "    in_function_string = \"I'm stuck in here!\"\r\n",
        "    return in_function_string\r\n",
        "\r\n",
        "see_the_scope()\r\n",
        "print (see_the_scope())"
      ],
      "execution_count": null,
      "outputs": [
        {
          "output_type": "stream",
          "text": [
            "I'm stuck in here!\n"
          ],
          "name": "stdout"
        }
      ]
    },
    {
      "cell_type": "markdown",
      "metadata": {
        "id": "_zAoH5s8fHhC"
      },
      "source": [
        "Just as we can get values out of a function, we can also put values into a function. We do this by defining our function with parameters."
      ]
    },
    {
      "cell_type": "code",
      "metadata": {
        "id": "EEuN_QcpfHhC",
        "colab": {
          "base_uri": "https://localhost:8080/"
        },
        "outputId": "f6f804f0-6933-4264-ab9a-62e3e178916b"
      },
      "source": [
        "def multiply_by_five(x):\n",
        "    \"\"\" Multiplies an input number by 5 \"\"\"\n",
        "    return x * 5\n",
        "\n",
        "n = 4\n",
        "print (n)\n",
        "print (multiply_by_five(n))"
      ],
      "execution_count": 2,
      "outputs": [
        {
          "output_type": "stream",
          "text": [
            "4\n",
            "20\n"
          ],
          "name": "stdout"
        }
      ]
    },
    {
      "cell_type": "markdown",
      "metadata": {
        "id": "TsZnA2UTfHhC"
      },
      "source": [
        "In this example we only had one parameter for our function, `x`. We can easily add more parameters, separating everything with a comma."
      ]
    },
    {
      "cell_type": "code",
      "metadata": {
        "id": "MtYCH0k5fHhC"
      },
      "source": [
        "def calculate_area(length, width):\n",
        "    \"\"\" Calculates the area of a rectangle \"\"\"\n",
        "    return length * width"
      ],
      "execution_count": 3,
      "outputs": []
    },
    {
      "cell_type": "code",
      "metadata": {
        "id": "FYn3X7LQfHhC",
        "colab": {
          "base_uri": "https://localhost:8080/"
        },
        "outputId": "9442e67e-5c50-4dae-c48b-436af9dd69ad"
      },
      "source": [
        "l = 5\n",
        "w = 10\n",
        "print ('Area: ', calculate_area(l, w))\n",
        "print ('Length: ', l)\n",
        "print ('Width: ', w)"
      ],
      "execution_count": 5,
      "outputs": [
        {
          "output_type": "stream",
          "text": [
            "Area:  50\n",
            "Length:  5\n",
            "Width:  10\n"
          ],
          "name": "stdout"
        }
      ]
    },
    {
      "cell_type": "markdown",
      "metadata": {
        "id": "ck6AsfWihxIU"
      },
      "source": [
        "**Ejemplo**"
      ]
    },
    {
      "cell_type": "code",
      "metadata": {
        "id": "xntZUuHhdzeU"
      },
      "source": [
        "def calculo_area(largo, ancho):\r\n",
        "  \"\"\" calcula el area de un rectangulo \"\"\"\r\n",
        "  return largo * ancho"
      ],
      "execution_count": 7,
      "outputs": []
    },
    {
      "cell_type": "code",
      "metadata": {
        "colab": {
          "base_uri": "https://localhost:8080/"
        },
        "id": "Oy-lnE9ehyoc",
        "outputId": "b34c5740-f9a0-4e66-a9a2-93fbfd5b4636"
      },
      "source": [
        "l = 5\r\n",
        "a = 25\r\n",
        "print ('area',calculo_area(l,a))\r\n",
        "print (\"largo\", l)\r\n",
        "print (\"ancho\", a)"
      ],
      "execution_count": 8,
      "outputs": [
        {
          "output_type": "stream",
          "text": [
            "area 125\n",
            "largo 5\n",
            "ancho 25\n"
          ],
          "name": "stdout"
        }
      ]
    },
    {
      "cell_type": "code",
      "metadata": {
        "id": "uFxpQP-mfHhC"
      },
      "source": [
        "def calculate_volume(length, width, depth):\n",
        "    \"\"\" Calculates the volume of a rectangular prism \"\"\"\n",
        "    return length * width * depth"
      ],
      "execution_count": null,
      "outputs": []
    },
    {
      "cell_type": "markdown",
      "metadata": {
        "id": "awcLamP9fHhC"
      },
      "source": [
        "If we want to, we can define a function so that it takes an arbitrary number of parameters. We tell Python that we want this by using an asterisk (`*`)."
      ]
    },
    {
      "cell_type": "code",
      "metadata": {
        "id": "LWAIqaknfHhD"
      },
      "source": [
        "def sum_values(*args):\n",
        "    sum_val = 0\n",
        "    for i in args:\n",
        "        sum_val += i\n",
        "    return sum_val"
      ],
      "execution_count": 10,
      "outputs": []
    },
    {
      "cell_type": "code",
      "metadata": {
        "id": "qgMVmu4_fHhD",
        "colab": {
          "base_uri": "https://localhost:8080/"
        },
        "outputId": "1bbf1296-fcaa-4089-a27a-a661e8bd798e"
      },
      "source": [
        "print (sum_values(1, 2, 3))\n",
        "print (sum_values(10, 20, 30, 40, 50))\n",
        "print (sum_values(4, 2, 5, 1, 10, 249, 25, 24, 13, 6, 4))"
      ],
      "execution_count": 11,
      "outputs": [
        {
          "output_type": "stream",
          "text": [
            "6\n",
            "150\n",
            "343\n"
          ],
          "name": "stdout"
        }
      ]
    },
    {
      "cell_type": "markdown",
      "metadata": {
        "id": "F4KUXBZMl0h9"
      },
      "source": [
        "**Ejemplo**"
      ]
    },
    {
      "cell_type": "code",
      "metadata": {
        "id": "Cp9ydE8cl1c7"
      },
      "source": [
        "def mult_valores(*args):\r\n",
        "  mult_valor = 1\r\n",
        "  for i in args:\r\n",
        "    mult_valor = mult_valor * i\r\n",
        "  return mult_valor"
      ],
      "execution_count": 12,
      "outputs": []
    },
    {
      "cell_type": "code",
      "metadata": {
        "colab": {
          "base_uri": "https://localhost:8080/"
        },
        "id": "CercSvePmTUb",
        "outputId": "17bb4bd7-645b-4e8c-d0a1-0a54211f1f4b"
      },
      "source": [
        "print (mult_valores(1,2,3,4,5,8,7,6))"
      ],
      "execution_count": 13,
      "outputs": [
        {
          "output_type": "stream",
          "text": [
            "40320\n"
          ],
          "name": "stdout"
        }
      ]
    },
    {
      "cell_type": "markdown",
      "metadata": {
        "id": "qY-gPUuPfHhD"
      },
      "source": [
        "The time to use `*args` as a parameter for your function is when you do not know how many values may be passed to it, as in the case of our sum function. The asterisk in this case is the syntax that tells Python that you are going to pass an arbitrary number of parameters into your function. These parameters are stored in the form of a tuple."
      ]
    },
    {
      "cell_type": "code",
      "metadata": {
        "id": "oHa0tU5zfHhE",
        "colab": {
          "base_uri": "https://localhost:8080/"
        },
        "outputId": "d01028a7-60c3-4096-c924-3c98f0e1d59e"
      },
      "source": [
        "def test_args(*args):\n",
        "    print (type(args))\n",
        "\n",
        "test_args(1, 2, 3, 4, 5, 6)"
      ],
      "execution_count": 14,
      "outputs": [
        {
          "output_type": "stream",
          "text": [
            "<class 'tuple'>\n"
          ],
          "name": "stdout"
        }
      ]
    },
    {
      "cell_type": "markdown",
      "metadata": {
        "id": "5MxBroOBfHhE"
      },
      "source": [
        "We can put as many elements into the `args` tuple as we want to when we call the function. However, because `args` is a tuple, we cannot modify it after it has been created.\n",
        "\n",
        "The `args` name of the variable is purely by convention. You could just as easily name your parameter `*vars` or `*things`. You can treat the `args` tuple like you would any other tuple, easily accessing `arg`'s values and iterating over it, as in the above `sum_values(*args)` function."
      ]
    },
    {
      "cell_type": "markdown",
      "metadata": {
        "id": "unFfEp5nfHhE"
      },
      "source": [
        "Our functions can return any data type. This makes it easy for us to create functions that check for conditions that we might want to monitor.\n",
        "\n",
        "Here we define a function that returns a boolean value. We can easily use this in conjunction with if-statements and  other situations that require a boolean."
      ]
    },
    {
      "cell_type": "code",
      "metadata": {
        "id": "1XtsJVwifHhE"
      },
      "source": [
        "def has_a_vowel(word):\n",
        "    \"\"\" \n",
        "    Checks to see whether a word contains a vowel \n",
        "    If it doesn't contain a conventional vowel, it\n",
        "    will check for the presence of 'y' or 'w'. Does\n",
        "    not check to see whether those are in the word\n",
        "    in a vowel context.\n",
        "    \"\"\"\n",
        "    vowel_list = ['a', 'e', 'i', 'o', 'u']\n",
        "    \n",
        "    for vowel in vowel_list:\n",
        "        if vowel in word:\n",
        "            return True\n",
        "    # If there is a vowel in the word, the function returns, preventing anything after this loop from running\n",
        "    return False"
      ],
      "execution_count": 17,
      "outputs": []
    },
    {
      "cell_type": "code",
      "metadata": {
        "id": "leESo5C2fHhE",
        "colab": {
          "base_uri": "https://localhost:8080/"
        },
        "outputId": "b5585ede-3e7d-40af-823b-157bce24c9d6"
      },
      "source": [
        "my_word = 'catnapping'\n",
        "if has_a_vowel(my_word):\n",
        "    print ('How surprising, an english word contains a vowel.')\n",
        "else:\n",
        "    print ('This is actually surprising.')"
      ],
      "execution_count": 18,
      "outputs": [
        {
          "output_type": "stream",
          "text": [
            "How surprising, an english word contains a vowel.\n"
          ],
          "name": "stdout"
        }
      ]
    },
    {
      "cell_type": "code",
      "metadata": {
        "id": "LHFNFfHYfHhF"
      },
      "source": [
        "def point_maker(x, y):\n",
        "    \"\"\" Groups x and y values into a point, technically a tuple \"\"\"\n",
        "    return (x, y)"
      ],
      "execution_count": 26,
      "outputs": []
    },
    {
      "cell_type": "markdown",
      "metadata": {
        "id": "_mE-jnxxpiz8"
      },
      "source": [
        "**Ejemplo**"
      ]
    },
    {
      "cell_type": "code",
      "metadata": {
        "id": "JVE8p1tPuz84"
      },
      "source": [
        "def vocal(palabra):\r\n",
        "  listavocales= ['a','e','i','o','u']\r\n",
        "  for vocales in listavocales:\r\n",
        "    if vocales in palabra:\r\n",
        "      return True\r\n",
        "  return False"
      ],
      "execution_count": 24,
      "outputs": []
    },
    {
      "cell_type": "code",
      "metadata": {
        "colab": {
          "base_uri": "https://localhost:8080/"
        },
        "id": "rFp-Jtgvuz1h",
        "outputId": "85ea6418-7356-47e9-8c3a-5e51dfe11a4f"
      },
      "source": [
        "palabra = 'buenosdias'\r\n",
        "if vocal(palabra):\r\n",
        "  print ('palabra con vocal')\r\n",
        "else:\r\n",
        "  print('palabra sin vocal')"
      ],
      "execution_count": 25,
      "outputs": [
        {
          "output_type": "stream",
          "text": [
            "palabra con vocal\n"
          ],
          "name": "stdout"
        }
      ]
    },
    {
      "cell_type": "code",
      "metadata": {
        "id": "nuWN12ZmuzrR"
      },
      "source": [
        ""
      ],
      "execution_count": null,
      "outputs": []
    },
    {
      "cell_type": "markdown",
      "metadata": {
        "id": "Y4MEj0RrfHhF"
      },
      "source": [
        "This above function returns an ordered pair of the input parameters, stored as a tuple."
      ]
    },
    {
      "cell_type": "code",
      "metadata": {
        "scrolled": true,
        "id": "uNYk5lBBfHhF",
        "colab": {
          "base_uri": "https://localhost:8080/"
        },
        "outputId": "09b0b265-6c20-46da-a1c7-50b63f96033b"
      },
      "source": [
        "a = point_maker(0, 10)\n",
        "b = point_maker(5, 3)\n",
        "def calculate_slope(point_a, point_b):\n",
        "    \"\"\" Calculates the linear slope between two points \"\"\"\n",
        "    return (point_b[1] - point_a[1])/(point_b[0] - point_a[0])\n",
        "print (\"The slope between a and b is {0}\".format(calculate_slope(a, b)))"
      ],
      "execution_count": 28,
      "outputs": [
        {
          "output_type": "stream",
          "text": [
            "The slope between a and b is -1.4\n"
          ],
          "name": "stdout"
        }
      ]
    },
    {
      "cell_type": "markdown",
      "metadata": {
        "id": "UFx0tXArfHhF"
      },
      "source": [
        "And that one calculates the slope between two points!"
      ]
    },
    {
      "cell_type": "code",
      "metadata": {
        "id": "CTiFSk99fHhF",
        "colab": {
          "base_uri": "https://localhost:8080/"
        },
        "outputId": "533435d0-229c-42de-dcf6-feed00bf9b12"
      },
      "source": [
        "print (\"The slope-intercept form of the line between a and b, using point a, is: y - {0} = {2}(x - {1})\".format(a[1], a[0], calculate_slope(a, b)))"
      ],
      "execution_count": 29,
      "outputs": [
        {
          "output_type": "stream",
          "text": [
            "The slope-intercept form of the line between a and b, using point a, is: y - 10 = -1.4(x - 0)\n"
          ],
          "name": "stdout"
        }
      ]
    },
    {
      "cell_type": "markdown",
      "metadata": {
        "id": "ewDu480RfHhF"
      },
      "source": [
        "With the proper syntax, you can define functions to do whatever calculations you want. This makes them an indispensible part of programming in any language."
      ]
    },
    {
      "cell_type": "markdown",
      "metadata": {
        "id": "ejgtF2ssfHhF"
      },
      "source": [
        "## Next Steps\n",
        "\n",
        "This was a lot of material and there is still even more to cover! Make sure you play around with the cells in each notebook to accustom yourself to the syntax featured here and to figure out any limitations. If you want to delve even deeper into the material, the [documentation for Python](https://docs.python.org/2/) is all available online. We are in the process of developing a second part to this Python tutorial, designed to provide you with even more programming knowledge, so keep an eye on the [Quantopian Lectures Page](quantopian.com/lectures) and the [forums](quantopian.com/posts) for any new lectures."
      ]
    },
    {
      "cell_type": "markdown",
      "metadata": {
        "id": "rzUzG0PEfHhF"
      },
      "source": [
        "*This presentation is for informational purposes only and does not constitute an offer to sell, a solicitation to buy, or a recommendation for any security; nor does it constitute an offer to provide investment advisory or other services by Quantopian, Inc. (\"Quantopian\"). Nothing contained herein constitutes investment advice or offers any opinion with respect to the suitability of any security, and any views expressed herein should not be taken as advice to buy, sell, or hold any security or as an endorsement of any security or company.  In preparing the information contained herein, Quantopian, Inc. has not taken into account the investment needs, objectives, and financial circumstances of any particular investor. Any views expressed and data illustrated herein were prepared based upon information, believed to be reliable, available to Quantopian, Inc. at the time of publication. Quantopian makes no guarantees as to their accuracy or completeness. All information is subject to change and may quickly become unreliable for various reasons, including changes in market conditions or economic circumstances.*"
      ]
    }
  ]
}