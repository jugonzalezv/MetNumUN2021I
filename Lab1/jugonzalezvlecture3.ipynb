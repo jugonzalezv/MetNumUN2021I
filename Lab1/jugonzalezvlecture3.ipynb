{
  "nbformat": 4,
  "nbformat_minor": 0,
  "metadata": {
    "kernelspec": {
      "name": "python3",
      "display_name": "Python 3"
    },
    "colab": {
      "name": "lab3.ipynb",
      "provenance": [],
      "toc_visible": true
    }
  },
  "cells": [
    {
      "cell_type": "markdown",
      "metadata": {
        "id": "qYPm8GZX8FSX"
      },
      "source": [
        "# Introduction to NumPy\n",
        "by Maxwell Margenot\n",
        "\n",
        "Part of the Quantopian Lecture Series:\n",
        "\n",
        "* [www.quantopian.com/lectures](https://www.quantopian.com/lectures)\n",
        "* [github.com/quantopian/research_public](https://github.com/quantopian/research_public)\n",
        "\n",
        "Notebook released under the Creative Commons Attribution 4.0 License."
      ]
    },
    {
      "cell_type": "markdown",
      "metadata": {
        "id": "yxVtFsed8FSc"
      },
      "source": [
        "NumPy is an incredibly powerful package in Python that is ubiquitous throughout the Quantopian platform. It has strong integration with Pandas, another tool we will be covering in the lecture series. NumPy adds support for multi-dimensional arrays and mathematical functions that allow you to easily perform linear algebra calculations. This lecture will be a collection of linear algebra examples computed using NumPy."
      ]
    },
    {
      "cell_type": "code",
      "metadata": {
        "collapsed": true,
        "id": "iib_QJE38FSd"
      },
      "source": [
        "import numpy as np\n",
        "import matplotlib.pyplot as plt"
      ],
      "execution_count": 3,
      "outputs": []
    },
    {
      "cell_type": "markdown",
      "metadata": {
        "id": "yUUio-Fi8FSd"
      },
      "source": [
        "### Basic NumPy arrays"
      ]
    },
    {
      "cell_type": "markdown",
      "metadata": {
        "id": "_5MOx2e_8FSd"
      },
      "source": [
        "The most basic way that we could make use of NumPy in finance is calculating the mean return of a portfolio. Say that we have a list containing the historical return of several stocks."
      ]
    },
    {
      "cell_type": "code",
      "metadata": {
        "collapsed": true,
        "id": "oPpeRfX98FSd"
      },
      "source": [
        "stock_list = [3.5, 5, 2, 8, 4.2]"
      ],
      "execution_count": 38,
      "outputs": []
    },
    {
      "cell_type": "markdown",
      "metadata": {
        "id": "AWVy68ot_v9X"
      },
      "source": [
        "**Ejemplo**\r\n",
        "\r\n",
        "\r\n",
        "  \\begin{bmatrix}\r\n",
        "    3.7 & 3.9 & 9 & 20 & 75 \\\\\r\n",
        "  \\end{bmatrix}\r\n"
      ]
    },
    {
      "cell_type": "code",
      "metadata": {
        "id": "78Tgnk0rLFFF"
      },
      "source": [
        "Lista = [3.7,3.9,9,20,75]"
      ],
      "execution_count": 39,
      "outputs": []
    },
    {
      "cell_type": "markdown",
      "metadata": {
        "id": "Gx0bvAoj8FSe"
      },
      "source": [
        "We can make an array by calling a function on the list:"
      ]
    },
    {
      "cell_type": "code",
      "metadata": {
        "colab": {
          "base_uri": "https://localhost:8080/"
        },
        "id": "_k0VxgpT8FSe",
        "outputId": "2358122c-3550-45e7-fb4c-a0fc36ba102c"
      },
      "source": [
        "returns = np.array(stock_list)\n",
        "print (returns, type(returns))"
      ],
      "execution_count": 40,
      "outputs": [
        {
          "output_type": "stream",
          "text": [
            "[3.5 5.  2.  8.  4.2] <class 'numpy.ndarray'>\n"
          ],
          "name": "stdout"
        }
      ]
    },
    {
      "cell_type": "markdown",
      "metadata": {
        "id": "U21a67HtJz1z"
      },
      "source": [
        "**Ejemplo**"
      ]
    },
    {
      "cell_type": "code",
      "metadata": {
        "colab": {
          "base_uri": "https://localhost:8080/"
        },
        "id": "TMHP7k-kJ1ci",
        "outputId": "b9ea49ad-c6df-4405-94fc-d555399532c2"
      },
      "source": [
        "retorno = np.array(Lista)\r\n",
        "print(retorno,type(retorno))"
      ],
      "execution_count": 41,
      "outputs": [
        {
          "output_type": "stream",
          "text": [
            "[ 3.7  3.9  9.  20.  75. ] <class 'numpy.ndarray'>\n"
          ],
          "name": "stdout"
        }
      ]
    },
    {
      "cell_type": "markdown",
      "metadata": {
        "id": "Ua7Ln6zP8FSf"
      },
      "source": [
        "You'll notice that the type of our array is 'ndarray', not just 'array'. This is because NumPy arrays can be created with multiple dimensions. If we pass np.array() a list of lists, it will create a 2-dimensional array. If we pass a list of lists of lists, it will create a 3-dimensional array, and so on and so forth."
      ]
    },
    {
      "cell_type": "code",
      "metadata": {
        "colab": {
          "base_uri": "https://localhost:8080/"
        },
        "id": "h9TN_atK8FSf",
        "outputId": "8946dd7d-f385-49ad-941c-64287c49e5c9"
      },
      "source": [
        "A = np.array([[1, 2], [3, 4]])\n",
        "print (A, type(A))"
      ],
      "execution_count": 42,
      "outputs": [
        {
          "output_type": "stream",
          "text": [
            "[[1 2]\n",
            " [3 4]] <class 'numpy.ndarray'>\n"
          ],
          "name": "stdout"
        }
      ]
    },
    {
      "cell_type": "markdown",
      "metadata": {
        "id": "3_BPnsCIKWkb"
      },
      "source": [
        "**Ejemplo**\r\n",
        "\\begin{bmatrix}\r\n",
        "    1 & 2 & 3 & 4 & 5 \\\\\r\n",
        "    3 & 4 & 5 & 6 & 7\r\n",
        "  \\end{bmatrix}"
      ]
    },
    {
      "cell_type": "code",
      "metadata": {
        "id": "E6gcBlA9KdIS"
      },
      "source": [
        "B = np.array([[1,2,3,4,5],[3,4,5,6,7]])"
      ],
      "execution_count": 43,
      "outputs": []
    },
    {
      "cell_type": "markdown",
      "metadata": {
        "id": "ia6KM59L8FSf"
      },
      "source": [
        "We can access the dimensions of an array by looking at its `shape` member variable."
      ]
    },
    {
      "cell_type": "code",
      "metadata": {
        "colab": {
          "base_uri": "https://localhost:8080/"
        },
        "id": "ayYNwO5l8FSf",
        "outputId": "c5fa4358-44c0-4d6b-ab3c-89b872636488"
      },
      "source": [
        "print (A.shape)"
      ],
      "execution_count": 44,
      "outputs": [
        {
          "output_type": "stream",
          "text": [
            "(2, 2)\n"
          ],
          "name": "stdout"
        }
      ]
    },
    {
      "cell_type": "markdown",
      "metadata": {
        "id": "_CistL3oKwtR"
      },
      "source": [
        "**Ejemplo**"
      ]
    },
    {
      "cell_type": "code",
      "metadata": {
        "colab": {
          "base_uri": "https://localhost:8080/"
        },
        "id": "BT-qErFrK2kT",
        "outputId": "0e19451a-0499-4607-999d-5ee582a7cb24"
      },
      "source": [
        "print (B.shape)"
      ],
      "execution_count": 45,
      "outputs": [
        {
          "output_type": "stream",
          "text": [
            "(2, 5)\n"
          ],
          "name": "stdout"
        }
      ]
    },
    {
      "cell_type": "markdown",
      "metadata": {
        "id": "To1gq3he8FSg"
      },
      "source": [
        "Arrays are indexed in much the same way as lists in Python. Elements of a list begin indexing from $0$ and end at $n - 1$, where $n$ is the length of the array."
      ]
    },
    {
      "cell_type": "code",
      "metadata": {
        "id": "who_Bk6e8FSg",
        "colab": {
          "base_uri": "https://localhost:8080/"
        },
        "outputId": "63fadfeb-d183-4e83-bff9-003ce08e946c"
      },
      "source": [
        "print (returns[0], returns[len(returns) - 1])"
      ],
      "execution_count": 46,
      "outputs": [
        {
          "output_type": "stream",
          "text": [
            "3.5 4.2\n"
          ],
          "name": "stdout"
        }
      ]
    },
    {
      "cell_type": "markdown",
      "metadata": {
        "id": "Nhzr0y83LCUY"
      },
      "source": [
        "**Ejemplo**"
      ]
    },
    {
      "cell_type": "code",
      "metadata": {
        "colab": {
          "base_uri": "https://localhost:8080/"
        },
        "id": "Ku6zgvApLFS7",
        "outputId": "01a7166b-625c-498e-9400-a98bedfcf47d"
      },
      "source": [
        "print (retorno[0], retorno[len(returns) - 1])"
      ],
      "execution_count": 47,
      "outputs": [
        {
          "output_type": "stream",
          "text": [
            "3.7 75.0\n"
          ],
          "name": "stdout"
        }
      ]
    },
    {
      "cell_type": "markdown",
      "metadata": {
        "id": "hze1T8Bx8FSg"
      },
      "source": [
        "We can take a slice of an array using a colon, just like in a list."
      ]
    },
    {
      "cell_type": "code",
      "metadata": {
        "id": "dhstF_Rz8FSg",
        "colab": {
          "base_uri": "https://localhost:8080/"
        },
        "outputId": "eddc62d9-91d8-43b7-82bc-4bc8b324577d"
      },
      "source": [
        "print (returns[1:3])"
      ],
      "execution_count": 48,
      "outputs": [
        {
          "output_type": "stream",
          "text": [
            "[5. 2.]\n"
          ],
          "name": "stdout"
        }
      ]
    },
    {
      "cell_type": "markdown",
      "metadata": {
        "id": "NCm7I6eT8FSg"
      },
      "source": [
        "A slice of an array, like in a list, will select a group of elements in the array starting from the first element indicated and going up to (but not including) the last element indicated.\n",
        "\n",
        "In the case of multidimensional arrays, many of the same conventions with slicing and indexing hold. We can access the first column of a 2-dimensional array like so:"
      ]
    },
    {
      "cell_type": "code",
      "metadata": {
        "id": "2ylw0Cql8FSh",
        "colab": {
          "base_uri": "https://localhost:8080/"
        },
        "outputId": "8719d773-2799-4a78-c023-d4e2593ad878"
      },
      "source": [
        "print (A[:, 0])"
      ],
      "execution_count": 49,
      "outputs": [
        {
          "output_type": "stream",
          "text": [
            "[1 3]\n"
          ],
          "name": "stdout"
        }
      ]
    },
    {
      "cell_type": "markdown",
      "metadata": {
        "id": "iXMdeX_s8FSh"
      },
      "source": [
        "And the first row of a 2-dimensional array like so:"
      ]
    },
    {
      "cell_type": "code",
      "metadata": {
        "id": "wbItEpua8FSh",
        "colab": {
          "base_uri": "https://localhost:8080/"
        },
        "outputId": "61b85d35-bba1-4ff9-b8db-bba50de97e0f"
      },
      "source": [
        "print (A[0, :])"
      ],
      "execution_count": 50,
      "outputs": [
        {
          "output_type": "stream",
          "text": [
            "[1 2]\n"
          ],
          "name": "stdout"
        }
      ]
    },
    {
      "cell_type": "markdown",
      "metadata": {
        "id": "JJzBYq0R8FSh"
      },
      "source": [
        "Notice that each slice of the array returns yet another array!"
      ]
    },
    {
      "cell_type": "code",
      "metadata": {
        "id": "AGtsKBGI8FSh",
        "colab": {
          "base_uri": "https://localhost:8080/"
        },
        "outputId": "eb7cb898-3b31-4bb7-aac1-4895e13c3fe1"
      },
      "source": [
        "print (type(A[0,:]))"
      ],
      "execution_count": 51,
      "outputs": [
        {
          "output_type": "stream",
          "text": [
            "<class 'numpy.ndarray'>\n"
          ],
          "name": "stdout"
        }
      ]
    },
    {
      "cell_type": "markdown",
      "metadata": {
        "id": "tX3xZXbu8FSi"
      },
      "source": [
        "Passing only one index to a 2-dimensional array will result in returning the row with the given index as well, providing us with another way to access individual rows."
      ]
    },
    {
      "cell_type": "code",
      "metadata": {
        "id": "X4Nb8OU18FSi",
        "colab": {
          "base_uri": "https://localhost:8080/"
        },
        "outputId": "e92bb71c-f78e-40c4-b56a-f515fa91ff3f"
      },
      "source": [
        "print (A[0])"
      ],
      "execution_count": 52,
      "outputs": [
        {
          "output_type": "stream",
          "text": [
            "[1 2]\n"
          ],
          "name": "stdout"
        }
      ]
    },
    {
      "cell_type": "markdown",
      "metadata": {
        "id": "auY4dsvJ8FSi"
      },
      "source": [
        "Accessing the index of an individual element will return only the element."
      ]
    },
    {
      "cell_type": "code",
      "metadata": {
        "id": "7fIkb4Zm8FSi",
        "colab": {
          "base_uri": "https://localhost:8080/"
        },
        "outputId": "92944cd8-ebba-4e72-d814-e086798fb0ee"
      },
      "source": [
        "print (A[1, 1])"
      ],
      "execution_count": 53,
      "outputs": [
        {
          "output_type": "stream",
          "text": [
            "4\n"
          ],
          "name": "stdout"
        }
      ]
    },
    {
      "cell_type": "markdown",
      "metadata": {
        "id": "-oHwFfmbLMvC"
      },
      "source": [
        "**Ejemplo de todos los arreglos**"
      ]
    },
    {
      "cell_type": "markdown",
      "metadata": {
        "id": "TtcyK4_JX5OF"
      },
      "source": [
        ""
      ]
    },
    {
      "cell_type": "code",
      "metadata": {
        "colab": {
          "base_uri": "https://localhost:8080/"
        },
        "id": "A6RCV5juLQF7",
        "outputId": "4593202c-2197-4dcf-9ee6-dac80a9c0c97"
      },
      "source": [
        "print (retorno[1:3])\r\n",
        "print (B[:, 0])\r\n",
        "print (B[0, :])\r\n",
        "print (type(B[0,:]))\r\n",
        "print (B[0])\r\n",
        "print (B[1, 1])"
      ],
      "execution_count": 54,
      "outputs": [
        {
          "output_type": "stream",
          "text": [
            "[3.9 9. ]\n",
            "[1 3]\n",
            "[1 2 3 4 5]\n",
            "<class 'numpy.ndarray'>\n",
            "[1 2 3 4 5]\n",
            "4\n"
          ],
          "name": "stdout"
        }
      ]
    },
    {
      "cell_type": "markdown",
      "metadata": {
        "id": "2k87U5RT8FSi"
      },
      "source": [
        "#### Array functions\n",
        "\n",
        "Functions built into NumPy can be easily called on arrays. Most functions are applied to an array element-wise (as scalar multiplication is). For example, if we call `log()` on an array, the logarithm will be taken of each element."
      ]
    },
    {
      "cell_type": "code",
      "metadata": {
        "id": "7EgN398_8FSi",
        "colab": {
          "base_uri": "https://localhost:8080/"
        },
        "outputId": "efc02de7-c88e-40fe-b65d-72daf37aae92"
      },
      "source": [
        "print (np.log(returns))"
      ],
      "execution_count": 55,
      "outputs": [
        {
          "output_type": "stream",
          "text": [
            "[1.25276297 1.60943791 0.69314718 2.07944154 1.43508453]\n"
          ],
          "name": "stdout"
        }
      ]
    },
    {
      "cell_type": "markdown",
      "metadata": {
        "id": "6Wl4Hs5Zd1oO"
      },
      "source": [
        "**Ejemplo**"
      ]
    },
    {
      "cell_type": "code",
      "metadata": {
        "colab": {
          "base_uri": "https://localhost:8080/"
        },
        "id": "qP_XcljwQ4XF",
        "outputId": "87c1d01e-118f-41f4-b783-a991df95063d"
      },
      "source": [
        "print (np.log(retorno))"
      ],
      "execution_count": 56,
      "outputs": [
        {
          "output_type": "stream",
          "text": [
            "[1.30833282 1.36097655 2.19722458 2.99573227 4.31748811]\n"
          ],
          "name": "stdout"
        }
      ]
    },
    {
      "cell_type": "markdown",
      "metadata": {
        "id": "f6lvMJai8FSj"
      },
      "source": [
        "Some functions return a single value. This is because they treat the array as a collection (similar to a list), performing the designated function. For example, the `mean()` function will do exactly what you expect, calculating the mean of an array."
      ]
    },
    {
      "cell_type": "code",
      "metadata": {
        "id": "e3mQ_3nr8FSj",
        "colab": {
          "base_uri": "https://localhost:8080/"
        },
        "outputId": "d7500593-9873-431b-e3a7-0b7035c2b0b9"
      },
      "source": [
        "print (np.mean(returns))"
      ],
      "execution_count": 57,
      "outputs": [
        {
          "output_type": "stream",
          "text": [
            "4.54\n"
          ],
          "name": "stdout"
        }
      ]
    },
    {
      "cell_type": "markdown",
      "metadata": {
        "id": "UfS6uFJdYsDV"
      },
      "source": [
        "**Ejemplo**"
      ]
    },
    {
      "cell_type": "code",
      "metadata": {
        "colab": {
          "base_uri": "https://localhost:8080/"
        },
        "id": "omVKaUdYYt5d",
        "outputId": "43611c44-c4a5-4c6d-b6cc-a84af82d91aa"
      },
      "source": [
        "print (np.mean(retorno))"
      ],
      "execution_count": 58,
      "outputs": [
        {
          "output_type": "stream",
          "text": [
            "22.32\n"
          ],
          "name": "stdout"
        }
      ]
    },
    {
      "cell_type": "markdown",
      "metadata": {
        "id": "6EgqQU8Y8FSj"
      },
      "source": [
        "Or the `max()` function will return the maximum element of an array."
      ]
    },
    {
      "cell_type": "code",
      "metadata": {
        "id": "YQm6jmBI8FSj",
        "colab": {
          "base_uri": "https://localhost:8080/"
        },
        "outputId": "6f408267-b0f6-4d55-9ed7-5edf8d652028"
      },
      "source": [
        "print (np.max(returns))"
      ],
      "execution_count": 59,
      "outputs": [
        {
          "output_type": "stream",
          "text": [
            "8.0\n"
          ],
          "name": "stdout"
        }
      ]
    },
    {
      "cell_type": "markdown",
      "metadata": {
        "id": "_xK5wMQPY60e"
      },
      "source": [
        "**Ejemplo**"
      ]
    },
    {
      "cell_type": "code",
      "metadata": {
        "colab": {
          "base_uri": "https://localhost:8080/"
        },
        "id": "cIjYRknvankm",
        "outputId": "aba70090-255f-48a3-dcfc-58c983ae25c2"
      },
      "source": [
        "print (np.max(retorno))"
      ],
      "execution_count": 60,
      "outputs": [
        {
          "output_type": "stream",
          "text": [
            "75.0\n"
          ],
          "name": "stdout"
        }
      ]
    },
    {
      "cell_type": "markdown",
      "metadata": {
        "id": "8OBStO4i8FSj"
      },
      "source": [
        "For further reading on the universal functions in NumPy, check out the [documentation](https://docs.scipy.org/doc/numpy/user/quickstart.html#universal-functions)."
      ]
    },
    {
      "cell_type": "markdown",
      "metadata": {
        "id": "tHdxraS08FSj"
      },
      "source": [
        "### Return to the returns\n",
        "\n",
        "Now let's modify our returns array with scalar values. If we add a scalar value to an array it will be added to every element of the array. If we multiply an array by a scalar value it will be multiplied against every element of the array. If we do both, both will happen!"
      ]
    },
    {
      "cell_type": "code",
      "metadata": {
        "scrolled": false,
        "id": "A7WvTdc58FSk",
        "colab": {
          "base_uri": "https://localhost:8080/"
        },
        "outputId": "6581b41b-9b2a-432a-9a49-c442332df7de"
      },
      "source": [
        "returns*2 + 5"
      ],
      "execution_count": 74,
      "outputs": [
        {
          "output_type": "execute_result",
          "data": {
            "text/plain": [
              "array([[7.01031369, 7.06987484, 7.03679625, 7.04741453, 7.16704029,\n",
              "        6.99971234, 6.92270873, 6.9913555 , 6.97943   , 7.04520304,\n",
              "        7.11899779, 7.0008427 , 7.04949454, 6.96264757, 6.97901636,\n",
              "        6.9750224 , 7.03705394, 7.05531805, 6.93429101, 7.05873687,\n",
              "        7.03910346, 7.00289613, 6.88304932, 7.14054007, 6.99499585,\n",
              "        6.94775517, 7.00854293, 6.96424918, 6.98855469, 7.02010764,\n",
              "        7.10420432, 6.99567766, 7.05845006, 6.96634676, 7.07950718,\n",
              "        6.99901878, 7.08232236, 7.05145633, 7.02475848, 7.04894749,\n",
              "        6.94839319, 7.07857272, 6.95467503, 7.02094215, 7.02160099,\n",
              "        6.97880307, 7.01891674, 7.06425964, 7.03031358, 7.0314295 ,\n",
              "        6.91579448, 6.99618993, 6.96096922, 6.96691168, 7.02145808,\n",
              "        7.00354362, 6.97796651, 6.99712539, 7.05669284, 7.07687674,\n",
              "        6.920669  , 7.0812694 , 6.99915688, 6.95496855, 6.99714393,\n",
              "        7.0357491 , 7.10785383, 7.07251098, 7.02314013, 7.11816282,\n",
              "        7.10262855, 6.88231251, 6.9778442 , 7.07323504, 7.00599194,\n",
              "        6.96448866, 7.03019431, 6.89863502, 6.90043961, 6.99587578,\n",
              "        7.0234004 , 7.067453  , 6.98275131, 7.04478672, 7.08366283,\n",
              "        7.06977891, 7.09166833, 7.04638425, 7.02431086, 7.06406477,\n",
              "        7.06341718, 7.13218179, 6.9644354 , 7.07070556, 7.06389681,\n",
              "        6.99868724, 7.03086283, 6.92156664, 7.03887167, 7.01912021],\n",
              "       [6.97603929, 7.1352898 , 6.99970358, 7.05137524, 7.21971346,\n",
              "        7.0112917 , 6.95061117, 6.94631484, 6.89894288, 6.99908749,\n",
              "        7.12489518, 7.03381837, 7.05735893, 6.93310864, 6.92123913,\n",
              "        6.95823459, 7.00313101, 6.98120846, 6.91559295, 7.1042968 ,\n",
              "        7.01122812, 7.01004189, 6.9415682 , 7.12073358, 7.04816391,\n",
              "        6.94131345, 7.01200224, 6.93282845, 6.99347127, 6.98402951,\n",
              "        7.0939092 , 6.94775534, 7.06357225, 6.95411666, 7.02670925,\n",
              "        6.97678862, 6.9884162 , 7.04649718, 7.06189076, 7.04146798,\n",
              "        6.89630884, 7.06709095, 7.01262579, 6.96294633, 7.01232517,\n",
              "        6.98154898, 7.01349969, 7.04627218, 6.96762388, 7.01296519,\n",
              "        6.90456715, 7.03136633, 6.99041758, 6.92547664, 7.01493094,\n",
              "        7.04139256, 7.00446929, 6.99177768, 7.09738691, 7.03052349,\n",
              "        6.94851499, 7.08902574, 6.99765638, 6.91562415, 7.02042243,\n",
              "        7.06584084, 7.01580439, 7.05444579, 7.03834912, 7.18414245,\n",
              "        7.18109487, 6.92473123, 7.00181507, 7.06397603, 7.01903098,\n",
              "        6.89168436, 7.02107064, 6.95472189, 6.92185897, 7.07302593,\n",
              "        7.05098837, 7.08200467, 6.92812906, 6.98483568, 7.09858934,\n",
              "        7.08211935, 7.14503165, 7.05151783, 7.0056525 , 7.06887336,\n",
              "        7.07616281, 7.11851913, 7.00123928, 7.13212667, 7.03644369,\n",
              "        7.02210202, 6.97892502, 6.95950363, 7.04709411, 7.02213766],\n",
              "       [7.02926981, 7.06642052, 7.00777107, 7.07868183, 7.15652336,\n",
              "        6.98924464, 6.8961503 , 6.94687166, 6.97346261, 7.08458668,\n",
              "        7.1245948 , 6.94683086, 6.99058008, 6.93668326, 6.9462753 ,\n",
              "        7.00428485, 6.97365392, 7.09143176, 6.94660028, 7.14817321,\n",
              "        6.98644064, 6.9902446 , 6.83504734, 7.07621327, 7.02214443,\n",
              "        6.93914648, 7.03991333, 6.93865666, 6.96358163, 7.00160284,\n",
              "        7.10880635, 7.03061778, 7.07640748, 6.88774112, 7.03855999,\n",
              "        7.01425448, 7.11509947, 7.03732727, 7.02844514, 7.09355313,\n",
              "        7.00713434, 7.09685644, 6.99063629, 7.01625263, 6.91836196,\n",
              "        6.94241542, 6.98829368, 7.12605056, 7.03566132, 7.05057783,\n",
              "        6.93627543, 7.03278109, 6.95330368, 6.97576393, 7.03400673,\n",
              "        6.99393543, 6.89817965, 6.9448787 , 7.09776062, 7.02865511,\n",
              "        6.89755239, 7.07638373, 6.97447017, 6.98437906, 6.99088639,\n",
              "        6.97445357, 7.18661093, 7.13282976, 7.04734287, 7.15239827,\n",
              "        7.10177625, 6.85830312, 6.92161827, 7.05118975, 7.05979676,\n",
              "        6.90670246, 7.04762485, 6.87698965, 6.8926663 , 6.98021238,\n",
              "        7.01621951, 7.04124473, 7.02488857, 7.03630943, 7.1469667 ,\n",
              "        7.06522916, 7.07172347, 6.95532859, 7.11178976, 7.02655016,\n",
              "        7.09872812, 7.12671464, 6.94259164, 7.03871536, 7.04461767,\n",
              "        6.99584685, 6.98400859, 6.92644841, 7.04996118, 7.01008104],\n",
              "       [7.05393095, 7.07866335, 7.06016729, 7.02019062, 7.11970485,\n",
              "        7.01607921, 6.91126954, 7.03134633, 7.0636362 , 6.98468575,\n",
              "        7.21256884, 6.95171645, 7.01233635, 6.98218855, 6.95889508,\n",
              "        7.00340969, 7.05077225, 7.00622346, 6.9198234 , 7.04305694,\n",
              "        7.06398201, 6.99914957, 6.82707081, 7.10897674, 7.00733182,\n",
              "        6.93140087, 7.07217863, 6.97899931, 6.9568098 , 6.99314562,\n",
              "        7.17158763, 6.97207995, 7.13700505, 6.96256137, 7.05961648,\n",
              "        7.03571112, 7.06942679, 7.10413027, 6.99916071, 7.07603472,\n",
              "        6.92845   , 7.06255181, 6.9224301 , 6.98236589, 7.03577684,\n",
              "        7.10068499, 7.0718837 , 7.10835047, 6.92531294, 7.01210421,\n",
              "        6.91779773, 6.98954807, 6.99339969, 6.98166702, 7.14700851,\n",
              "        7.01847294, 6.92470024, 7.02382466, 7.02427775, 7.10635684,\n",
              "        6.91873777, 7.09185739, 7.01934442, 6.95262323, 6.97217844,\n",
              "        6.99358249, 7.07571234, 7.07602465, 7.03022566, 7.11129887,\n",
              "        7.10117139, 6.85025334, 7.0171754 , 7.1243818 , 6.99429197,\n",
              "        6.92326223, 7.06451698, 6.84873319, 6.93664916, 7.04456291,\n",
              "        7.00448938, 7.08052826, 7.01996771, 7.07008956, 7.07283214,\n",
              "        7.01731874, 7.12925401, 7.12539995, 6.96757893, 7.06324358,\n",
              "        7.07929486, 7.12129824, 6.89540631, 7.12069144, 7.05376511,\n",
              "        6.91329932, 7.04251007, 6.95255976, 7.03038966, 6.98242643],\n",
              "       [7.01529801, 7.02946989, 7.08723321, 7.0736729 , 7.18557159,\n",
              "        7.01004945, 6.94315371, 7.06129235, 7.00310689, 7.00550729,\n",
              "        7.04430408, 6.9750152 , 7.03002665, 6.94822762, 6.95670524,\n",
              "        6.96308088, 7.06489368, 7.04688107, 6.8809203 , 7.07799613,\n",
              "        7.08483998, 7.07014261, 6.8981458 , 7.13321122, 6.93581767,\n",
              "        6.98613348, 6.98367989, 6.95281663, 6.89989307, 7.06903707,\n",
              "        7.12015236, 6.98956026, 7.05756985, 7.00143114, 7.09340583,\n",
              "        7.08525729, 7.04460307, 6.98878218, 6.99503519, 7.03644976,\n",
              "        6.98957458, 7.01519607, 7.00024706, 6.99842909, 7.0676624 ,\n",
              "        6.93668298, 7.04969615, 7.06685422, 7.11232622, 7.11066511,\n",
              "        6.90689251, 7.03921404, 6.9759854 , 6.96729426, 6.9719388 ,\n",
              "        7.074188  , 6.99774272, 6.99130319, 7.09733957, 7.09954685,\n",
              "        6.8543752 , 7.04106377, 6.93617998, 6.97178904, 7.04140675,\n",
              "        7.03505805, 7.17280271, 7.06506181, 6.97920578, 7.07265868,\n",
              "        7.07936805, 6.94910156, 6.98449714, 7.07556592, 6.99990417,\n",
              "        7.00809623, 7.02641552, 6.88998969, 6.83256527, 6.96793297,\n",
              "        6.99735525, 7.10742953, 7.02776364, 7.13936017, 7.03536168,\n",
              "        7.13169059, 7.10927113, 7.11694026, 7.02608959, 7.01006284,\n",
              "        7.01571421, 7.17228838, 6.9539171 , 7.06497462, 7.0861095 ,\n",
              "        6.98961538, 7.07933578, 6.83348512, 7.00526603, 7.06995352],\n",
              "       [6.97413492, 7.00403152, 7.08952485, 7.02133483, 7.14234005,\n",
              "        6.97983707, 6.89580718, 6.95744217, 7.04797514, 7.08468909,\n",
              "        7.08460771, 7.05142085, 7.11821825, 6.95579017, 6.96987161,\n",
              "        6.96739252, 7.11820157, 7.09490156, 6.93062397, 7.04996515,\n",
              "        7.02941029, 7.02680193, 6.87043337, 7.17045071, 6.9572904 ,\n",
              "        6.9302829 , 7.01094529, 7.03132116, 7.00158635, 7.04483231,\n",
              "        7.12883608, 6.96954095, 7.09112497, 6.96929859, 7.13656298,\n",
              "        6.92812148, 7.08467326, 7.06461567, 7.12543029, 7.02035862,\n",
              "        6.98110094, 7.0304974 , 6.93770462, 7.03557793, 7.0777045 ,\n",
              "        6.95541998, 7.05584337, 7.07081899, 7.02825799, 7.01010322,\n",
              "        6.87492614, 6.92639763, 6.90796043, 6.9715445 , 7.05063035,\n",
              "        6.98219017, 7.02462632, 6.99675025, 6.97864848, 7.09702991,\n",
              "        6.96833903, 7.14878884, 7.00001607, 6.90251738, 7.00402451,\n",
              "        7.07426042, 7.1210981 , 6.99792725, 6.99594391, 7.15162438,\n",
              "        7.09434538, 6.9697508 , 6.912006  , 7.08467242, 6.91186489,\n",
              "        6.9725032 , 6.94183658, 6.93356167, 6.83673094, 6.99195508,\n",
              "        7.0593119 , 7.05356369, 6.94618059, 7.00172206, 7.13351239,\n",
              "        7.08648542, 7.11989814, 7.0541494 , 6.96348953, 7.05302509,\n",
              "        7.00146487, 7.1034036 , 6.98085583, 7.03577668, 7.06318855,\n",
              "        6.96566354, 6.95854435, 6.8661759 , 7.02778789, 7.08808083],\n",
              "       [7.00812779, 7.09045289, 7.05067526, 7.00225282, 7.18159586,\n",
              "        6.99796566, 6.9364859 , 6.99132758, 6.95709494, 7.09032752,\n",
              "        7.1173894 , 6.94059131, 7.02473518, 7.01763915, 6.95729674,\n",
              "        6.97269457, 7.11792705, 7.110844  , 6.93570636, 7.0413388 ,\n",
              "        7.07967037, 7.02611822, 6.92568504, 7.10526599, 7.02094614,\n",
              "        6.95391043, 7.08199085, 6.88751168, 7.03626282, 7.00511817,\n",
              "        7.06261363, 7.02953809, 7.07668178, 6.96796414, 7.05186164,\n",
              "        6.98424406, 7.08816631, 7.04120302, 7.03093033, 7.00766207,\n",
              "        7.05833967, 7.13281903, 7.02642087, 7.01933055, 7.03049366,\n",
              "        6.99332367, 7.03803277, 7.0847997 , 6.99589081, 7.08759202,\n",
              "        6.9168836 , 6.98332931, 6.90791916, 7.02921509, 7.00423558,\n",
              "        7.02115282, 6.98838568, 7.01185698, 7.05760006, 7.06093423,\n",
              "        6.92889699, 7.11959588, 7.03839072, 6.89347667, 6.96030757,\n",
              "        7.05490966, 7.15219775, 7.02090481, 7.00396218, 7.06435714,\n",
              "        7.04544578, 6.85029315, 7.00024612, 7.07784851, 6.88846964,\n",
              "        6.95947279, 6.966706  , 6.85398469, 6.81598425, 7.03270866,\n",
              "        6.98536316, 7.13601273, 6.94618926, 7.02146551, 7.02628391,\n",
              "        7.0765995 , 7.12328714, 7.00751746, 7.02806839, 7.08568173,\n",
              "        7.03640508, 7.16157184, 6.97792108, 7.1276574 , 7.11336519,\n",
              "        7.01895215, 7.05444903, 6.92072549, 6.98914963, 6.99630763],\n",
              "       [7.03268244, 7.14293309, 7.04879836, 7.05037787, 7.17511655,\n",
              "        6.96580468, 6.96288617, 6.99591239, 7.01425783, 6.97433406,\n",
              "        7.11118441, 7.00798495, 7.02610483, 6.99838633, 7.01693547,\n",
              "        6.99144167, 7.0163523 , 7.04728758, 6.89445073, 7.08130043,\n",
              "        6.97001016, 7.00060177, 6.87684782, 7.16131195, 6.96938023,\n",
              "        6.93191214, 6.97822793, 7.03765468, 7.02974796, 7.00412303,\n",
              "        7.20211127, 6.96585475, 7.02366991, 7.01382965, 7.12468419,\n",
              "        6.97090491, 7.07675323, 7.02392854, 7.0023346 , 7.07419495,\n",
              "        6.99940512, 7.07307961, 6.96411341, 7.00681745, 7.06867643,\n",
              "        7.00143899, 6.93838054, 7.06161882, 7.03335632, 7.04733147,\n",
              "        6.90590503, 7.08304851, 7.0002792 , 7.04141939, 7.01814007,\n",
              "        6.93734727, 6.98539013, 6.95741551, 7.06284112, 7.06564333,\n",
              "        6.87840526, 7.1145061 , 7.01410724, 6.95585037, 7.02033549,\n",
              "        6.98614456, 7.12544853, 7.12152861, 7.00226901, 7.1112983 ,\n",
              "        7.15527616, 6.86702968, 6.99221378, 7.02100763, 7.08117574,\n",
              "        6.99305404, 7.07464202, 6.84732984, 6.92500129, 6.9390142 ,\n",
              "        7.01252081, 7.12059929, 6.97585029, 7.08989582, 7.12713458,\n",
              "        7.122355  , 7.12226094, 6.99150316, 7.03302479, 7.05083167,\n",
              "        6.99367639, 7.14955567, 6.99503541, 7.0627705 , 7.00757402,\n",
              "        7.03724191, 7.01555341, 6.89972061, 7.06306086, 7.04123366],\n",
              "       [6.98415691, 7.02303782, 7.00046328, 7.0091646 , 7.09438542,\n",
              "        6.95977762, 6.86397938, 6.96917436, 6.94754043, 6.98942497,\n",
              "        7.15827384, 6.98744409, 7.04437684, 6.92653958, 6.99526681,\n",
              "        6.96272252, 7.06050254, 7.09063571, 6.97939031, 7.05748938,\n",
              "        7.06830021, 7.00958309, 6.89202652, 7.06242707, 7.04749202,\n",
              "        6.97806453, 7.03655983, 6.96736667, 7.04087731, 7.0114986 ,\n",
              "        7.16147662, 6.92600638, 7.06156089, 6.93709399, 7.11002883,\n",
              "        6.95089941, 7.03691347, 7.08195094, 7.05348227, 7.05510939,\n",
              "        6.94154233, 7.13545113, 6.95341646, 7.05721937, 7.01893048,\n",
              "        6.95590199, 6.97827609, 7.12940119, 6.99634162, 7.02032711,\n",
              "        6.87548266, 7.01671242, 7.051087  , 6.9127936 , 7.02179329,\n",
              "        7.02011152, 6.91148048, 6.97058931, 6.99040554, 7.05673297,\n",
              "        6.91140226, 7.12234336, 6.96894075, 6.88047718, 7.00105625,\n",
              "        7.02218924, 7.11906364, 7.0230887 , 7.046021  , 7.08736781,\n",
              "        7.06886774, 6.84683744, 6.98379913, 7.07126197, 7.02216978,\n",
              "        7.02305199, 7.06887503, 6.90663358, 6.90615406, 6.9852665 ,\n",
              "        6.98255895, 7.10481497, 6.96832727, 7.08217337, 7.08690541,\n",
              "        7.09766651, 7.09785794, 7.04425494, 6.94877028, 7.13106525,\n",
              "        7.04997294, 7.17183559, 7.02229796, 7.03955678, 7.06248702,\n",
              "        7.0519349 , 7.01718277, 6.95408708, 7.14879063, 6.96550322],\n",
              "       [7.02022753, 7.08157952, 7.00645759, 7.01861372, 7.19021048,\n",
              "        6.96152545, 6.96271608, 6.98769583, 6.88276878, 7.05927156,\n",
              "        7.12965805, 7.05022037, 7.00106562, 6.95888913, 7.00426056,\n",
              "        6.98888873, 7.0412911 , 7.05971158, 6.86721165, 7.05091718,\n",
              "        7.0201217 , 7.03631874, 6.82625464, 7.15792035, 7.03079167,\n",
              "        6.89707794, 6.9735843 , 6.92870204, 7.01567346, 6.98115313,\n",
              "        7.07170637, 6.98783745, 7.04305885, 6.97529778, 7.09594765,\n",
              "        6.98394077, 7.09082364, 7.01946444, 7.00408606, 7.06942447,\n",
              "        6.91066837, 7.03348486, 7.01867342, 7.05849617, 6.99518075,\n",
              "        6.95789754, 7.05895895, 7.01605346, 7.01214493, 7.00921095,\n",
              "        6.8630067 , 7.00279022, 6.9633568 , 7.03175298, 6.93293539,\n",
              "        7.06394372, 6.94346381, 7.01785452, 7.04753658, 7.07193897,\n",
              "        6.96978456, 7.04074438, 7.05457645, 6.9526382 , 7.00941856,\n",
              "        7.01165066, 7.03653405, 7.14759044, 7.09451595, 7.13496385,\n",
              "        7.04942481, 6.89029839, 6.99478783, 7.01447878, 6.95058626,\n",
              "        7.01127888, 7.03896448, 6.92017426, 6.89489447, 6.97833112,\n",
              "        7.00512228, 7.08085001, 6.99117391, 6.98407287, 7.09718864,\n",
              "        7.0391178 , 7.11488893, 7.04317052, 6.99642793, 7.07619041,\n",
              "        7.09785326, 7.1865051 , 6.8433761 , 7.05912135, 7.01264486,\n",
              "        7.00958804, 7.02626388, 6.93712458, 6.93701921, 7.04341774]])"
            ]
          },
          "metadata": {
            "tags": []
          },
          "execution_count": 74
        }
      ]
    },
    {
      "cell_type": "markdown",
      "metadata": {
        "id": "05eiJjj2lgBv"
      },
      "source": [
        "**Ejemplo**"
      ]
    },
    {
      "cell_type": "code",
      "metadata": {
        "colab": {
          "base_uri": "https://localhost:8080/"
        },
        "id": "jhtMtsvllh3H",
        "outputId": "ad915ded-e5c0-46fc-fd43-2fcfac73efaa"
      },
      "source": [
        "retorno*4 + 5"
      ],
      "execution_count": 62,
      "outputs": [
        {
          "output_type": "execute_result",
          "data": {
            "text/plain": [
              "array([ 19.8,  20.6,  41. ,  85. , 305. ])"
            ]
          },
          "metadata": {
            "tags": []
          },
          "execution_count": 62
        }
      ]
    },
    {
      "cell_type": "markdown",
      "metadata": {
        "id": "yJ5EG-hI8FSk"
      },
      "source": [
        "NumPy also has functions specifically built to operate on arrays. Let's take the mean and standard deviation of this group of returns."
      ]
    },
    {
      "cell_type": "code",
      "metadata": {
        "id": "btcAdJU08FSk",
        "colab": {
          "base_uri": "https://localhost:8080/"
        },
        "outputId": "0927f7f2-f1ec-4c07-8a3b-6712817fa13c"
      },
      "source": [
        "print (\"Mean: \", np.mean(returns), \"Std Dev: \", np.std(returns))"
      ],
      "execution_count": 63,
      "outputs": [
        {
          "output_type": "stream",
          "text": [
            "Mean:  4.54 Std Dev:  1.9915822855207364\n"
          ],
          "name": "stdout"
        }
      ]
    },
    {
      "cell_type": "markdown",
      "metadata": {
        "id": "vdRipvPVmQ0_"
      },
      "source": [
        "**Ejemplo**"
      ]
    },
    {
      "cell_type": "code",
      "metadata": {
        "colab": {
          "base_uri": "https://localhost:8080/"
        },
        "id": "z9LOr4W5mSP3",
        "outputId": "b7ad75aa-bf51-4903-c010-015b2845ed55"
      },
      "source": [
        "print (\"media: \", np.mean(retorno), \"desviacion estandar: \", np.std(retorno))"
      ],
      "execution_count": 64,
      "outputs": [
        {
          "output_type": "stream",
          "text": [
            "media:  22.32 desviacion estandar:  26.996251591656204\n"
          ],
          "name": "stdout"
        }
      ]
    },
    {
      "cell_type": "markdown",
      "metadata": {
        "id": "XrtYCeUJ8FSk"
      },
      "source": [
        "Let's simulate a universe of stocks using NumPy's functions. First we need to create the arrays to hold the assets and returns that we will use to build a portfolio. This is because arrays are created with a fixed size. Their dimensions can't be changed without creating a new array."
      ]
    },
    {
      "cell_type": "code",
      "metadata": {
        "collapsed": true,
        "id": "mhST-UTY8FSk"
      },
      "source": [
        "N = 10\n",
        "assets = np.zeros((N, 100))\n",
        "returns = np.zeros((N, 100))"
      ],
      "execution_count": 65,
      "outputs": []
    },
    {
      "cell_type": "markdown",
      "metadata": {
        "id": "jjp3YWadAhBz"
      },
      "source": [
        "Ejemplo con un arreglo $N1 \\times 1000$"
      ]
    },
    {
      "cell_type": "code",
      "metadata": {
        "id": "WW2_rlBJAmHY"
      },
      "source": [
        "N1 = 100\r\n",
        "assets1 = np.zeros((N, 1000))\r\n",
        "returns1 = np.zeros((N, 1000))"
      ],
      "execution_count": 77,
      "outputs": []
    },
    {
      "cell_type": "markdown",
      "metadata": {
        "id": "KmvhZikk8FSl"
      },
      "source": [
        "This function, `zeroes()`, creates a NumPy array with the given dimensions that is entirely filled in with $0$. We can pass a single value or a tuple of as many dimensions as we like. Passing in the tuple `(N, 100)`, will return a two-dimensional array with $N$ rows and $100$ columns. Our result is a $N \\times 100$ array.\n",
        "\n",
        "Now we will simulate a base asset. We want the universe of stocks to be correlated with each other so we will use this initial value to generate the others."
      ]
    },
    {
      "cell_type": "code",
      "metadata": {
        "id": "HJ1CKZxT8FSl"
      },
      "source": [
        "R_1 = np.random.normal(1.01, 0.03, 100)\n",
        "returns[0] = R_1\n",
        "assets[0] = np.cumprod(R_1)"
      ],
      "execution_count": 78,
      "outputs": []
    },
    {
      "cell_type": "markdown",
      "metadata": {
        "id": "L6btwAcxAwUK"
      },
      "source": [
        "**Ejemplo**"
      ]
    },
    {
      "cell_type": "code",
      "metadata": {
        "id": "0LNuliD9Axxi"
      },
      "source": [
        "R_2 = np.random.normal(1.01, 0.03, 1000)\r\n",
        "returns1[0] = R_2\r\n",
        "assets1[0] = np.cumprod(R_2)"
      ],
      "execution_count": 80,
      "outputs": []
    },
    {
      "cell_type": "markdown",
      "metadata": {
        "id": "wrSvgClH8FSl"
      },
      "source": [
        "The `random` module in NumPy is exceedingly useful. It contains methods for sampling from many different probability distributions, some of which are covered in the [random variables lecture](https://www.quantopian.com/lectures/random-variables) in the Quantopian lecture series. In this case we draw $N = 100$ random samples from a normal distribution with mean $1.01$ and standard deviation $0.03$. We treat these as the daily percentage returns of our asset and take the cumulative product of these samples to get the current price.\n",
        "\n",
        "The way we have generated our universe, the the individual $R_i$ vectors are each 1-dimensional arrays and the `returns` and `assets` variables contain 2-dimensional arrays. Above, we set the initial row of both `returns` and `assets` to be the first $R_i$ vector and the cumulative asset price based on those returns, respectively.\n",
        "\n",
        "We will now use this base asset to create a few other random assets that are correlated with it."
      ]
    },
    {
      "cell_type": "code",
      "metadata": {
        "id": "B8bE83sK8FSl"
      },
      "source": [
        "# Generate assets that are correlated with R_1\n",
        "for i in range(1, N):\n",
        "    R_i = R_1 + np.random.normal(0.001, 0.02, 100)\n",
        "    returns[i] = R_i # Set each row of returns equal to the new R_i array\n",
        "    assets[i] = np.cumprod(R_i)\n",
        "    \n",
        "mean_returns = [(np.mean(R) - 1)*100 for R in returns]\n",
        "return_volatilities = [np.std(R) for R in returns]"
      ],
      "execution_count": 75,
      "outputs": []
    },
    {
      "cell_type": "markdown",
      "metadata": {
        "id": "-cNzbLrKA7dg"
      },
      "source": [
        "**Ejemplo**"
      ]
    },
    {
      "cell_type": "code",
      "metadata": {
        "id": "8bkwujsZA82y"
      },
      "source": [
        "# Generate assets that are correlated with R_1\r\n",
        "for i in range(1, N):\r\n",
        "    R_i = R_2 + np.random.normal(0.001, 0.02, 1000)\r\n",
        "    returns1[i] = R_i # Set each row of returns equal to the new R_i array\r\n",
        "    assets1[i] = np.cumprod(R_i)\r\n",
        "    \r\n",
        "mean_returns1 = [(np.mean(R) - 1)*100 for R in returns]\r\n",
        "return_volatilities1 = [np.std(R) for R in returns]"
      ],
      "execution_count": 82,
      "outputs": []
    },
    {
      "cell_type": "markdown",
      "metadata": {
        "id": "yO2fCVX9AdcL"
      },
      "source": [
        ""
      ]
    },
    {
      "cell_type": "markdown",
      "metadata": {
        "id": "GgGNQH5Z8FSl"
      },
      "source": [
        "Here we generate the remaining $N - 1$ securities that we want in our universe by adding random noise to $R_1$. This ensures that our $N - 1$ other assets will be correlated with the base asset because they have some underlying information that is shared.\n",
        "\n",
        "Let's plot what the mean return of each asset looks like:"
      ]
    },
    {
      "cell_type": "code",
      "metadata": {
        "scrolled": false,
        "id": "rgOPJb4t8FSl",
        "colab": {
          "base_uri": "https://localhost:8080/",
          "height": 295
        },
        "outputId": "d652e225-d87b-438b-d3a1-cea5a6e0a41b"
      },
      "source": [
        "plt.bar(np.arange(len(mean_returns)), mean_returns)\n",
        "plt.xlabel('Stock')\n",
        "plt.ylabel('Returns')\n",
        "plt.title('Returns for {0} Random Assets'.format(N));"
      ],
      "execution_count": 68,
      "outputs": [
        {
          "output_type": "display_data",
          "data": {
            "image/png": "[encoded data removed]",
            "text/plain": [
              "<Figure size 432x288 with 1 Axes>"
            ]
          },
          "metadata": {
            "tags": [],
            "needs_background": "light"
          }
        }
      ]
    },
    {
      "cell_type": "markdown",
      "metadata": {
        "id": "90dnhbTRBIMj"
      },
      "source": [
        "**Ejemplo**"
      ]
    },
    {
      "cell_type": "code",
      "metadata": {
        "colab": {
          "base_uri": "https://localhost:8080/",
          "height": 295
        },
        "id": "YzYDoFfKBKUi",
        "outputId": "fef05ce2-b59e-4ec8-dcab-8d91830b5872"
      },
      "source": [
        "plt.bar(np.arange(len(mean_returns1)), mean_returns1)\r\n",
        "plt.xlabel('Stock1')\r\n",
        "plt.ylabel('Returns1')\r\n",
        "plt.title('Returns for {0} Random Assets'.format(N));"
      ],
      "execution_count": 83,
      "outputs": [
        {
          "output_type": "display_data",
          "data": {
            "image/png": "[encoded data removed]",
            "text/plain": [
              "<Figure size 432x288 with 1 Axes>"
            ]
          },
          "metadata": {
            "tags": [],
            "needs_background": "light"
          }
        }
      ]
    },
    {
      "cell_type": "markdown",
      "metadata": {
        "id": "9OdcVxjO8FSm"
      },
      "source": [
        "### Calculating Expected Return\n",
        "\n",
        "So we have a universe of stocks. Great! Now let's put them together in a portfolio and calculate its expected return and risk.\n",
        "\n",
        "We will start off by generating $N$ random weights for each asset in our portfolio."
      ]
    },
    {
      "cell_type": "code",
      "metadata": {
        "id": "MyCv16no8FSm"
      },
      "source": [
        "weights = np.random.uniform(0, 1, N)\n",
        "weights = weights/np.sum(weights)"
      ],
      "execution_count": 84,
      "outputs": []
    },
    {
      "cell_type": "markdown",
      "metadata": {
        "id": "xfCtDvJSBSA6"
      },
      "source": [
        "**Ejemplo**"
      ]
    },
    {
      "cell_type": "code",
      "metadata": {
        "id": "R0b4FpyLBVZS"
      },
      "source": [
        "weights1 = np.random.uniform(0, 1, N)\r\n",
        "weights1 = weights1/np.sum(weights1)"
      ],
      "execution_count": 85,
      "outputs": []
    },
    {
      "cell_type": "markdown",
      "metadata": {
        "id": "tK08u6jq8FSm"
      },
      "source": [
        "We have to rescale the weights so that they all add up to $1$. We do this by scaling the weights vector by the sum total of all the weights. This step ensures that we will be using $100\\%$ of the portfolio's cash.\n",
        "\n",
        "To calculate the mean return of the portfolio, we have to scale each asset's return by its designated weight. We can pull each element of each array and multiply them individually, but it's quicker to use NumPy's linear algebra methods. The function that we want is `dot()`. This will calculate the dot product between two arrays for us. So if $v = \\left[ 1, 2, 3 \\right]$ and $w = \\left[4, 5, 6 \\right]$, then:\n",
        "\n",
        "$$ v \\cdot w = 1 \\times 4 + 2 \\times 5 + 3 \\times 6 $$\n",
        "\n",
        "For a one-dimensional vector, the dot product will multiply each element pointwise and add all the products together! In our case, we have a vector of weights, $\\omega = \\left[ \\omega_1, \\omega_2, \\dots \\omega_N\\right]$ and a vector of returns, $\\mu = \\left[ \\mu_1, \\mu_2, \\dots, \\mu_N\\right]$. If we take the dot product of these two we will get:\n",
        "\n",
        "$$ \\omega \\cdot \\mu = \\omega_1\\mu_1 + \\omega_2\\mu_2 + \\dots + \\omega_N\\mu_N = \\mu_P $$\n",
        "\n",
        "This yields the sum of all the asset returns scaled by their respective weights. This the the portfolio's overall expected return!"
      ]
    },
    {
      "cell_type": "code",
      "metadata": {
        "id": "8AIvHIqn8FSm",
        "colab": {
          "base_uri": "https://localhost:8080/"
        },
        "outputId": "b9ff60be-d8e0-473a-b90e-66394f27a961"
      },
      "source": [
        "p_returns = np.dot(weights, mean_returns)\n",
        "print (\"Expected return of the portfolio: \", p_returns)"
      ],
      "execution_count": 73,
      "outputs": [
        {
          "output_type": "stream",
          "text": [
            "Expected return of the portfolio:  0.9493883784827323\n"
          ],
          "name": "stdout"
        }
      ]
    },
    {
      "cell_type": "markdown",
      "metadata": {
        "id": "gDBv1afMBavD"
      },
      "source": [
        "**Ejemplo**"
      ]
    },
    {
      "cell_type": "code",
      "metadata": {
        "colab": {
          "base_uri": "https://localhost:8080/"
        },
        "id": "e5qfluLKBcMj",
        "outputId": "6eda0f97-ad81-4977-a5d8-b556f6efdf4e"
      },
      "source": [
        "p_returns1 = np.dot(weights1, mean_returns1)\r\n",
        "print (\"Expected return of the portfolio: \", p_returns1)"
      ],
      "execution_count": 86,
      "outputs": [
        {
          "output_type": "stream",
          "text": [
            "Expected return of the portfolio:  0.9629072800002081\n"
          ],
          "name": "stdout"
        }
      ]
    },
    {
      "cell_type": "markdown",
      "metadata": {
        "id": "AW4owl2H8FSn"
      },
      "source": [
        "Calculating the mean return is fairly intuitive and does not require too much explanation of linear algebra. However, calculating the variance of our portfolio requires a bit more background."
      ]
    },
    {
      "cell_type": "markdown",
      "metadata": {
        "id": "tidE4FXW8FSn"
      },
      "source": [
        "#### Beware of NaN values\n",
        "\n",
        "Most of the time, all of these calculations will work without an issue. However, when working with real data we run the risk of having `nan` values in our arrays. This is NumPy's way of saying that the data there is missing or doesn't exist. These `nan` values can lead to errors in mathematical calculations so it is important to be aware of whether your array contains `nan` values and to know how to drop them."
      ]
    },
    {
      "cell_type": "code",
      "metadata": {
        "id": "RK_xovT28FSn",
        "colab": {
          "base_uri": "https://localhost:8080/"
        },
        "outputId": "915e51c9-235f-4eed-9c90-cb74d66982d6"
      },
      "source": [
        "v = np.array([1, 2, np.nan, 4, 5])\n",
        "print (v)"
      ],
      "execution_count": 87,
      "outputs": [
        {
          "output_type": "stream",
          "text": [
            "[ 1.  2. nan  4.  5.]\n"
          ],
          "name": "stdout"
        }
      ]
    },
    {
      "cell_type": "markdown",
      "metadata": {
        "id": "I_JO5hvS8FSo"
      },
      "source": [
        "Let's see what happens when we try to take the mean of this array."
      ]
    },
    {
      "cell_type": "code",
      "metadata": {
        "id": "qgUwBX6U8FSo",
        "colab": {
          "base_uri": "https://localhost:8080/"
        },
        "outputId": "88127fda-d99a-4f62-fca4-c7162dc4d42e"
      },
      "source": [
        "print (np.mean(v))"
      ],
      "execution_count": 88,
      "outputs": [
        {
          "output_type": "stream",
          "text": [
            "nan\n"
          ],
          "name": "stdout"
        }
      ]
    },
    {
      "cell_type": "markdown",
      "metadata": {
        "id": "iRnQBE9H8FSo"
      },
      "source": [
        "Clearly, `nan` values can have a large impact on our calculations. Fortunately, we can check for `nan` values with the `isnan()` function."
      ]
    },
    {
      "cell_type": "code",
      "metadata": {
        "id": "3aZudIDD8FSo",
        "colab": {
          "base_uri": "https://localhost:8080/"
        },
        "outputId": "f9dc101b-15e9-4bef-9ee0-cf46080cdf7e"
      },
      "source": [
        "np.isnan(v)"
      ],
      "execution_count": 89,
      "outputs": [
        {
          "output_type": "execute_result",
          "data": {
            "text/plain": [
              "array([False, False,  True, False, False])"
            ]
          },
          "metadata": {
            "tags": []
          },
          "execution_count": 89
        }
      ]
    },
    {
      "cell_type": "markdown",
      "metadata": {
        "id": "t_LW2v_Q8FSo"
      },
      "source": [
        "Calling `isnan()` on an array will call the function on each value of the array, returning a value of `True` if the element is `nan` and `False` if the element is valid. Now, knowing whether your array contains `nan` values is all well and good, but how do we remove `nan`s? Handily enough, NumPy arrays can be indexed by boolean values (`True` or `False`). If we use a boolean array to index an array, we will remove all values of the array that register as `False` under the condition. We use the `isnan()` function in create a boolean array, assigning a `True` value to everything that is *not* `nan` and a `False` to the `nan`s and we use that to index the same array."
      ]
    },
    {
      "cell_type": "code",
      "metadata": {
        "id": "g42tH2GQ8FSo",
        "outputId": "2b46fd2e-5a2e-4260-f06f-6b6b6d5c1718"
      },
      "source": [
        "ix = ~np.isnan(v) # the ~ indicates a logical not, inverting the bools\n",
        "print (v[ix]) # We can also just write v = v[~np.isnan(v)]"
      ],
      "execution_count": null,
      "outputs": [
        {
          "output_type": "stream",
          "text": [
            "[ 1.  2.  4.  5.]\n"
          ],
          "name": "stdout"
        }
      ]
    },
    {
      "cell_type": "code",
      "metadata": {
        "id": "fT1qq_zT8FSp",
        "outputId": "1538d5d4-8988-4c62-9be5-eeacbecc6459"
      },
      "source": [
        "print (np.mean(v[ix]))"
      ],
      "execution_count": null,
      "outputs": [
        {
          "output_type": "stream",
          "text": [
            "3.0\n"
          ],
          "name": "stdout"
        }
      ]
    },
    {
      "cell_type": "markdown",
      "metadata": {
        "id": "-T0uf2os8FSp"
      },
      "source": [
        "There are a few shortcuts to this process in the form of NumPy functions specifically built to handle them, such as `nanmean()`."
      ]
    },
    {
      "cell_type": "code",
      "metadata": {
        "id": "RBG2dJZX8FSp",
        "outputId": "ba4b191a-5c5e-496d-d766-6e065241d2d1"
      },
      "source": [
        "print (np.nanmean(v))"
      ],
      "execution_count": null,
      "outputs": [
        {
          "output_type": "stream",
          "text": [
            "3.0\n"
          ],
          "name": "stdout"
        }
      ]
    },
    {
      "cell_type": "markdown",
      "metadata": {
        "id": "zDkmb0CwBxRs"
      },
      "source": [
        "**Ejemplo propio de las funciones de arriba teniendo el arreglo**\r\n",
        "\r\n",
        "\\begin{bmatrix}\r\n",
        "    1 & 2 & nan & 4 & 5 & 8 & 9 & nan \\\\\r\n",
        "  \\end{bmatrix}"
      ]
    },
    {
      "cell_type": "code",
      "metadata": {
        "colab": {
          "base_uri": "https://localhost:8080/"
        },
        "id": "suzuyke1C0AZ",
        "outputId": "959648e9-bec3-43e8-c7cd-23b37e602e69"
      },
      "source": [
        "w = np.array([1, 2, np.nan, 4, 5, 8, 9, np.nan])\r\n",
        "print (w)\r\n",
        "print(np.isnan(w))\r\n",
        "iy = ~np.isnan(w)\r\n",
        "print (w[iy])\r\n",
        "print (np.mean(w[iy]))\r\n",
        "print (np.nanmean(w))"
      ],
      "execution_count": 90,
      "outputs": [
        {
          "output_type": "stream",
          "text": [
            "[ 1.  2. nan  4.  5.  8.  9. nan]\n",
            "[False False  True False False False False  True]\n",
            "[1. 2. 4. 5. 8. 9.]\n",
            "4.833333333333333\n",
            "4.833333333333333\n"
          ],
          "name": "stdout"
        }
      ]
    },
    {
      "cell_type": "markdown",
      "metadata": {
        "id": "TprcxJMm8FSp"
      },
      "source": [
        "The `nanmean()` function simply calculates the mean of the array as if there were no `nan` values at all! There are a few more of these functions, so feel free to read more about them in the [documentation](https://docs.scipy.org/doc/numpy/user/index.html). These indeterminate values are more an issue with data than linear algebra itself so it is helpful that there are ways to handle them."
      ]
    },
    {
      "cell_type": "markdown",
      "metadata": {
        "id": "0xMC55QE8FSp"
      },
      "source": [
        "### Conclusion\n",
        "\n",
        "Linear algebra is pervasive in finance and in general. For example, the calculation of *optimal* weights according to modern portfolio theory is done using linear algebra techniques. The arrays and functions in NumPy allow us to handle these calculations in an intuitive way. For a quick intro to linear algebra and how to use NumPy to do more significant matrix calculations, proceed to the next section."
      ]
    },
    {
      "cell_type": "markdown",
      "metadata": {
        "id": "vebclhMw8FSp"
      },
      "source": [
        "## A brief foray into linear algebra\n",
        "\n",
        "Let's start with a basic overview of some linear algebra. Linear algebra comes down to the multiplication and composition of scalar and matrix values. A scalar value is just a real number that we multiply against an array. When we scale a matrix or array using a scalar, we multiply each individual element of that matrix or array by the scalar.\n",
        "\n",
        "A matrix is a collection of values, typically represented by an $m \\times n$ grid, where $m$ is the number of rows and $n$ is the number of columns. The edge lengths $m$ and $n$ do not necessarily have to be different. If we have $m = n$, we call this a square matrix. A particularly interesting case of a matrix is when $m = 1$ or $n = 1$. In this case we have a special case of a matrix that we call a vector. While there is a matrix object in NumPy we will be doing everything using NumPy arrays because they can have dimensions greater than $2$. For the purpose of this section, we will be using matrix and array interchangeably.\n",
        "\n",
        "We can express the matrix equation as:\n",
        "\n",
        "$$ y = A\\cdot x $$\n",
        "\n",
        "Where $A$ is an $m \\times n$ matrix, $y$ is a $m \\times 1$ vector, and $x$ is a $n \\times 1$ vector. On the right-hand side of the equation we are multiplying a matrix by a vector. This requires a little bit more clarification, lest we think that we can go about multiplying any matrices by any other matrices.\n",
        "\n",
        "#### Matrix multiplication\n",
        "\n",
        "With matrix multiplication, the order in which the matrices are multiplied matters. Multiplying a matrix on the left side by another matrix may be just fine, but multiplying on the right may be undefined."
      ]
    },
    {
      "cell_type": "code",
      "metadata": {
        "collapsed": true,
        "id": "CEwpZsQ78FSq"
      },
      "source": [
        "A = np.array([\n",
        "        [1, 2, 3, 12, 6],\n",
        "        [4, 5, 6, 15, 20],\n",
        "        [7, 8, 9, 10, 10]        \n",
        "    ])\n",
        "B = np.array([\n",
        "        [4, 4, 2],\n",
        "        [2, 3, 1],\n",
        "        [6, 5, 8],\n",
        "        [9, 9, 9],\n",
        "        [8,7,0]\n",
        "    ])"
      ],
      "execution_count": 114,
      "outputs": []
    },
    {
      "cell_type": "markdown",
      "metadata": {
        "id": "qe2n0JbzD6A7"
      },
      "source": [
        "**matrices de ejemplo**\r\n",
        "\r\n",
        "\\begin{bmatrix}\r\n",
        "    1 & 2 & 3 & 12 & 6 \\\\\r\n",
        "    4 & 5 & 6 & 15 & 20 \\\\\r\n",
        "    7 & 8 & 9 & 10 & 10\r\n",
        "\r\n",
        "  \\end{bmatrix}\r\n",
        "\r\n",
        "  \r\n",
        "\\begin{bmatrix}\r\n",
        "    4 & 4 & 2 \\\\\r\n",
        "    2 & 3 & 1 \\\\\r\n",
        "    6 & 5 & 8 \\\\\r\n",
        "    9 & 9 & 9 \\\\\r\n",
        "    8 & 7 & 0\r\n",
        "\r\n",
        "  \\end{bmatrix}"
      ]
    },
    {
      "cell_type": "code",
      "metadata": {
        "id": "xrIT-d8fFYmL"
      },
      "source": [
        "C = np.array([\r\n",
        "        [1, 2, 3, 12, 6],\r\n",
        "        [4, 5, 6, 15, 20],\r\n",
        "        [7, 8, 9, 10, 10]        \r\n",
        "    ])\r\n",
        "D = np.array([\r\n",
        "        [4, 4, 2],\r\n",
        "        [2, 3, 1],\r\n",
        "        [6, 5, 8],\r\n",
        "        [9, 9, 9],\r\n",
        "        [8,7,0]\r\n",
        "    ])"
      ],
      "execution_count": 119,
      "outputs": []
    },
    {
      "cell_type": "markdown",
      "metadata": {
        "id": "r7W3YnPG8FSq"
      },
      "source": [
        "Notice that the above-defined matrices, $A$ and $B$, have different dimensions. $A$ is $3 \\times 5$ and $B$ is $4 \\times 3$. The general rule of what can and cannot be multiplied in which order is based on the dimensions of the matrices. Specifically, the number of columns in the matrix on the left must be equal to the number of rows in the matrix on the right. In super informal terms, let's say that we have an $m \\times n$ matrix and a $p \\times q$ matrix. If we multiply the first by the second on the right, we get the following:\n",
        "\n",
        "$$ (m \\times n) \\cdot (p \\times q) = (m \\times q) $$\n",
        "\n",
        "So the resultant product has the same number of rows as the left matrix and the same number of columns as the right matrix. This limitation of matrix multiplication with regards to dimensions is important to keep track of when writing code. To demonstrate this, we use the `dot()` function to multiply our matrices below:"
      ]
    },
    {
      "cell_type": "code",
      "metadata": {
        "id": "VzrY9Z_M8FSq",
        "colab": {
          "base_uri": "https://localhost:8080/"
        },
        "outputId": "ebe4396a-b2ad-41e2-e26f-57be8e07576c"
      },
      "source": [
        "print (np.dot(A, B))"
      ],
      "execution_count": 115,
      "outputs": [
        {
          "output_type": "stream",
          "text": [
            "[[182 175 136]\n",
            " [357 336 196]\n",
            " [268 257 184]]\n"
          ],
          "name": "stdout"
        }
      ]
    },
    {
      "cell_type": "markdown",
      "metadata": {
        "id": "HPhyUrSJFUEr"
      },
      "source": [
        "**Ejemplo multiplicacion**"
      ]
    },
    {
      "cell_type": "code",
      "metadata": {
        "colab": {
          "base_uri": "https://localhost:8080/"
        },
        "id": "U7WqpBfKFRVE",
        "outputId": "b6ac4683-42b0-4930-9622-e039be024528"
      },
      "source": [
        "print (np.dot(C, D))"
      ],
      "execution_count": 120,
      "outputs": [
        {
          "output_type": "stream",
          "text": [
            "[[182 175 136]\n",
            " [357 336 196]\n",
            " [268 257 184]]\n"
          ],
          "name": "stdout"
        }
      ]
    },
    {
      "cell_type": "markdown",
      "metadata": {
        "id": "Y-qGkpRl8FSq"
      },
      "source": [
        "These results make sense in accordance with our rule. Multiplying a $3 \\times 5$ matrix on the right by a $4 \\times 3$ matrix results in an error while multiplying a $4 \\times 3$ matrix on the right by a $3 \\times 5$ matrix results in a $4 \\times 5$ matrix."
      ]
    },
    {
      "cell_type": "code",
      "metadata": {
        "id": "d_6oH8Ai8FSq",
        "colab": {
          "base_uri": "https://localhost:8080/"
        },
        "outputId": "d3b91c8f-219e-4620-93ea-0361048425a6"
      },
      "source": [
        "print (np.dot(B, A))"
      ],
      "execution_count": 121,
      "outputs": [
        {
          "output_type": "stream",
          "text": [
            "[[ 34  44  54 128 124]\n",
            " [ 21  27  33  79  82]\n",
            " [ 82 101 120 227 216]\n",
            " [108 135 162 333 324]\n",
            " [ 36  51  66 201 188]]\n"
          ],
          "name": "stdout"
        }
      ]
    },
    {
      "cell_type": "markdown",
      "metadata": {
        "id": "XFpeFZYUGS8y"
      },
      "source": [
        "**Ejemplo**"
      ]
    },
    {
      "cell_type": "code",
      "metadata": {
        "colab": {
          "base_uri": "https://localhost:8080/"
        },
        "id": "nGmj9BqNGSTD",
        "outputId": "9746b5ee-b38f-4d94-c773-c79ed2e55f62"
      },
      "source": [
        "print (np.dot(D, C))"
      ],
      "execution_count": 122,
      "outputs": [
        {
          "output_type": "stream",
          "text": [
            "[[ 34  44  54 128 124]\n",
            " [ 21  27  33  79  82]\n",
            " [ 82 101 120 227 216]\n",
            " [108 135 162 333 324]\n",
            " [ 36  51  66 201 188]]\n"
          ],
          "name": "stdout"
        }
      ]
    },
    {
      "cell_type": "markdown",
      "metadata": {
        "id": "MIyrJqoJ8FSq"
      },
      "source": [
        "### Portfolio Variance\n",
        "\n",
        "Let's return to our portfolio example from before. We calculated the expected return of the portfolio, but how do we calculate the variance? We start by trying to evaluate the portfolio as a sum of each individual asset, scaled by it's weight.\n",
        "\n",
        "$$ VAR[P] = VAR[\\omega_1 S_1 + \\omega_2 S_2 + \\cdots + \\omega_N S_N] $$\n",
        "\n",
        "Where $S_0, \\cdots, S_N$ are the assets contained within our universe. If all of our assets were independent of each other, we could simply evaluate this as\n",
        "\n",
        "$$ VAR[P] = VAR[\\omega_1 S_1] + VAR[\\omega_2 S_2] + \\cdots + VAR[\\omega_N S_N] = \\omega_1^2\\sigma_1^2 + \\omega_2^2\\sigma_2^2 + \\cdots + \\omega_N^2\\sigma_N^2 $$\n",
        "\n",
        "However, all of our assets depend on each other by their construction. They are all in some way related to our base asset and therefore each other. We thus have to calculate the variance of the portfolio by including the individual pairwise covariances of each asset. Our formula for the variance of the portfolio:\n",
        "\n",
        "$$ VAR[P] = \\sigma_P^2 = \\sum_i \\omega_i^2\\sigma_i^2 + \\sum_i\\sum_{i\\neq j} \\omega_i\\omega_j\\sigma_i\\sigma_j\\rho_{i, j}, \\ i, j \\in \\lbrace 1, 2, \\cdots, N \\rbrace $$\n",
        "\n",
        "Where $\\rho_{i,j}$ is the correlation between $S_i$ and $S_j$, $\\rho_{i, j} = \\frac{COV[S_i, S_j]}{\\sigma_i\\sigma_j}$. This seems exceedingly complicated, but we can easily handle all of this using NumPy arrays. First, we calculate the covariance matrix that relates all the individual stocks in our universe."
      ]
    },
    {
      "cell_type": "code",
      "metadata": {
        "id": "vwUGm_Td8FSq",
        "colab": {
          "base_uri": "https://localhost:8080/"
        },
        "outputId": "892cc94f-7713-4e59-c6c2-9739a20c0119"
      },
      "source": [
        "cov_mat = np.cov(returns)\n",
        "print (cov_mat)"
      ],
      "execution_count": 123,
      "outputs": [
        {
          "output_type": "stream",
          "text": [
            "[[ 8.63485288e-04  2.24752094e-05  1.04034781e-04 -4.72619149e-05\n",
            "  -8.90946709e-05 -3.75105456e-06  2.41801325e-05  3.39140441e-05\n",
            "   2.93382215e-07  4.39973630e-05]\n",
            " [ 2.24752094e-05  9.75391760e-04  6.87024190e-04  6.89669656e-04\n",
            "   8.04107892e-04  7.30913130e-04  6.02698422e-04  7.86347680e-04\n",
            "   7.94909989e-04  8.21255833e-04]\n",
            " [ 1.04034781e-04  6.87024190e-04  1.09413587e-03  7.44274631e-04\n",
            "   7.96553491e-04  7.27111586e-04  6.69329149e-04  8.19408664e-04\n",
            "   7.81320883e-04  7.65454036e-04]\n",
            " [-4.72619149e-05  6.89669656e-04  7.44274631e-04  1.17176947e-03\n",
            "   9.13417889e-04  7.73249254e-04  7.58770335e-04  8.07662574e-04\n",
            "   8.85479106e-04  8.64218690e-04]\n",
            " [-8.90946709e-05  8.04107892e-04  7.96553491e-04  9.13417889e-04\n",
            "   1.51504674e-03  9.66744072e-04  8.80580520e-04  9.56954348e-04\n",
            "   9.29649414e-04  1.00664882e-03]\n",
            " [-3.75105456e-06  7.30913130e-04  7.27111586e-04  7.73249254e-04\n",
            "   9.66744072e-04  1.30091325e-03  8.50215524e-04  7.40246480e-04\n",
            "   9.58781236e-04  8.81113740e-04]\n",
            " [ 2.41801325e-05  6.02698422e-04  6.69329149e-04  7.58770335e-04\n",
            "   8.80580520e-04  8.50215524e-04  1.13939371e-03  7.88894361e-04\n",
            "   8.41563315e-04  7.54961756e-04]\n",
            " [ 3.39140441e-05  7.86347680e-04  8.19408664e-04  8.07662574e-04\n",
            "   9.56954348e-04  7.40246480e-04  7.88894361e-04  1.42245792e-03\n",
            "   8.67136830e-04  9.73105130e-04]\n",
            " [ 2.93382215e-07  7.94909989e-04  7.81320883e-04  8.85479106e-04\n",
            "   9.29649414e-04  9.58781236e-04  8.41563315e-04  8.67136830e-04\n",
            "   1.28152699e-03  9.39122970e-04]\n",
            " [ 4.39973630e-05  8.21255833e-04  7.65454036e-04  8.64218690e-04\n",
            "   1.00664882e-03  8.81113740e-04  7.54961756e-04  9.73105130e-04\n",
            "   9.39122970e-04  1.24993517e-03]]\n"
          ],
          "name": "stdout"
        }
      ]
    },
    {
      "cell_type": "markdown",
      "metadata": {
        "id": "QWoxwVDAJSRc"
      },
      "source": [
        "**Ejemplo**"
      ]
    },
    {
      "cell_type": "code",
      "metadata": {
        "colab": {
          "base_uri": "https://localhost:8080/"
        },
        "id": "rv0lBGIlJUX7",
        "outputId": "5e135e1c-a852-4c6e-8eba-bced60596f92"
      },
      "source": [
        "cov_mat = np.cov(returns1)\r\n",
        "print (cov_mat)"
      ],
      "execution_count": 124,
      "outputs": [
        {
          "output_type": "stream",
          "text": [
            "[[0.00083538 0.00083831 0.00083402 0.00085176 0.00083801 0.00086416\n",
            "  0.0008328  0.00083496 0.00086206 0.00083121]\n",
            " [0.00083831 0.00122688 0.00083808 0.00085296 0.00084087 0.00086675\n",
            "  0.0008332  0.00084147 0.00087176 0.00082424]\n",
            " [0.00083402 0.00083808 0.00121453 0.00086259 0.0008176  0.00084527\n",
            "  0.00078888 0.00084468 0.0008609  0.00082295]\n",
            " [0.00085176 0.00085296 0.00086259 0.00125743 0.0008318  0.00089732\n",
            "  0.00082142 0.00084451 0.00088558 0.00085433]\n",
            " [0.00083801 0.00084087 0.0008176  0.0008318  0.00124513 0.00083034\n",
            "  0.00084672 0.00085008 0.00086049 0.00083671]\n",
            " [0.00086416 0.00086675 0.00084527 0.00089732 0.00083034 0.00127821\n",
            "  0.00086158 0.00086614 0.00090717 0.0008912 ]\n",
            " [0.0008328  0.0008332  0.00078888 0.00082142 0.00084672 0.00086158\n",
            "  0.001251   0.00083553 0.00087238 0.00084323]\n",
            " [0.00083496 0.00084147 0.00084468 0.00084451 0.00085008 0.00086614\n",
            "  0.00083553 0.00124896 0.00086216 0.00081336]\n",
            " [0.00086206 0.00087176 0.0008609  0.00088558 0.00086049 0.00090717\n",
            "  0.00087238 0.00086216 0.0012927  0.00086331]\n",
            " [0.00083121 0.00082424 0.00082295 0.00085433 0.00083671 0.0008912\n",
            "  0.00084323 0.00081336 0.00086331 0.00123593]]\n"
          ],
          "name": "stdout"
        }
      ]
    },
    {
      "cell_type": "markdown",
      "metadata": {
        "id": "E-VrBEJS8FSr"
      },
      "source": [
        "This array is not formatted particularly nicely, but a covariance matrix is a very important concept. The covariance matrix is of the form:\n",
        "\n",
        "$$ \\left[\\begin{matrix}\n",
        "VAR[S_1] & COV[S_1, S_2] & \\cdots & COV[S_1, S_N] \\\\\n",
        "COV[S_2, S_1] & VAR[S_2] & \\cdots & COV[S_2, S_N] \\\\\n",
        "\\vdots & \\vdots & \\ddots & \\vdots \\\\\n",
        "COV[S_N, S_1] & COV[S_N, S_2] & \\cdots & VAR[S_N]\n",
        "\\end{matrix}\\right] $$\n",
        "\n",
        "So each diagonal entry is the variance of that asset at that index and each off-diagonal holds the covariance of two assets indexed by the column and row number. What is important is that once we have the covariance matrix we are able to do some very quick linear algebra to calculate the variance of the overall portfolio. We can represent the variance of the portfolio in array form as:\n",
        "\n",
        "$$ \\sigma_p^2 = \\omega \\ C \\ \\omega^\\intercal$$\n",
        "\n",
        "Where $C$ is the covariance matrix of all the assets and $\\omega$ is the array containing the weights of each individual asset. The superscript $\\intercal$ on the second $\\omega$ listed above denotes the **transpose** of $\\omega$. For a reference on the evaluation of the variance of a portfolio as a matrix equation, please see the Wikipedia article on [modern portfolio theory](https://en.wikipedia.org/wiki/Modern_portfolio_theory).\n",
        "\n",
        "The transpose of an array is what you get when you switch the rows and columns of an array. This has the effect of reflecting an array across what you might imagine as a diagonal. For example, take our array $A$ from before:"
      ]
    },
    {
      "cell_type": "code",
      "metadata": {
        "id": "uTYnxky78FSr",
        "colab": {
          "base_uri": "https://localhost:8080/"
        },
        "outputId": "fc8c9171-bfdc-44ae-d6ef-83fc1ca8f14c"
      },
      "source": [
        "print (A)"
      ],
      "execution_count": 125,
      "outputs": [
        {
          "output_type": "stream",
          "text": [
            "[[ 1  2  3 12  6]\n",
            " [ 4  5  6 15 20]\n",
            " [ 7  8  9 10 10]]\n"
          ],
          "name": "stdout"
        }
      ]
    },
    {
      "cell_type": "markdown",
      "metadata": {
        "id": "yfuXkpi-8FSr"
      },
      "source": [
        "The transpose looks like a mirror image of the same array."
      ]
    },
    {
      "cell_type": "code",
      "metadata": {
        "id": "szsb4-et8FSr",
        "outputId": "aef011f4-5481-42ac-adce-c9c89555afdd"
      },
      "source": [
        "print (np.transpose(A))"
      ],
      "execution_count": null,
      "outputs": [
        {
          "output_type": "stream",
          "text": [
            "[[ 1  4  7]\n",
            " [ 2  5  8]\n",
            " [ 3  6  9]\n",
            " [12 15 10]\n",
            " [ 6 20 10]]\n"
          ],
          "name": "stdout"
        }
      ]
    },
    {
      "cell_type": "markdown",
      "metadata": {
        "id": "CZadsJEjJ18T"
      },
      "source": [
        "**Ejemplo**"
      ]
    },
    {
      "cell_type": "code",
      "metadata": {
        "colab": {
          "base_uri": "https://localhost:8080/"
        },
        "id": "taDnJIdTJ4jD",
        "outputId": "343e7df6-b7b0-419a-90e5-bf01efbb9837"
      },
      "source": [
        "print (D)\r\n",
        "print (np.transpose(D))"
      ],
      "execution_count": 129,
      "outputs": [
        {
          "output_type": "stream",
          "text": [
            "[[4 4 2]\n",
            " [2 3 1]\n",
            " [6 5 8]\n",
            " [9 9 9]\n",
            " [8 7 0]]\n",
            "[[4 2 6 9 8]\n",
            " [4 3 5 9 7]\n",
            " [2 1 8 9 0]]\n"
          ],
          "name": "stdout"
        }
      ]
    },
    {
      "cell_type": "markdown",
      "metadata": {
        "id": "-7KewkLu8FSr"
      },
      "source": [
        "But $\\omega$ here is a 1-dimensional array, a vector! It makes perfect to take the transpose of $A$, a $3 \\times 5$ array, as the output will be a $5 \\times 3$ array, but a 1-dimensional array is not quite as intuitive. A typical 1-dimensional array can be thought of as a $1 \\times n$ horizontal vector. Thus, taking the tranpose of this array essentially means changing it into a $n \\times 1$ vertical vector. This makes sense because 1-dimensional arrays are still arrays and any multiplication done between 1-dimensional and higher dimensional arrays must keep in line with our dimensionality issue of matrix multiplication.\n",
        "\n",
        "To make a long story short, we think of $\\omega$ as $1 \\times N$ since we have $N$ securities. This makes it so that $\\omega^\\intercal$ is $N \\times 1$. Again, our covariance matrix is $N \\times N$. So the overall multiplication works out like so, in informal terms:\n",
        "\n",
        "$$ \\text{Dimensions}(\\sigma_p^2) = \\text{Dimensions}(\\omega C \\omega^\\intercal) = (1 \\times N)\\cdot (N \\times N)\\cdot (N \\times 1) = (1 \\times 1)$$\n",
        "\n",
        "Multiplying the covariance matrix on the left by the plain horizontal vector and on the right by that vector's transpose results in the calculation of a single scalar ($1 \\times 1$) value, our portfolio's variance.\n",
        "\n",
        "So knowing this, let's proceed and calculate the portfolio variance! We can easily calculate the product of these arrays by using `dot()` for matrix multiplication, though this time we have to do it twice."
      ]
    },
    {
      "cell_type": "code",
      "metadata": {
        "scrolled": false,
        "id": "I4bfmhvS8FSr",
        "colab": {
          "base_uri": "https://localhost:8080/"
        },
        "outputId": "70c5c35a-5349-4e49-db3c-141a5186e444"
      },
      "source": [
        "# Calculating the portfolio volatility\n",
        "var_p = np.dot(np.dot(weights, cov_mat), weights.T)\n",
        "vol_p = np.sqrt(var_p)\n",
        "print (\"Portfolio volatility: \", vol_p)"
      ],
      "execution_count": 130,
      "outputs": [
        {
          "output_type": "stream",
          "text": [
            "Portfolio volatility:  0.029984570147968473\n"
          ],
          "name": "stdout"
        }
      ]
    },
    {
      "cell_type": "markdown",
      "metadata": {
        "id": "Hl9oNPVHKb3k"
      },
      "source": [
        "**Ejemplo**"
      ]
    },
    {
      "cell_type": "code",
      "metadata": {
        "colab": {
          "base_uri": "https://localhost:8080/"
        },
        "id": "uIWSBzPBKdl0",
        "outputId": "9f490a38-2ba6-4f5f-ff50-29d7f493ac25"
      },
      "source": [
        "# Calculating the portfolio volatility\r\n",
        "var_c = np.dot(np.dot(weights1, cov_mat), weights1.T)\r\n",
        "vol_c = np.sqrt(var_c)\r\n",
        "print (\"Portfolio volatility: \", vol_c)"
      ],
      "execution_count": 131,
      "outputs": [
        {
          "output_type": "stream",
          "text": [
            "Portfolio volatility:  0.029862932516554065\n"
          ],
          "name": "stdout"
        }
      ]
    },
    {
      "cell_type": "markdown",
      "metadata": {
        "id": "A5OwTaf48FSs"
      },
      "source": [
        "To confirm this calculation, let's simply evaluate the volatility of the portfolio using only NumPy functions."
      ]
    },
    {
      "cell_type": "code",
      "metadata": {
        "id": "a39ARGhG8FSs",
        "outputId": "0ae1f051-a200-4903-c06c-db9dfad5cea9"
      },
      "source": [
        "# Confirming calculation\n",
        "vol_p_alt = np.sqrt(np.var(np.dot(weights, returns), ddof=1))\n",
        "print (\"Portfolio volatility: \", vol_p_alt)"
      ],
      "execution_count": null,
      "outputs": [
        {
          "output_type": "stream",
          "text": [
            "Portfolio volatility:  0.0297400694577\n"
          ],
          "name": "stdout"
        }
      ]
    },
    {
      "cell_type": "markdown",
      "metadata": {
        "id": "dz-HZT3GKouc"
      },
      "source": [
        "**Ejemplo**"
      ]
    },
    {
      "cell_type": "code",
      "metadata": {
        "colab": {
          "base_uri": "https://localhost:8080/"
        },
        "id": "tIHDU4s0Kl_8",
        "outputId": "2ad08fa0-cdba-4758-fb11-cdf7dd3ead2f"
      },
      "source": [
        "# Confirming calculation\r\n",
        "vol_p_alt1 = np.sqrt(np.var(np.dot(weights1, returns1), ddof=1))\r\n",
        "print (\"Portfolio volatility: \", vol_p_alt1)"
      ],
      "execution_count": 132,
      "outputs": [
        {
          "output_type": "stream",
          "text": [
            "Portfolio volatility:  0.02986293251655406\n"
          ],
          "name": "stdout"
        }
      ]
    },
    {
      "cell_type": "markdown",
      "metadata": {
        "id": "zQxdaUYq8FSs"
      },
      "source": [
        "The `ddof` parameter is a simple integer input that tells the function the number of degrees of freedom to take into account. This is a more statistical concept, but what this tells us that our matrix calculation is correct!\n",
        "\n",
        "A lot of this might not make sense at first glance. It helps to go back and forth between the theory and the code representations until you have a better grasp of the mathematics involved. It is definitely not necessary to be an expert on linear algebra and on matrix operations, but linear algebra can help to streamline the process of working with large amounts of data. For further reading on NumPy, check out the [documentation](https://docs.scipy.org/doc/numpy/user/index.html)."
      ]
    },
    {
      "cell_type": "markdown",
      "metadata": {
        "id": "U57fnqx08FSs"
      },
      "source": [
        "*This presentation is for informational purposes only and does not constitute an offer to sell, a solicitation to buy, or a recommendation for any security; nor does it constitute an offer to provide investment advisory or other services by Quantopian, Inc. (\"Quantopian\"). Nothing contained herein constitutes investment advice or offers any opinion with respect to the suitability of any security, and any views expressed herein should not be taken as advice to buy, sell, or hold any security or as an endorsement of any security or company.  In preparing the information contained herein, Quantopian, Inc. has not taken into account the investment needs, objectives, and financial circumstances of any particular investor. Any views expressed and data illustrated herein were prepared based upon information, believed to be reliable, available to Quantopian, Inc. at the time of publication. Quantopian makes no guarantees as to their accuracy or completeness. All information is subject to change and may quickly become unreliable for various reasons, including changes in market conditions or economic circumstances.*"
      ]
    }
  ]
}